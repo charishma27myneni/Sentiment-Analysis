{
 "cells": [
  {
   "cell_type": "markdown",
   "id": "5cc4d4e9",
   "metadata": {
    "id": "5cc4d4e9"
   },
   "source": [
    "### Import Libraries"
   ]
  },
  {
   "cell_type": "code",
   "execution_count": 4,
   "id": "246b25bb",
   "metadata": {
    "executionInfo": {
     "elapsed": 5056,
     "status": "ok",
     "timestamp": 1700661565461,
     "user": {
      "displayName": "Pulavendran S",
      "userId": "09545379829326731753"
     },
     "user_tz": -330
    },
    "id": "246b25bb"
   },
   "outputs": [],
   "source": [
    "import warnings\n",
    "warnings.filterwarnings(\"ignore\")\n",
    "\n",
    "import pandas as pd\n",
    "import numpy as np\n",
    "import matplotlib.pyplot as plt\n",
    "%matplotlib inline\n",
    "from lib_file import lib_path\n",
    "import seaborn as sns\n",
    "import pickle\n",
    "from sklearn.model_selection import train_test_split\n",
    "from sklearn.metrics import accuracy_score,classification_report,confusion_matrix\n",
    "import tensorflow as tf\n",
    "from tensorflow.keras.utils import to_categorical\n",
    "from tensorflow.keras.preprocessing.text import Tokenizer\n",
    "from tensorflow.keras.preprocessing.sequence import pad_sequences"
   ]
  },
  {
   "cell_type": "markdown",
   "id": "b7144917",
   "metadata": {
    "id": "b7144917"
   },
   "source": [
    "### Data Loading"
   ]
  },
  {
   "cell_type": "code",
   "execution_count": 5,
   "id": "0351f152",
   "metadata": {
    "executionInfo": {
     "elapsed": 888,
     "status": "ok",
     "timestamp": 1700661581682,
     "user": {
      "displayName": "Pulavendran S",
      "userId": "09545379829326731753"
     },
     "user_tz": -330
    },
    "id": "0351f152"
   },
   "outputs": [],
   "source": [
    "df=pd.read_csv(\"processed_data.csv\")"
   ]
  },
  {
   "cell_type": "code",
   "execution_count": 6,
   "id": "4d250b5b",
   "metadata": {
    "colab": {
     "base_uri": "https://localhost:8080/"
    },
    "executionInfo": {
     "elapsed": 4,
     "status": "ok",
     "timestamp": 1700661583246,
     "user": {
      "displayName": "Pulavendran S",
      "userId": "09545379829326731753"
     },
     "user_tz": -330
    },
    "id": "4d250b5b",
    "outputId": "d95567ac-bb39-4642-eeed-84785db2f80a"
   },
   "outputs": [
    {
     "data": {
      "text/plain": [
       "(10000, 2)"
      ]
     },
     "execution_count": 6,
     "metadata": {},
     "output_type": "execute_result"
    }
   ],
   "source": [
    "df.shape"
   ]
  },
  {
   "cell_type": "code",
   "execution_count": 7,
   "id": "7aa4bf78",
   "metadata": {
    "colab": {
     "base_uri": "https://localhost:8080/",
     "height": 206
    },
    "executionInfo": {
     "elapsed": 9,
     "status": "ok",
     "timestamp": 1700661584194,
     "user": {
      "displayName": "Pulavendran S",
      "userId": "09545379829326731753"
     },
     "user_tz": -330
    },
    "id": "7aa4bf78",
    "outputId": "e4bfed47-8017-43b6-bc12-f80f65eeb60c"
   },
   "outputs": [
    {
     "data": {
      "text/html": [
       "\n",
       "  <div id=\"df-c1f815b0-68a1-4881-a3fd-74540bb12530\" class=\"colab-df-container\">\n",
       "    <div>\n",
       "<style scoped>\n",
       "    .dataframe tbody tr th:only-of-type {\n",
       "        vertical-align: middle;\n",
       "    }\n",
       "\n",
       "    .dataframe tbody tr th {\n",
       "        vertical-align: top;\n",
       "    }\n",
       "\n",
       "    .dataframe thead th {\n",
       "        text-align: right;\n",
       "    }\n",
       "</style>\n",
       "<table border=\"1\" class=\"dataframe\">\n",
       "  <thead>\n",
       "    <tr style=\"text-align: right;\">\n",
       "      <th></th>\n",
       "      <th>cleaned_text</th>\n",
       "      <th>sentiment</th>\n",
       "    </tr>\n",
       "  </thead>\n",
       "  <tbody>\n",
       "    <tr>\n",
       "      <th>0</th>\n",
       "      <td>device take huge amount battery thought id try...</td>\n",
       "      <td>positive</td>\n",
       "    </tr>\n",
       "    <tr>\n",
       "      <th>1</th>\n",
       "      <td>always bought nabis lasted couple year grandki...</td>\n",
       "      <td>negative</td>\n",
       "    </tr>\n",
       "    <tr>\n",
       "      <th>2</th>\n",
       "      <td>work great</td>\n",
       "      <td>positive</td>\n",
       "    </tr>\n",
       "    <tr>\n",
       "      <th>3</th>\n",
       "      <td>cant beat price bought best buy held well insi...</td>\n",
       "      <td>negative</td>\n",
       "    </tr>\n",
       "    <tr>\n",
       "      <th>4</th>\n",
       "      <td>really impressed item pretty slow</td>\n",
       "      <td>negative</td>\n",
       "    </tr>\n",
       "  </tbody>\n",
       "</table>\n",
       "</div>\n",
       "    <div class=\"colab-df-buttons\">\n",
       "\n",
       "  <div class=\"colab-df-container\">\n",
       "    <button class=\"colab-df-convert\" onclick=\"convertToInteractive('df-c1f815b0-68a1-4881-a3fd-74540bb12530')\"\n",
       "            title=\"Convert this dataframe to an interactive table.\"\n",
       "            style=\"display:none;\">\n",
       "\n",
       "  <svg xmlns=\"http://www.w3.org/2000/svg\" height=\"24px\" viewBox=\"0 -960 960 960\">\n",
       "    <path d=\"M120-120v-720h720v720H120Zm60-500h600v-160H180v160Zm220 220h160v-160H400v160Zm0 220h160v-160H400v160ZM180-400h160v-160H180v160Zm440 0h160v-160H620v160ZM180-180h160v-160H180v160Zm440 0h160v-160H620v160Z\"/>\n",
       "  </svg>\n",
       "    </button>\n",
       "\n",
       "  <style>\n",
       "    .colab-df-container {\n",
       "      display:flex;\n",
       "      gap: 12px;\n",
       "    }\n",
       "\n",
       "    .colab-df-convert {\n",
       "      background-color: #E8F0FE;\n",
       "      border: none;\n",
       "      border-radius: 50%;\n",
       "      cursor: pointer;\n",
       "      display: none;\n",
       "      fill: #1967D2;\n",
       "      height: 32px;\n",
       "      padding: 0 0 0 0;\n",
       "      width: 32px;\n",
       "    }\n",
       "\n",
       "    .colab-df-convert:hover {\n",
       "      background-color: #E2EBFA;\n",
       "      box-shadow: 0px 1px 2px rgba(60, 64, 67, 0.3), 0px 1px 3px 1px rgba(60, 64, 67, 0.15);\n",
       "      fill: #174EA6;\n",
       "    }\n",
       "\n",
       "    .colab-df-buttons div {\n",
       "      margin-bottom: 4px;\n",
       "    }\n",
       "\n",
       "    [theme=dark] .colab-df-convert {\n",
       "      background-color: #3B4455;\n",
       "      fill: #D2E3FC;\n",
       "    }\n",
       "\n",
       "    [theme=dark] .colab-df-convert:hover {\n",
       "      background-color: #434B5C;\n",
       "      box-shadow: 0px 1px 3px 1px rgba(0, 0, 0, 0.15);\n",
       "      filter: drop-shadow(0px 1px 2px rgba(0, 0, 0, 0.3));\n",
       "      fill: #FFFFFF;\n",
       "    }\n",
       "  </style>\n",
       "\n",
       "    <script>\n",
       "      const buttonEl =\n",
       "        document.querySelector('#df-c1f815b0-68a1-4881-a3fd-74540bb12530 button.colab-df-convert');\n",
       "      buttonEl.style.display =\n",
       "        google.colab.kernel.accessAllowed ? 'block' : 'none';\n",
       "\n",
       "      async function convertToInteractive(key) {\n",
       "        const element = document.querySelector('#df-c1f815b0-68a1-4881-a3fd-74540bb12530');\n",
       "        const dataTable =\n",
       "          await google.colab.kernel.invokeFunction('convertToInteractive',\n",
       "                                                    [key], {});\n",
       "        if (!dataTable) return;\n",
       "\n",
       "        const docLinkHtml = 'Like what you see? Visit the ' +\n",
       "          '<a target=\"_blank\" href=https://colab.research.google.com/notebooks/data_table.ipynb>data table notebook</a>'\n",
       "          + ' to learn more about interactive tables.';\n",
       "        element.innerHTML = '';\n",
       "        dataTable['output_type'] = 'display_data';\n",
       "        await google.colab.output.renderOutput(dataTable, element);\n",
       "        const docLink = document.createElement('div');\n",
       "        docLink.innerHTML = docLinkHtml;\n",
       "        element.appendChild(docLink);\n",
       "      }\n",
       "    </script>\n",
       "  </div>\n",
       "\n",
       "\n",
       "<div id=\"df-7c57ddb8-93d6-46c7-b777-6286bf95fce7\">\n",
       "  <button class=\"colab-df-quickchart\" onclick=\"quickchart('df-7c57ddb8-93d6-46c7-b777-6286bf95fce7')\"\n",
       "            title=\"Suggest charts\"\n",
       "            style=\"display:none;\">\n",
       "\n",
       "<svg xmlns=\"http://www.w3.org/2000/svg\" height=\"24px\"viewBox=\"0 0 24 24\"\n",
       "     width=\"24px\">\n",
       "    <g>\n",
       "        <path d=\"M19 3H5c-1.1 0-2 .9-2 2v14c0 1.1.9 2 2 2h14c1.1 0 2-.9 2-2V5c0-1.1-.9-2-2-2zM9 17H7v-7h2v7zm4 0h-2V7h2v10zm4 0h-2v-4h2v4z\"/>\n",
       "    </g>\n",
       "</svg>\n",
       "  </button>\n",
       "\n",
       "<style>\n",
       "  .colab-df-quickchart {\n",
       "      --bg-color: #E8F0FE;\n",
       "      --fill-color: #1967D2;\n",
       "      --hover-bg-color: #E2EBFA;\n",
       "      --hover-fill-color: #174EA6;\n",
       "      --disabled-fill-color: #AAA;\n",
       "      --disabled-bg-color: #DDD;\n",
       "  }\n",
       "\n",
       "  [theme=dark] .colab-df-quickchart {\n",
       "      --bg-color: #3B4455;\n",
       "      --fill-color: #D2E3FC;\n",
       "      --hover-bg-color: #434B5C;\n",
       "      --hover-fill-color: #FFFFFF;\n",
       "      --disabled-bg-color: #3B4455;\n",
       "      --disabled-fill-color: #666;\n",
       "  }\n",
       "\n",
       "  .colab-df-quickchart {\n",
       "    background-color: var(--bg-color);\n",
       "    border: none;\n",
       "    border-radius: 50%;\n",
       "    cursor: pointer;\n",
       "    display: none;\n",
       "    fill: var(--fill-color);\n",
       "    height: 32px;\n",
       "    padding: 0;\n",
       "    width: 32px;\n",
       "  }\n",
       "\n",
       "  .colab-df-quickchart:hover {\n",
       "    background-color: var(--hover-bg-color);\n",
       "    box-shadow: 0 1px 2px rgba(60, 64, 67, 0.3), 0 1px 3px 1px rgba(60, 64, 67, 0.15);\n",
       "    fill: var(--button-hover-fill-color);\n",
       "  }\n",
       "\n",
       "  .colab-df-quickchart-complete:disabled,\n",
       "  .colab-df-quickchart-complete:disabled:hover {\n",
       "    background-color: var(--disabled-bg-color);\n",
       "    fill: var(--disabled-fill-color);\n",
       "    box-shadow: none;\n",
       "  }\n",
       "\n",
       "  .colab-df-spinner {\n",
       "    border: 2px solid var(--fill-color);\n",
       "    border-color: transparent;\n",
       "    border-bottom-color: var(--fill-color);\n",
       "    animation:\n",
       "      spin 1s steps(1) infinite;\n",
       "  }\n",
       "\n",
       "  @keyframes spin {\n",
       "    0% {\n",
       "      border-color: transparent;\n",
       "      border-bottom-color: var(--fill-color);\n",
       "      border-left-color: var(--fill-color);\n",
       "    }\n",
       "    20% {\n",
       "      border-color: transparent;\n",
       "      border-left-color: var(--fill-color);\n",
       "      border-top-color: var(--fill-color);\n",
       "    }\n",
       "    30% {\n",
       "      border-color: transparent;\n",
       "      border-left-color: var(--fill-color);\n",
       "      border-top-color: var(--fill-color);\n",
       "      border-right-color: var(--fill-color);\n",
       "    }\n",
       "    40% {\n",
       "      border-color: transparent;\n",
       "      border-right-color: var(--fill-color);\n",
       "      border-top-color: var(--fill-color);\n",
       "    }\n",
       "    60% {\n",
       "      border-color: transparent;\n",
       "      border-right-color: var(--fill-color);\n",
       "    }\n",
       "    80% {\n",
       "      border-color: transparent;\n",
       "      border-right-color: var(--fill-color);\n",
       "      border-bottom-color: var(--fill-color);\n",
       "    }\n",
       "    90% {\n",
       "      border-color: transparent;\n",
       "      border-bottom-color: var(--fill-color);\n",
       "    }\n",
       "  }\n",
       "</style>\n",
       "\n",
       "  <script>\n",
       "    async function quickchart(key) {\n",
       "      const quickchartButtonEl =\n",
       "        document.querySelector('#' + key + ' button');\n",
       "      quickchartButtonEl.disabled = true;  // To prevent multiple clicks.\n",
       "      quickchartButtonEl.classList.add('colab-df-spinner');\n",
       "      try {\n",
       "        const charts = await google.colab.kernel.invokeFunction(\n",
       "            'suggestCharts', [key], {});\n",
       "      } catch (error) {\n",
       "        console.error('Error during call to suggestCharts:', error);\n",
       "      }\n",
       "      quickchartButtonEl.classList.remove('colab-df-spinner');\n",
       "      quickchartButtonEl.classList.add('colab-df-quickchart-complete');\n",
       "    }\n",
       "    (() => {\n",
       "      let quickchartButtonEl =\n",
       "        document.querySelector('#df-7c57ddb8-93d6-46c7-b777-6286bf95fce7 button');\n",
       "      quickchartButtonEl.style.display =\n",
       "        google.colab.kernel.accessAllowed ? 'block' : 'none';\n",
       "    })();\n",
       "  </script>\n",
       "</div>\n",
       "    </div>\n",
       "  </div>\n"
      ],
      "text/plain": [
       "                                        cleaned_text sentiment\n",
       "0  device take huge amount battery thought id try...  positive\n",
       "1  always bought nabis lasted couple year grandki...  negative\n",
       "2                                         work great  positive\n",
       "3  cant beat price bought best buy held well insi...  negative\n",
       "4                  really impressed item pretty slow  negative"
      ]
     },
     "execution_count": 7,
     "metadata": {},
     "output_type": "execute_result"
    }
   ],
   "source": [
    "df.head()"
   ]
  },
  {
   "cell_type": "code",
   "execution_count": 8,
   "id": "31a957bc",
   "metadata": {
    "executionInfo": {
     "elapsed": 446,
     "status": "ok",
     "timestamp": 1700661590254,
     "user": {
      "displayName": "Pulavendran S",
      "userId": "09545379829326731753"
     },
     "user_tz": -330
    },
    "id": "31a957bc"
   },
   "outputs": [],
   "source": [
    "tok=Tokenizer()\n",
    "tok.fit_on_texts(df[\"cleaned_text\"])"
   ]
  },
  {
   "cell_type": "code",
   "execution_count": 9,
   "id": "f2a872bd",
   "metadata": {
    "colab": {
     "base_uri": "https://localhost:8080/"
    },
    "executionInfo": {
     "elapsed": 631,
     "status": "ok",
     "timestamp": 1700661592792,
     "user": {
      "displayName": "Pulavendran S",
      "userId": "09545379829326731753"
     },
     "user_tz": -330
    },
    "id": "f2a872bd",
    "outputId": "c6eb53c1-c7b5-4d3f-9157-58cb03b16938"
   },
   "outputs": [
    {
     "name": "stdout",
     "output_type": "stream",
     "text": [
      "[[39, 97, 614, 206, 1, 126, 294, 258, 28, 19, 226, 22, 9, 1], [114, 18, 1953, 49, 193, 32, 1612, 62, 18, 946, 32, 77, 579, 775, 1954, 49, 36, 470, 85, 35, 631, 20, 63, 1955, 210, 1956, 1116, 21, 186], [6, 2], [40, 134, 4, 18, 65, 10, 984, 19, 373, 3784, 150, 18, 88, 111, 1117, 175, 387, 709, 914, 2518, 81, 68, 252, 137, 915, 1165, 751, 1307, 671, 347, 726, 374], [46, 330, 62, 147, 127]]\n"
     ]
    }
   ],
   "source": [
    "num_data=tok.texts_to_sequences(df[\"cleaned_text\"])\n",
    "print(num_data[:5])"
   ]
  },
  {
   "cell_type": "code",
   "execution_count": 10,
   "id": "325a12ee",
   "metadata": {
    "colab": {
     "base_uri": "https://localhost:8080/"
    },
    "executionInfo": {
     "elapsed": 6,
     "status": "ok",
     "timestamp": 1700661595963,
     "user": {
      "displayName": "Pulavendran S",
      "userId": "09545379829326731753"
     },
     "user_tz": -330
    },
    "id": "325a12ee",
    "outputId": "ad18dfd4-954f-4d81-85d9-ed0add6ff6b2"
   },
   "outputs": [
    {
     "name": "stdout",
     "output_type": "stream",
     "text": [
      "Unique tokens size are 4773.\n"
     ]
    }
   ],
   "source": [
    "vocab_size=len(tok.word_index)+1\n",
    "print(\"Unique tokens size are {}.\".format(vocab_size))"
   ]
  },
  {
   "cell_type": "code",
   "execution_count": 11,
   "id": "b7fb6347",
   "metadata": {
    "colab": {
     "base_uri": "https://localhost:8080/"
    },
    "executionInfo": {
     "elapsed": 12,
     "status": "ok",
     "timestamp": 1700661599161,
     "user": {
      "displayName": "Pulavendran S",
      "userId": "09545379829326731753"
     },
     "user_tz": -330
    },
    "id": "b7fb6347",
    "outputId": "46d50e84-a451-4925-861a-24a8642226a0"
   },
   "outputs": [
    {
     "data": {
      "text/plain": [
       "dict_items([('battery', 1), ('great', 2), ('good', 3), ('price', 4), ('last', 5), ('work', 6), ('long', 7), ('amazon', 8), ('brand', 9), ('buy', 10), ('dont', 11), ('tablet', 12), ('use', 13), ('time', 14), ('product', 15), ('one', 16), ('like', 17), ('bought', 18), ('well', 19), ('would', 20), ('get', 21), ('name', 22), ('used', 23), ('kid', 24), ('duracell', 25), ('quality', 26), ('value', 27), ('seem', 28), ('better', 29), ('remote', 30), ('week', 31), ('year', 32), ('much', 33), ('life', 34), ('day', 35), ('month', 36), ('need', 37), ('store', 38), ('device', 39), ('cant', 40), ('far', 41), ('im', 42), ('got', 43), ('deal', 44), ('money', 45), ('really', 46), ('go', 47), ('purchase', 48), ('lasted', 49), ('ive', 50), ('love', 51), ('put', 52), ('lot', 53), ('never', 54), ('aa', 55), ('purchased', 56), ('fine', 57), ('still', 58), ('box', 59), ('fire', 60), ('cheap', 61), ('item', 62), ('charge', 63), ('didnt', 64), ('best', 65), ('even', 66), ('apps', 67), ('back', 68), ('basic', 69), ('pack', 70), ('little', 71), ('thing', 72), ('energizer', 73), ('light', 74), ('toy', 75), ('using', 76), ('old', 77), ('game', 78), ('hour', 79), ('kindle', 80), ('power', 81), ('dead', 82), ('le', 83), ('every', 84), ('two', 85), ('buying', 86), ('recommend', 87), ('screen', 88), ('first', 89), ('way', 90), ('many', 91), ('say', 92), ('could', 93), ('problem', 94), ('bad', 95), ('set', 96), ('take', 97), ('sure', 98), ('play', 99), ('fast', 100), ('going', 101), ('longer', 102), ('new', 103), ('also', 104), ('worked', 105), ('aaa', 106), ('working', 107), ('disappointed', 108), ('ipad', 109), ('lasting', 110), ('nice', 111), ('half', 112), ('tried', 113), ('always', 114), ('make', 115), ('doesnt', 116), ('know', 117), ('ok', 118), ('wont', 119), ('review', 120), ('camera', 121), ('pay', 122), ('quickly', 123), ('come', 124), ('expected', 125), ('thought', 126), ('slow', 127), ('low', 128), ('several', 129), ('tv', 130), ('find', 131), ('since', 132), ('replace', 133), ('beat', 134), ('run', 135), ('easy', 136), ('ever', 137), ('return', 138), ('big', 139), ('christmas', 140), ('theyre', 141), ('packaging', 142), ('think', 143), ('cheaper', 144), ('issue', 145), ('want', 146), ('pretty', 147), ('cost', 148), ('maybe', 149), ('case', 150), ('ill', 151), ('controller', 152), ('child', 153), ('seems', 154), ('performance', 155), ('mouse', 156), ('around', 157), ('found', 158), ('son', 159), ('worth', 160), ('getting', 161), ('excellent', 162), ('something', 163), ('another', 164), ('already', 165), ('keep', 166), ('order', 167), ('expensive', 168), ('amazonbasics', 169), ('see', 170), ('right', 171), ('happy', 172), ('give', 173), ('google', 174), ('however', 175), ('charging', 176), ('came', 177), ('decent', 178), ('die', 179), ('different', 180), ('enough', 181), ('hand', 182), ('worst', 183), ('havent', 184), ('wouldnt', 185), ('replaced', 186), ('candle', 187), ('flashlight', 188), ('change', 189), ('house', 190), ('size', 191), ('read', 192), ('couple', 193), ('package', 194), ('minute', 195), ('hold', 196), ('probably', 197), ('wireless', 198), ('gift', 199), ('yet', 200), ('nothing', 201), ('anything', 202), ('short', 203), ('free', 204), ('returned', 205), ('amount', 206), ('app', 207), ('compared', 208), ('friendly', 209), ('went', 210), ('though', 211), ('wrong', 212), ('hard', 213), ('clock', 214), ('difference', 215), ('four', 216), ('others', 217), ('alkaline', 218), ('xbox', 219), ('control', 220), ('star', 221), ('thats', 222), ('definitely', 223), ('made', 224), ('small', 225), ('top', 226), ('dollar', 227), ('waste', 228), ('movie', 229), ('wanted', 230), ('daughter', 231), ('may', 232), ('batch', 233), ('feel', 234), ('started', 235), ('internet', 236), ('leaked', 237), ('able', 238), ('charger', 239), ('usually', 240), ('three', 241), ('everything', 242), ('bit', 243), ('etc', 244), ('awesome', 245), ('within', 246), ('took', 247), ('book', 248), ('wish', 249), ('open', 250), ('next', 251), ('without', 252), ('terrible', 253), ('almost', 254), ('stick', 255), ('expect', 256), ('turn', 257), ('try', 258), ('needed', 259), ('port', 260), ('complaint', 261), ('android', 262), ('look', 263), ('full', 264), ('reading', 265), ('video', 266), ('user', 267), ('keyboard', 268), ('isnt', 269), ('save', 270), ('described', 271), ('job', 272), ('major', 273), ('often', 274), ('arrived', 275), ('ordered', 276), ('perfect', 277), ('warranty', 278), ('thanks', 279), ('tell', 280), ('second', 281), ('bulk', 282), ('duracells', 283), ('trying', 284), ('us', 285), ('high', 286), ('regular', 287), ('died', 288), ('limited', 289), ('packaged', 290), ('leak', 291), ('else', 292), ('storage', 293), ('id', 294), ('reason', 295), ('help', 296), ('rechargeable', 297), ('experience', 298), ('available', 299), ('home', 300), ('version', 301), ('highly', 302), ('feature', 303), ('received', 304), ('service', 305), ('quick', 306), ('super', 307), ('quite', 308), ('sound', 309), ('perform', 310), ('u', 311), ('night', 312), ('ad', 313), ('charged', 314), ('away', 315), ('actually', 316), ('poor', 317), ('said', 318), ('purchasing', 319), ('later', 320), ('download', 321), ('acid', 322), ('led', 323), ('fit', 324), ('tested', 325), ('junk', 326), ('spend', 327), ('samsung', 328), ('yr', 329), ('impressed', 330), ('electronics', 331), ('advertised', 332), ('amazing', 333), ('difficult', 334), ('hd', 335), ('extra', 336), ('plastic', 337), ('show', 338), ('shipping', 339), ('returning', 340), ('looking', 341), ('phone', 342), ('netflix', 343), ('priced', 344), ('overall', 345), ('computer', 346), ('replacement', 347), ('close', 348), ('noticed', 349), ('costco', 350), ('faster', 351), ('drain', 352), ('point', 353), ('gave', 354), ('prime', 355), ('speaker', 356), ('test', 357), ('sale', 358), ('inexpensive', 359), ('online', 360), ('strong', 361), ('past', 362), ('leaking', 363), ('shelf', 364), ('done', 365), ('wifi', 366), ('delivery', 367), ('stuff', 368), ('especially', 369), ('operated', 370), ('future', 371), ('option', 372), ('inside', 373), ('affordable', 374), ('instead', 375), ('seemed', 376), ('end', 377), ('ordering', 378), ('opened', 379), ('ago', 380), ('sometimes', 381), ('wasnt', 382), ('customer', 383), ('exactly', 384), ('rather', 385), ('left', 386), ('unit', 387), ('stopped', 388), ('quantity', 389), ('decided', 390), ('guess', 391), ('start', 392), ('ended', 393), ('disappointing', 394), ('least', 395), ('load', 396), ('soon', 397), ('yes', 398), ('easier', 399), ('paid', 400), ('watch', 401), ('changed', 402), ('extremely', 403), ('either', 404), ('simply', 405), ('offer', 406), ('comparable', 407), ('apple', 408), ('black', 409), ('standard', 410), ('must', 411), ('frustrating', 412), ('larger', 413), ('higher', 414), ('turned', 415), ('hoping', 416), ('compare', 417), ('th', 418), ('perfectly', 419), ('simple', 420), ('account', 421), ('couldnt', 422), ('fully', 423), ('lower', 424), ('let', 425), ('nearly', 426), ('part', 427), ('none', 428), ('kept', 429), ('o', 430), ('original', 431), ('pair', 432), ('powered', 433), ('horrible', 434), ('there', 435), ('happened', 436), ('arent', 437), ('anyone', 438), ('date', 439), ('normally', 440), ('thank', 441), ('smaller', 442), ('twice', 443), ('switch', 444), ('today', 445), ('hope', 446), ('mini', 447), ('card', 448), ('trouble', 449), ('wait', 450), ('real', 451), ('playing', 452), ('freeze', 453), ('anywhere', 454), ('side', 455), ('tap', 456), ('constantly', 457), ('fix', 458), ('usage', 459), ('throw', 460), ('picture', 461), ('continue', 462), ('detector', 463), ('opinion', 464), ('solid', 465), ('laptop', 466), ('trust', 467), ('update', 468), ('line', 469), ('broke', 470), ('toddler', 471), ('result', 472), ('touch', 473), ('cell', 474), ('recharge', 475), ('wrapped', 476), ('generic', 477), ('special', 478), ('wonderful', 479), ('restart', 480), ('youre', 481), ('mode', 482), ('defective', 483), ('bargain', 484), ('worse', 485), ('normal', 486), ('large', 487), ('add', 488), ('barely', 489), ('might', 490), ('question', 491), ('reasonable', 492), ('adult', 493), ('unless', 494), ('music', 495), ('ask', 496), ('liked', 497), ('mostly', 498), ('place', 499), ('satisfied', 500), ('car', 501), ('pleased', 502), ('button', 503), ('matter', 504), ('excited', 505), ('echo', 506), ('running', 507), ('purpose', 508), ('annoying', 509), ('stock', 510), ('fan', 511), ('remove', 512), ('told', 513), ('reliable', 514), ('helpful', 515), ('average', 516), ('loose', 517), ('loved', 518), ('replacing', 519), ('husband', 520), ('handy', 521), ('holding', 522), ('except', 523), ('friday', 524), ('absolutely', 525), ('okay', 526), ('convenient', 527), ('lock', 528), ('smoke', 529), ('kind', 530), ('ton', 531), ('failed', 532), ('weve', 533), ('immediately', 534), ('longevity', 535), ('buck', 536), ('sent', 537), ('understand', 538), ('care', 539), ('although', 540), ('v', 541), ('rayovac', 542), ('memory', 543), ('juice', 544), ('downloaded', 545), ('safe', 546), ('volt', 547), ('based', 548), ('bunch', 549), ('idea', 550), ('single', 551), ('connection', 552), ('looked', 553), ('youtube', 554), ('per', 555), ('portable', 556), ('watching', 557), ('content', 558), ('someone', 559), ('clear', 560), ('paper', 561), ('surprised', 562), ('prefer', 563), ('installed', 564), ('wrap', 565), ('rest', 566), ('mean', 567), ('rating', 568), ('access', 569), ('gun', 570), ('mess', 571), ('making', 572), ('niece', 573), ('total', 574), ('included', 575), ('subscription', 576), ('numerous', 577), ('warning', 578), ('grandson', 579), ('group', 580), ('gone', 581), ('five', 582), ('require', 583), ('refund', 584), ('switched', 585), ('fraction', 586), ('reader', 587), ('previous', 588), ('cold', 589), ('gotten', 590), ('granddaughter', 591), ('hate', 592), ('fantastic', 593), ('page', 594), ('term', 595), ('white', 596), ('lack', 597), ('wall', 598), ('resolution', 599), ('hassle', 600), ('totally', 601), ('similar', 602), ('fact', 603), ('damage', 604), ('please', 605), ('digital', 606), ('spent', 607), ('equipment', 608), ('sitting', 609), ('span', 610), ('family', 611), ('kirkland', 612), ('model', 613), ('huge', 614), ('ship', 615), ('fresh', 616), ('multiple', 617), ('finally', 618), ('leave', 619), ('sorry', 620), ('thinking', 621), ('x', 622), ('advertising', 623), ('copper', 624), ('rd', 625), ('delivered', 626), ('outside', 627), ('third', 628), ('facebook', 629), ('color', 630), ('giving', 631), ('cardboard', 632), ('saving', 633), ('turning', 634), ('wear', 635), ('decoration', 636), ('subscribe', 637), ('given', 638), ('dy', 639), ('dud', 640), ('putting', 641), ('expecting', 642), ('older', 643), ('bc', 644), ('cover', 645), ('loading', 646), ('flash', 647), ('anymore', 648), ('manufacturer', 649), ('brother', 650), ('step', 651), ('luck', 652), ('sell', 653), ('crazy', 654), ('discovered', 655), ('type', 656), ('tab', 657), ('exchange', 658), ('near', 659), ('ability', 660), ('changing', 661), ('due', 662), ('alexa', 663), ('useful', 664), ('people', 665), ('quit', 666), ('post', 667), ('hit', 668), ('navigate', 669), ('bright', 670), ('glad', 671), ('stop', 672), ('mine', 673), ('weather', 674), ('gaming', 675), ('parental', 676), ('cheapest', 677), ('spending', 678), ('biggest', 679), ('heavy', 680), ('fair', 681), ('window', 682), ('called', 683), ('cut', 684), ('capability', 685), ('useless', 686), ('oh', 687), ('awful', 688), ('speed', 689), ('keeping', 690), ('rate', 691), ('opening', 692), ('ran', 693), ('believe', 694), ('unfortunately', 695), ('bluetooth', 696), ('packed', 697), ('application', 698), ('beginner', 699), ('instruction', 700), ('number', 701), ('mirror', 702), ('suck', 703), ('household', 704), ('wii', 705), ('easily', 706), ('holiday', 707), ('frequently', 708), ('randomly', 709), ('whole', 710), ('crap', 711), ('rechargeables', 712), ('dim', 713), ('course', 714), ('space', 715), ('happen', 716), ('chance', 717), ('ready', 718), ('galaxy', 719), ('wife', 720), ('generation', 721), ('capacity', 722), ('branded', 723), ('program', 724), ('whether', 725), ('plan', 726), ('web', 727), ('source', 728), ('along', 729), ('realized', 730), ('timer', 731), ('properly', 732), ('system', 733), ('flameless', 734), ('gb', 735), ('electronic', 736), ('install', 737), ('browsing', 738), ('plus', 739), ('fill', 740), ('disappointment', 741), ('shrink', 742), ('weak', 743), ('note', 744), ('whatever', 745), ('shipped', 746), ('discount', 747), ('display', 748), ('handle', 749), ('logic', 750), ('water', 751), ('begin', 752), ('powerful', 753), ('pop', 754), ('sd', 755), ('ebooks', 756), ('software', 757), ('plenty', 758), ('credit', 759), ('shopping', 760), ('completely', 761), ('roku', 762), ('ie', 763), ('offered', 764), ('specifically', 765), ('alternative', 766), ('stuck', 767), ('email', 768), ('upon', 769), ('thus', 770), ('knew', 771), ('duracel', 772), ('gig', 773), ('ruined', 774), ('upgrade', 775), ('apart', 776), ('string', 777), ('freezing', 778), ('everywhere', 779), ('plug', 780), ('pump', 781), ('backpack', 782), ('check', 783), ('equivalent', 784), ('leading', 785), ('youd', 786), ('proof', 787), ('together', 788), ('write', 789), ('motion', 790), ('slightly', 791), ('alot', 792), ('setting', 793), ('research', 794), ('notice', 795), ('drained', 796), ('condition', 797), ('convenience', 798), ('garbage', 799), ('typically', 800), ('operate', 801), ('connect', 802), ('energy', 803), ('likely', 804), ('cord', 805), ('double', 806), ('plugged', 807), ('downloading', 808), ('considering', 809), ('corrosion', 810), ('baby', 811), ('triple', 812), ('fairly', 813), ('experienced', 814), ('tester', 815), ('threw', 816), ('move', 817), ('various', 818), ('checked', 819), ('additional', 820), ('missing', 821), ('streaming', 822), ('seller', 823), ('recommended', 824), ('nicely', 825), ('testing', 826), ('seriously', 827), ('nd', 828), ('imagine', 829), ('guy', 830), ('prior', 831), ('asked', 832), ('voltage', 833), ('scale', 834), ('competitor', 835), ('stated', 836), ('friend', 837), ('required', 838), ('piece', 839), ('respond', 840), ('unlike', 841), ('shuts', 842), ('station', 843), ('trail', 844), ('mainly', 845), ('earlier', 846), ('certain', 847), ('headphone', 848), ('awhile', 849), ('supply', 850), ('learned', 851), ('repurchase', 852), ('played', 853), ('worry', 854), ('talking', 855), ('complicated', 856), ('personally', 857), ('interface', 858), ('sister', 859), ('bigger', 860), ('supposed', 861), ('medium', 862), ('protection', 863), ('c', 864), ('break', 865), ('external', 866), ('launcher', 867), ('brought', 868), ('cause', 869), ('face', 870), ('silver', 871), ('learn', 872), ('pad', 873), ('outdoor', 874), ('door', 875), ('compatible', 876), ('radio', 877), ('everyday', 878), ('profile', 879), ('positive', 880), ('upset', 881), ('forever', 882), ('el', 883), ('absolute', 884), ('market', 885), ('allow', 886), ('rayovacs', 887), ('compartment', 888), ('company', 889), ('enjoy', 890), ('hardly', 891), ('shop', 892), ('green', 893), ('bunny', 894), ('indonesia', 895), ('choice', 896), ('fail', 897), ('usb', 898), ('smart', 899), ('honestly', 900), ('expiration', 901), ('cable', 902), ('design', 903), ('appear', 904), ('batts', 905), ('typical', 906), ('longlasting', 907), ('level', 908), ('avoid', 909), ('mic', 910), ('bulky', 911), ('alarm', 912), ('person', 913), ('shut', 914), ('coming', 915), ('lighting', 916), ('cool', 917), ('luckily', 918), ('eat', 919), ('buffering', 920), ('hr', 921), ('skeptical', 922), ('apparently', 923), ('connected', 924), ('reorder', 925), ('setup', 926), ('chrome', 927), ('october', 928), ('asking', 929), ('bug', 930), ('non', 931), ('ten', 932), ('premium', 933), ('saying', 934), ('business', 935), ('school', 936), ('answer', 937), ('mixed', 938), ('electric', 939), ('designed', 940), ('parent', 941), ('room', 942), ('saw', 943), ('complain', 944), ('lucky', 945), ('six', 946), ('separate', 947), ('browser', 948), ('click', 949), ('lost', 950), ('seen', 951), ('quicker', 952), ('everyone', 953), ('slower', 954), ('send', 955), ('response', 956), ('audio', 957), ('built', 958), ('miss', 959), ('news', 960), ('figured', 961), ('church', 962), ('meant', 963), ('shorter', 964), ('solar', 965), ('durability', 966), ('stay', 967), ('consumer', 968), ('greatest', 969), ('decision', 970), ('train', 971), ('variety', 972), ('till', 973), ('across', 974), ('beware', 975), ('thermostat', 976), ('environment', 977), ('exploded', 978), ('including', 979), ('tho', 980), ('consider', 981), ('entire', 982), ('lantern', 983), ('held', 984), ('figure', 985), ('function', 986), ('front', 987), ('added', 988), ('eye', 989), ('stand', 990), ('local', 991), ('busy', 992), ('processor', 993), ('superior', 994), ('example', 995), ('surprisingly', 996), ('reset', 997), ('discharge', 998), ('correctly', 999), ('literally', 1000), ('onto', 1001), ('nook', 1002), ('certainly', 1003), ('known', 1004), ('basically', 1005), ('r', 1006), ('newer', 1007), ('member', 1008), ('baught', 1009), ('overseas', 1010), ('comparison', 1011), ('daily', 1012), ('despite', 1013), ('budget', 1014), ('arrive', 1015), ('shortly', 1016), ('rely', 1017), ('main', 1018), ('law', 1019), ('refurbished', 1020), ('burned', 1021), ('loaded', 1022), ('namebrand', 1023), ('early', 1024), ('equal', 1025), ('youll', 1026), ('area', 1027), ('become', 1028), ('bang', 1029), ('carry', 1030), ('dropped', 1031), ('microphone', 1032), ('taking', 1033), ('mac', 1034), ('besides', 1035), ('possible', 1036), ('blew', 1037), ('freetime', 1038), ('fall', 1039), ('drawer', 1040), ('shot', 1041), ('began', 1042), ('kitchen', 1043), ('mistake', 1044), ('august', 1045), ('support', 1046), ('impossible', 1047), ('match', 1048), ('forward', 1049), ('locked', 1050), ('true', 1051), ('dog', 1052), ('pricing', 1053), ('em', 1054), ('previously', 1055), ('arrival', 1056), ('showed', 1057), ('favorite', 1058), ('meter', 1059), ('thru', 1060), ('associate', 1061), ('fault', 1062), ('appliance', 1063), ('shoot', 1064), ('info', 1065), ('childrens', 1066), ('disposable', 1067), ('nexus', 1068), ('fee', 1069), ('trash', 1070), ('dot', 1071), ('appears', 1072), ('bestbuy', 1073), ('installing', 1074), ('noticeable', 1075), ('otherwise', 1076), ('range', 1077), ('negative', 1078), ('period', 1079), ('voice', 1080), ('caused', 1081), ('protective', 1082), ('fun', 1083), ('constant', 1084), ('slot', 1085), ('universal', 1086), ('micro', 1087), ('age', 1088), ('receiving', 1089), ('dark', 1090), ('initially', 1091), ('bumper', 1092), ('economical', 1093), ('live', 1094), ('typing', 1095), ('ahead', 1096), ('addition', 1097), ('hdx', 1098), ('department', 1099), ('stored', 1100), ('regret', 1101), ('imagined', 1102), ('table', 1103), ('sense', 1104), ('contacted', 1105), ('search', 1106), ('starter', 1107), ('grocery', 1108), ('perhaps', 1109), ('general', 1110), ('selection', 1111), ('concerned', 1112), ('voyage', 1113), ('doa', 1114), ('adapter', 1115), ('hoop', 1116), ('sharp', 1117), ('slide', 1118), ('pro', 1119), ('press', 1120), ('saved', 1121), ('behind', 1122), ('count', 1123), ('corroded', 1124), ('nephew', 1125), ('gadget', 1126), ('mind', 1127), ('container', 1128), ('expectation', 1129), ('length', 1130), ('doubt', 1131), ('wrapping', 1132), ('bother', 1133), ('world', 1134), ('november', 1135), ('unlimited', 1136), ('heck', 1137), ('serious', 1138), ('werent', 1139), ('walmart', 1140), ('tiny', 1141), ('curious', 1142), ('late', 1143), ('trip', 1144), ('ruining', 1145), ('repossess', 1146), ('couldve', 1147), ('force', 1148), ('stopping', 1149), ('clearing', 1150), ('cache', 1151), ('dying', 1152), ('aware', 1153), ('durable', 1154), ('confusing', 1155), ('comment', 1156), ('pick', 1157), ('audible', 1158), ('sensor', 1159), ('selling', 1160), ('advantage', 1161), ('report', 1162), ('tool', 1163), ('boy', 1164), ('contact', 1165), ('clunky', 1166), ('blank', 1167), ('throwing', 1168), ('serve', 1169), ('kindles', 1170), ('present', 1171), ('hear', 1172), ('shelflife', 1173), ('noise', 1174), ('walkabout', 1175), ('waiting', 1176), ('failure', 1177), ('bat', 1178), ('register', 1179), ('geek', 1180), ('squad', 1181), ('responsive', 1182), ('july', 1183), ('shame', 1184), ('sudden', 1185), ('claim', 1186), ('frustration', 1187), ('heard', 1188), ('saver', 1189), ('young', 1190), ('therefore', 1191), ('rid', 1192), ('shipment', 1193), ('weird', 1194), ('primetime', 1195), ('trick', 1196), ('february', 1197), ('placed', 1198), ('felt', 1199), ('cabinet', 1200), ('breaker', 1201), ('outlet', 1202), ('updated', 1203), ('requires', 1204), ('via', 1205), ('lol', 1206), ('autistic', 1207), ('remember', 1208), ('rethinking', 1209), ('roughly', 1210), ('adequate', 1211), ('bag', 1212), ('moment', 1213), ('frother', 1214), ('sleeve', 1215), ('hoped', 1216), ('lag', 1217), ('lighter', 1218), ('lithium', 1219), ('toothbrush', 1220), ('batteriesi', 1221), ('showing', 1222), ('nope', 1223), ('activated', 1224), ('harbor', 1225), ('freight', 1226), ('serf', 1227), ('band', 1228), ('worthless', 1229), ('guide', 1230), ('unbeatable', 1231), ('season', 1232), ('surf', 1233), ('lose', 1234), ('base', 1235), ('became', 1236), ('provide', 1237), ('intuitive', 1238), ('tough', 1239), ('usual', 1240), ('build', 1241), ('didn‚äôt', 1242), ('cancelling', 1243), ('pocket', 1244), ('shocked', 1245), ('dissapointed', 1246), ('registered', 1247), ('board', 1248), ('longest', 1249), ('sort', 1250), ('lately', 1251), ('remaining', 1252), ('depend', 1253), ('dozen', 1254), ('office', 1255), ('straight', 1256), ('gear', 1257), ('finger', 1258), ('tend', 1259), ('namebrands', 1260), ('connector', 1261), ('process', 1262), ('cent', 1263), ('identical', 1264), ('thermometer', 1265), ('repair', 1266), ('stereo', 1267), ('brighter', 1268), ('burn', 1269), ('washington', 1270), ('inability', 1271), ('inch', 1272), ('important', 1273), ('eveready', 1274), ('realize', 1275), ('owned', 1276), ('functional', 1277), ('overpriced', 1278), ('weaker', 1279), ('weight', 1280), ('mother', 1281), ('coffee', 1282), ('pulled', 1283), ('goto', 1284), ('recycling', 1285), ('zero', 1286), ('hooked', 1287), ('somewhat', 1288), ('camping', 1289), ('april', 1290), ('brandname', 1291), ('strength', 1292), ('tonight', 1293), ('yesterday', 1294), ('par', 1295), ('everready', 1296), ('jumping', 1297), ('current', 1298), ('receive', 1299), ('originally', 1300), ('usa', 1301), ('tight', 1302), ('sad', 1303), ('birthday', 1304), ('december', 1305), ('anyway', 1306), ('drop', 1307), ('pull', 1308), ('stream', 1309), ('advertisement', 1310), ('zipper', 1311), ('sending', 1312), ('refused', 1313), ('appreciate', 1314), ('horrendous', 1315), ('individual', 1316), ('player', 1317), ('professional', 1318), ('volume', 1319), ('oily', 1320), ('liquid', 1321), ('happens', 1322), ('neatly', 1323), ('enjoyed', 1324), ('protector', 1325), ('direction', 1326), ('coherent', 1327), ('policy', 1328), ('limiting', 1329), ('towards', 1330), ('trackball', 1331), ('personal', 1332), ('ridiculously', 1333), ('statement', 1334), ('sealed', 1335), ('aloud', 1336), ('younger', 1337), ('icon', 1338), ('random', 1339), ('manner', 1340), ('air', 1341), ('tree', 1342), ('mention', 1343), ('expectancy', 1344), ('exaggerating', 1345), ('weekly', 1346), ('lifespan', 1347), ('elsewhere', 1348), ('bathroom', 1349), ('youngest', 1350), ('itd', 1351), ('faulty', 1352), ('paying', 1353), ('brainer', 1354), ('photo', 1355), ('club', 1356), ('bummed', 1357), ('surfing', 1358), ('instance', 1359), ('confirmed', 1360), ('promise', 1361), ('powering', 1362), ('newest', 1363), ('performing', 1364), ('clean', 1365), ('pre', 1366), ('removed', 1367), ('notch', 1368), ('liking', 1369), ('edit', 1370), ('halloween', 1371), ('encountered', 1372), ('avid', 1373), ('planning', 1374), ('father', 1375), ('primarily', 1376), ('marketing', 1377), ('losing', 1378), ('occasion', 1379), ('shrinkwrapped', 1380), ('responding', 1381), ('intended', 1382), ('listening', 1383), ('preferred', 1384), ('middle', 1385), ('paperweight', 1386), ('con', 1387), ('bar', 1388), ('talk', 1389), ('steal', 1390), ('particular', 1391), ('follow', 1392), ('pain', 1393), ('mom', 1394), ('gon', 1395), ('na', 1396), ('functionality', 1397), ('operating', 1398), ('describe', 1399), ('wrapper', 1400), ('fluke', 1401), ('microsoft', 1402), ('maxell', 1403), ('deadbolt', 1404), ('charm', 1405), ('national', 1406), ('trusted', 1407), ('chinese', 1408), ('curve', 1409), ('estimate', 1410), ('procell', 1411), ('disappoint', 1412), ('indicator', 1413), ('causing', 1414), ('subpar', 1415), ('push', 1416), ('wasted', 1417), ('pas', 1418), ('samsungs', 1419), ('geared', 1420), ('generally', 1421), ('menards', 1422), ('popular', 1423), ('individually', 1424), ('thomas', 1425), ('compatibility', 1426), ('leakage', 1427), ('reasonably', 1428), ('buyer', 1429), ('backupand', 1430), ('occasionally', 1431), ('tot', 1432), ('toast', 1433), ('dayssturdier', 1434), ('xmas', 1435), ('sixmonth', 1436), ('gigabyte', 1437), ('misleading', 1438), ('flag', 1439), ('inappropriate', 1440), ('draining', 1441), ('named', 1442), ('temperature', 1443), ('grand', 1444), ('measured', 1445), ('lit', 1446), ('damaged', 1447), ('visual', 1448), ('knowing', 1449), ('wet', 1450), ('network', 1451), ('annoyed', 1452), ('monitor', 1453), ('beyond', 1454), ('upgraded', 1455), ('fight', 1456), ('insulin', 1457), ('finding', 1458), ('travel', 1459), ('includes', 1460), ('assured', 1461), ('cry', 1462), ('savy', 1463), ('ikea', 1464), ('information', 1465), ('recently', 1466), ('appropriate', 1467), ('simpler', 1468), ('soft', 1469), ('cheaply', 1470), ('certified', 1471), ('sprout', 1472), ('chubby', 1473), ('traditional', 1474), ('f', 1475), ('owner', 1476), ('connectivity', 1477), ('logo', 1478), ('falling', 1479), ('competing', 1480), ('storing', 1481), ('leaving', 1482), ('explode', 1483), ('unhappy', 1484), ('actual', 1485), ('graphic', 1486), ('rc', 1487), ('emergency', 1488), ('blackjack', 1489), ('thesis', 1490), ('theyve', 1491), ('expanded', 1492), ('keypad', 1493), ('garage', 1494), ('nest', 1495), ('hulu', 1496), ('staple', 1497), ('wore', 1498), ('label', 1499), ('shes', 1500), ('commodity', 1501), ('sdmini', 1502), ('acceptable', 1503), ('split', 1504), ('interesting', 1505), ('loss', 1506), ('vudu', 1507), ('spec', 1508), ('indoor', 1509), ('ear', 1510), ('regarding', 1511), ('yeah', 1512), ('command', 1513), ('bb', 1514), ('rock', 1515), ('edition', 1516), ('unimportant', 1517), ('nikon', 1518), ('desired', 1519), ('laser', 1520), ('yay', 1521), ('competition', 1522), ('material', 1523), ('kinda', 1524), ('shortest', 1525), ('decade', 1526), ('magic', 1527), ('popped', 1528), ('message', 1529), ('collection', 1530), ('requiring', 1531), ('procells', 1532), ('blown', 1533), ('offen', 1534), ('closet', 1535), ('pricey', 1536), ('downside', 1537), ('electrical', 1538), ('living', 1539), ('energizervery', 1540), ('sturdy', 1541), ('advanced', 1542), ('curriculum', 1543), ('movement', 1544), ('foor', 1545), ('substantial', 1546), ('websurfing', 1547), ('technology', 1548), ('viewing', 1549), ('backup', 1550), ('mere', 1551), ('mathematically', 1552), ('equation', 1553), ('filled', 1554), ('reviewer', 1555), ('log', 1556), ('library', 1557), ('defeat', 1558), ('auto', 1559), ('savvy', 1560), ('wound', 1561), ('cleaned', 1562), ('warehouse', 1563), ('slippery', 1564), ('circuit', 1565), ('aside', 1566), ('starting', 1567), ('amazonfound', 1568), ('webpage', 1569), ('froze', 1570), ('specially', 1571), ('neoprene', 1572), ('clearly', 1573), ('duracellslast', 1574), ('dormant', 1575), ('fixture', 1576), ('taken', 1577), ('background', 1578), ('prob', 1579), ('battiers', 1580), ('ground', 1581), ('harder', 1582), ('list', 1583), ('resolved', 1584), ('letting', 1585), ('enjoys', 1586), ('initial', 1587), ('outmuch', 1588), ('ultra', 1589), ('alright', 1590), ('fresher', 1591), ('ta', 1592), ('stink', 1593), ('duty', 1594), ('bottom', 1595), ('tired', 1596), ('create', 1597), ('document', 1598), ('spreadsheet', 1599), ('manual', 1600), ('class', 1601), ('signal', 1602), ('efficient', 1603), ('transmitter', 1604), ('opener', 1605), ('lacking', 1606), ('performed', 1607), ('particularly', 1608), ('calling', 1609), ('badly', 1610), ('channel', 1611), ('grandkids', 1612), ('exchanged', 1613), ('flight', 1614), ('recharging', 1615), ('helping', 1616), ('neither', 1617), ('overnight', 1618), ('carrier', 1619), ('code', 1620), ('unlock', 1621), ('kidfriendly', 1622), ('bending', 1623), ('merefurbished', 1624), ('forget', 1625), ('wonderfully', 1626), ('functioning', 1627), ('needle', 1628), ('purse', 1629), ('fourth', 1630), ('surprising', 1631), ('restriction', 1632), ('timei', 1633), ('instant', 1634), ('pleasantly', 1635), ('bah', 1636), ('humbug', 1637), ('boot', 1638), ('hasnt', 1639), ('state', 1640), ('reordered', 1641), ('china', 1642), ('stocked', 1643), ('e', 1644), ('anyways', 1645), ('opportunity', 1646), ('recharger', 1647), ('depth', 1648), ('billboard', 1649), ('upfront', 1650), ('stating', 1651), ('subsidized', 1652), ('output', 1653), ('provided', 1654), ('seat', 1655), ('sits', 1656), ('bundled', 1657), ('sleek', 1658), ('monthly', 1659), ('assuming', 1660), ('mostof', 1661), ('essentially', 1662), ('clicker', 1663), ('jet', 1664), ('block', 1665), ('lie', 1666), ('intuitivevery', 1667), ('appsgood', 1668), ('moviesvery', 1669), ('language', 1670), ('english', 1671), ('languagesapps', 1672), ('hair', 1673), ('march', 1674), ('tank', 1675), ('decide', 1676), ('ac', 1677), ('mo', 1678), ('reward', 1679), ('risk', 1680), ('god', 1681), ('attention', 1682), ('reboot', 1683), ('effective', 1684), ('truly', 1685), ('monday', 1686), ('defect', 1687), ('heart', 1688), ('loud', 1689), ('fly', 1690), ('explain', 1691), ('hundred', 1692), ('alkalines', 1693), ('responsibility', 1694), ('hopefully', 1695), ('sufficient', 1696), ('secondary', 1697), ('wasting', 1698), ('significantly', 1699), ('guard', 1700), ('round', 1701), ('dinner', 1702), ('prompt', 1703), ('dnt', 1704), ('independent', 1705), ('maneuver', 1706), ('eight', 1707), ('hot', 1708), ('competitive', 1709), ('broken', 1710), ('factor', 1711), ('canon', 1712), ('ripoff', 1713), ('connecting', 1714), ('sends', 1715), ('final', 1716), ('entirely', 1717), ('searching', 1718), ('operation', 1719), ('runningunfortunately', 1720), ('reached', 1721), ('oversized', 1722), ('dispenser', 1723), ('unfortunate', 1724), ('misinformed', 1725), ('cast', 1726), ('instagram', 1727), ('pile', 1728), ('grandma', 1729), ('truck', 1730), ('jumped', 1731), ('heat', 1732), ('importantly', 1733), ('party', 1734), ('fluid', 1735), ('weighs', 1736), ('attractive', 1737), ('public', 1738), ('hanging', 1739), ('debating', 1740), ('concerning', 1741), ('occurs', 1742), ('extensive', 1743), ('specific', 1744), ('blood', 1745), ('pressure', 1746), ('layout', 1747), ('sold', 1748), ('printed', 1749), ('don‚äôt', 1750), ('wise', 1751), ('itunes', 1752), ('investigated', 1753), ('phonestablets', 1754), ('summary', 1755), ('mid', 1756), ('op', 1757), ('restarted', 1758), ('sam', 1759), ('select', 1760), ('determine', 1761), ('horribly', 1762), ('cellophane', 1763), ('kidding', 1764), ('complete', 1765), ('ultimate', 1766), ('beginning', 1767), ('disbelief', 1768), ('tall', 1769), ('yo', 1770), ('preloaded', 1771), ('careful', 1772), ('inserted', 1773), ('proper', 1774), ('suspect', 1775), ('thisreturned', 1776), ('motorola', 1777), ('radiosone', 1778), ('childsafety', 1779), ('itnoqw', 1780), ('relatively', 1781), ('variable', 1782), ('voltmeter', 1783), ('unreliable', 1784), ('dependable', 1785), ('devicesoriginal', 1786), ('reviewbought', 1787), ('tag', 1788), ('outsidei', 1789), ('expensiveand', 1790), ('picsi', 1791), ('cleaning', 1792), ('suggestion', 1793), ('suggest', 1794), ('helped', 1795), ('flawlessly', 1796), ('appalled', 1797), ('drive', 1798), ('headlamp', 1799), ('comfortable', 1800), ('appearing', 1801), ('brush', 1802), ('l', 1803), ('yrolds', 1804), ('yrold', 1805), ('awsome', 1806), ('helpfulthe', 1807), ('consistently', 1808), ('needing', 1809), ('scissors', 1810), ('september', 1811), ('plain', 1812), ('endurance', 1813), ('equate', 1814), ('relocate', 1815), ('grade', 1816), ('lesson', 1817), ('insisted', 1818), ('noticing', 1819), ('dealdisappointing', 1820), ('critical', 1821), ('january', 1822), ('g', 1823), ('lackluster', 1824), ('cat', 1825), ('logitech', 1826), ('ridiculous', 1827), ('task', 1828), ('firetv', 1829), ('compartmentjust', 1830), ('hiss', 1831), ('coughing', 1832), ('choking', 1833), ('batteryim', 1834), ('flat', 1835), ('winner', 1836), ('surprise', 1837), ('shouldnt', 1838), ('transfer', 1839), ('produce', 1840), ('site', 1841), ('reviewed', 1842), ('whatsoever', 1843), ('extended', 1844), ('patient', 1845), ('college', 1846), ('ebook', 1847), ('semester', 1848), ('representative', 1849), ('exact', 1850), ('rotate', 1851), ('pit', 1852), ('missed', 1853), ('defintely', 1854), ('unused', 1855), ('allows', 1856), ('shiny', 1857), ('motor', 1858), ('inspection', 1859), ('therapy', 1860), ('session', 1861), ('inconvient', 1862), ('paperwhite', 1863), ('win', 1864), ('restock', 1865), ('upat', 1866), ('grandniece', 1867), ('foam', 1868), ('downloads', 1869), ('learning', 1870), ('beep', 1871), ('unfair', 1872), ('firenot', 1873), ('maxwell', 1874), ('lettering', 1875), ('contorl', 1876), ('tied', 1877), ('grip', 1878), ('burnt', 1879), ('crashed', 1880), ('detailed', 1881), ('hurt', 1882), ('tip', 1883), ('wreath', 1884), ('honest', 1885), ('unable', 1886), ('call', 1887), ('labeled', 1888), ('xfinity', 1889), ('nonstop', 1890), ('grandchild', 1891), ('sligtly', 1892), ('proud', 1893), ('nobody', 1894), ('lastinghave', 1895), ('usehave', 1896), ('pastnot', 1897), ('soap', 1898), ('prepare', 1899), ('k', 1900), ('inconsistent', 1901), ('moved', 1902), ('spare', 1903), ('food', 1904), ('firestick', 1905), ('walk', 1906), ('village', 1907), ('struggling', 1908), ('butmajor', 1909), ('beforebummer', 1910), ('outlasted', 1911), ('introduced', 1912), ('summer', 1913), ('soi', 1914), ('andor', 1915), ('discard', 1916), ('consumption', 1917), ('nbc', 1918), ('obviously', 1919), ('situation', 1920), ('meaning', 1921), ('recycle', 1922), ('vender', 1923), ('pumpkin', 1924), ('owning', 1925), ('story', 1926), ('stocking', 1927), ('vivid', 1928), ('internal', 1929), ('alight', 1930), ('cartridge', 1931), ('possibly', 1932), ('realistic', 1933), ('reciever', 1934), ('happily', 1935), ('wow', 1936), ('entry', 1937), ('earned', 1938), ('writing', 1939), ('rated', 1940), ('aawith', 1941), ('shoulder', 1942), ('ensure', 1943), ('louder', 1944), ('afford', 1945), ('installation', 1946), ('batterypowered', 1947), ('receiver', 1948), ('dish', 1949), ('prewrapped', 1950), ('physically', 1951), ('attempted', 1952), ('nabis', 1953), ('nabi', 1954), ('lcd', 1955), ('jump', 1956), ('plane', 1957), ('batteryoperated', 1958), ('shift', 1959), ('todead', 1960), ('decorative', 1961), ('chronic', 1962), ('edge', 1963), ('culprit', 1964), ('droid', 1965), ('vibrator', 1966), ('staying', 1967), ('permanently', 1968), ('horizontal', 1969), ('bubble', 1970), ('protected', 1971), ('damn', 1972), ('necessary', 1973), ('scope', 1974), ('anytime', 1975), ('knife', 1976), ('unbox', 1977), ('interest', 1978), ('limitation', 1979), ('swapping', 1980), ('bring', 1981), ('assumwd', 1982), ('bloat', 1983), ('everytime', 1984), ('hover', 1985), ('counting', 1986), ('notification', 1987), ('delete', 1988), ('firstlasts', 1989), ('disastrous', 1990), ('pity', 1991), ('gullible', 1992), ('stretch', 1993), ('noisemaker', 1994), ('higherdrain', 1995), ('waited', 1996), ('tooth', 1997), ('prefers', 1998), ('ti', 1999), ('critique', 2000), ('boughtthe', 2001), ('recieved', 2002), ('deleted', 2003), ('spoiled', 2004), ('equates', 2005), ('nterface', 2006), ('withing', 2007), ('highest', 2008), ('becoming', 2009), ('latest', 2010), ('flaw', 2011), ('hey', 2012), ('bundle', 2013), ('stack', 2014), ('approx', 2015), ('deliver', 2016), ('tear', 2017), ('ending', 2018), ('traveling', 2019), ('walkie', 2020), ('talkie', 2021), ('regularly', 2022), ('jod', 2023), ('invest', 2024), ('rough', 2025), ('fake', 2026), ('adjust', 2027), ('afraid', 2028), ('accidental', 2029), ('crack', 2030), ('ya', 2031), ('grey', 2032), ('barley', 2033), ('fox', 2034), ('covered', 2035), ('outstanding', 2036), ('companion', 2037), ('inferior', 2038), ('consistent', 2039), ('june', 2040), ('demand', 2041), ('suggesting', 2042), ('lowest', 2043), ('searched', 2044), ('density', 2045), ('head', 2046), ('benefit', 2047), ('interested', 2048), ('currently', 2049), ('burning', 2050), ('noticeably', 2051), ('ceiling', 2052), ('lame', 2053), ('vary', 2054), ('heavily', 2055), ('invested', 2056), ('sticking', 2057), ('outperformed', 2058), ('paired', 2059), ('guarantee', 2060), ('didont', 2061), ('afresh', 2062), ('skin', 2063), ('activate', 2064), ('delivers', 2065), ('esp', 2066), ('silk', 2067), ('sideload', 2068), ('exclusive', 2069), ('procedurethats', 2070), ('selected', 2071), ('yeartime', 2072), ('hidden', 2073), ('nerf', 2074), ('regardless', 2075), ('warm', 2076), ('researching', 2077), ('stillnow', 2078), ('clone', 2079), ('commercialsso', 2080), ('oki', 2081), ('chargefor', 2082), ('activity', 2083), ('goodness', 2084), ('overheating', 2085), ('nonresponsive', 2086), ('midday', 2087), ('swype', 2088), ('secondly', 2089), ('lastly', 2090), ('shimmering', 2091), ('brings', 2092), ('aggravating', 2093), ('duracelli', 2094), ('handheld', 2095), ('listen', 2096), ('frozen', 2097), ('pausing', 2098), ('registering', 2099), ('lowes', 2100), ('unsubscribed', 2101), ('leaky', 2102), ('draw', 2103), ('sooner', 2104), ('degradation', 2105), ('bummer', 2106), ('placing', 2107), ('mad', 2108), ('dif', 2109), ('nowhere', 2110), ('amazed', 2111), ('itemjunk', 2112), ('performs', 2113), ('kindlle', 2114), ('connectionoverall', 2115), ('grrrrrrreeeeeeeeaaaaaattttttt', 2116), ('accidently', 2117), ('hii', 2118), ('patience', 2119), ('itif', 2120), ('error', 2121), ('dig', 2122), ('honesty', 2123), ('confident', 2124), ('disney', 2125), ('suster', 2126), ('temp', 2127), ('retailer', 2128), ('it‚äôs', 2129), ('aging', 2130), ('offering', 2131), ('thursday', 2132), ('vote', 2133), ('noteven', 2134), ('atany', 2135), ('monthvery', 2136), ('dissatisfied', 2137), ('desk', 2138), ('repeat', 2139), ('ultimately', 2140), ('discontinued', 2141), ('shown', 2142), ('duh', 2143), ('rear', 2144), ('facing', 2145), ('town', 2146), ('reciept', 2147), ('unbiased', 2148), ('upload', 2149), ('poorly', 2150), ('hurricane', 2151), ('grouping', 2152), ('gamesapps', 2153), ('neat', 2154), ('owns', 2155), ('blast', 2156), ('complained', 2157), ('security', 2158), ('lay', 2159), ('dad', 2160), ('machine', 2161), ('remains', 2162), ('foot', 2163), ('connects', 2164), ('meh', 2165), ('playimg', 2166), ('boat', 2167), ('valueright', 2168), ('assumed', 2169), ('amazonbasic', 2170), ('gauge', 2171), ('substance', 2172), ('loyal', 2173), ('tightly', 2174), ('offerdownside', 2175), ('darkness', 2176), ('waist', 2177), ('majority', 2178), ('tug', 2179), ('junksave', 2180), ('production', 2181), ('eventually', 2182), ('created', 2183), ('compatable', 2184), ('acording', 2185), ('processing', 2186), ('linsay', 2187), ('atleast', 2188), ('navigateover', 2189), ('longa', 2190), ('image', 2191), ('mediocre', 2192), ('exploted', 2193), ('haha', 2194), ('deliverycons', 2195), ('dropout', 2196), ('uncommon', 2197), ('tov', 2198), ('hundredth', 2199), ('guessing', 2200), ('electrochemistry', 2201), ('website', 2202), ('appstore', 2203), ('stoped', 2204), ('poorer', 2205), ('io', 2206), ('baldwin', 2207), ('keyless', 2208), ('httpswwwamazoncombaldwinaccylinderelectronicdeadboltdpbucy', 2209), ('san', 2210), ('francisco', 2211), ('problemive', 2212), ('httpswwwamazoncomdpbgsby', 2213), ('indicates', 2214), ('deadboltwhen', 2215), ('weakened', 2216), ('httpswwwamazoncomfenixhlheadlampxpgfenixhlxpggolddpbshuxy', 2217), ('razor', 2218), ('pitched', 2219), ('peter', 2220), ('referred', 2221), ('productjmac', 2222), ('ebay', 2223), ('supplier', 2224), ('nuff', 2225), ('b', 2226), ('guitar', 2227), ('recieve', 2228), ('cbatteries', 2229), ('sunbeam', 2230), ('crappy', 2231), ('pin', 2232), ('hardware', 2233), ('hitormisshad', 2234), ('mp', 2235), ('justify', 2236), ('slight', 2237), ('divide', 2238), ('malfunction', 2239), ('hadnt', 2240), ('private', 2241), ('field', 2242), ('sweet', 2243), ('heavier', 2244), ('pointer', 2245), ('accessible', 2246), ('gotchas', 2247), ('locking', 2248), ('lived', 2249), ('genius', 2250), ('dedicate', 2251), ('bing', 2252), ('trending', 2253), ('blocked', 2254), ('believed', 2255), ('placement', 2256), ('row', 2257), ('collar', 2258), ('wedding', 2259), ('trimmer', 2260), ('mare', 2261), ('frill', 2262), ('nov', 2263), ('impulse', 2264), ('applies', 2265), ('limit', 2266), ('purchasedbut', 2267), ('modern', 2268), ('vendor', 2269), ('lowpower', 2270), ('topsspend', 2271), ('lastwhat', 2272), ('medical', 2273), ('beet', 2274), ('substandarddollar', 2275), ('corroding', 2276), ('willing', 2277), ('graphical', 2278), ('squarish', 2279), ('rectangular', 2280), ('flimsy', 2281), ('wellknown', 2282), ('sunday', 2283), ('sprayed', 2284), ('tryafter', 2285), ('malfunctionupon', 2286), ('residue', 2287), ('durecell', 2288), ('eg', 2289), ('odd', 2290), ('crisp', 2291), ('playstore', 2292), ('aaai', 2293), ('shall', 2294), ('scared', 2295), ('official', 2296), ('dry', 2297), ('degrade', 2298), ('bike', 2299), ('cumbersome', 2300), ('mercury', 2301), ('wand', 2302), ('chromebooksurface', 2303), ('macair', 2304), ('snag', 2305), ('friction', 2306), ('inout', 2307), ('beer', 2308), ('cozy', 2309), ('koozie', 2310), ('encased', 2311), ('canvas', 2312), ('slit', 2313), ('amazoni', 2314), ('sized', 2315), ('unresponsive', 2316), ('inaccuratewhich', 2317), ('definite', 2318), ('overcome', 2319), ('attached', 2320), ('rank', 2321), ('leakedupdateok', 2322), ('receivedamazon', 2323), ('jk', 2324), ('couldn‚äôt', 2325), ('cancel', 2326), ('unacceptable', 2327), ('whats', 2328), ('suppose', 2329), ('zinio', 2330), ('loosens', 2331), ('compact', 2332), ('comparing', 2333), ('brightness', 2334), ('picking', 2335), ('verified', 2336), ('purchaseswhat', 2337), ('literal', 2338), ('puddle', 2339), ('pool', 2340), ('peeled', 2341), ('overexposure', 2342), ('surface', 2343), ('ineffective', 2344), ('unsafe', 2345), ('instantly', 2346), ('ei', 2347), ('okaythere', 2348), ('tabletsome', 2349), ('perfarmance', 2350), ('agenda', 2351), ('among', 2352), ('timely', 2353), ('horriblejust', 2354), ('visible', 2355), ('backwards', 2356), ('weighing', 2357), ('platform', 2358), ('twelve', 2359), ('produced', 2360), ('miscellaneous', 2361), ('offbrand', 2362), ('unpredictable', 2363), ('futon', 2364), ('cam', 2365), ('locally', 2366), ('ruin', 2367), ('sadly', 2368), ('batteriesthey', 2369), ('indeed', 2370), ('figuring', 2371), ('tangerine', 2372), ('redbox', 2373), ('siri', 2374), ('pice', 2375), ('capable', 2376), ('monthsthese', 2377), ('frame', 2378), ('promised', 2379), ('familiar', 2380), ('stole', 2381), ('expectedfit', 2382), ('feeling', 2383), ('brown', 2384), ('shaver', 2385), ('blister', 2386), ('approximately', 2387), ('portion', 2388), ('utterly', 2389), ('ecosystem', 2390), ('ipads', 2391), ('quirk', 2392), ('seeking', 2393), ('expectationin', 2394), ('solving', 2395), ('advertisment', 2396), ('downfall', 2397), ('undone', 2398), ('applicationdevice', 2399), ('planet', 2400), ('moisture', 2401), ('mounted', 2402), ('inserting', 2403), ('target', 2404), ('confirm', 2405), ('glowing', 2406), ('samaumg', 2407), ('cmon', 2408), ('sluggish', 2409), ('rechargables', 2410), ('outperform', 2411), ('woo', 2412), ('hoo', 2413), ('iti', 2414), ('duraamazon', 2415), ('insert', 2416), ('hourshould', 2417), ('bold', 2418), ('breaking', 2419), ('key', 2420), ('wrist', 2421), ('can‚äôt', 2422), ('menu', 2423), ('mobile', 2424), ('baffled', 2425), ('partially', 2426), ('discharged', 2427), ('fori', 2428), ('strap', 2429), ('caught', 2430), ('terribly', 2431), ('poop', 2432), ('fish', 2433), ('guest', 2434), ('print', 2435), ('beautiful', 2436), ('confidence', 2437), ('style', 2438), ('bass', 2439), ('backlight', 2440), ('practically', 2441), ('thoseive', 2442), ('qualitylifespan', 2443), ('inconvenient', 2444), ('wrestle', 2445), ('shekel', 2446), ('beater', 2447), ('basis', 2448), ('thoroughly', 2449), ('semiprofessional', 2450), ('thatas', 2451), ('contemplating', 2452), ('selecting', 2453), ('forming', 2454), ('countless', 2455), ('programming', 2456), ('locate', 2457), ('bagel', 2458), ('oasisbattery', 2459), ('magnetic', 2460), ('grows', 2461), ('unsnaps', 2462), ('extreme', 2463), ('suite', 2464), ('dael', 2465), ('milk', 2466), ('lighted', 2467), ('n', 2468), ('quarter', 2469), ('duration', 2470), ('dresser', 2471), ('socket', 2472), ('ipod', 2473), ('cup', 2474), ('separately', 2475), ('exit', 2476), ('concern', 2477), ('shouldve', 2478), ('thrilled', 2479), ('angry', 2480), ('charmsome', 2481), ('deadnot', 2482), ('factorywhen', 2483), ('wasteful', 2484), ('maglite', 2485), ('continuously', 2486), ('morning', 2487), ('diapointed', 2488), ('blotch', 2489), ('score', 2490), ('comcast', 2491), ('popup', 2492), ('toss', 2493), ('presume', 2494), ('sick', 2495), ('magazine', 2496), ('replaces', 2497), ('insta', 2498), ('bulb', 2499), ('seeping', 2500), ('devicesmy', 2501), ('milliamp', 2502), ('poorlowi', 2503), ('refill', 2504), ('acdelco', 2505), ('success', 2506), ('met', 2507), ('grab', 2508), ('spotify', 2509), ('bus', 2510), ('wrecked', 2511), ('altogether', 2512), ('internals', 2513), ('permanent', 2514), ('coat', 2515), ('oxidation', 2516), ('ineligible', 2517), ('refuse', 2518), ('outer', 2519), ('frustrationfree', 2520), ('slice', 2521), ('straitjacketeven', 2522), ('unwrapping', 2523), ('girlfriend', 2524), ('pictured', 2525), ('nonrechargeable', 2526), ('thunder', 2527), ('groupon', 2528), ('paddleamazon', 2529), ('freat', 2530), ('claimed', 2531), ('seven', 2532), ('accedently', 2533), ('delay', 2534), ('upper', 2535), ('beforehand', 2536), ('videosthis', 2537), ('choicethe', 2538), ('tweak', 2539), ('playstoresearch', 2540), ('stepsoverall', 2541), ('batterieslightbulbsetc', 2542), ('robust', 2543), ('customize', 2544), ('firefox', 2545), ('sw', 2546), ('deems', 2547), ('competitiontoo', 2548), ('sacked', 2549), ('crashing', 2550), ('bose', 2551), ('appts', 2552), ('batterieswill', 2553), ('killer', 2554), ('employee', 2555), ('wake', 2556), ('researched', 2557), ('stander', 2558), ('suckered', 2559), ('impression', 2560), ('walkway', 2561), ('grocer', 2562), ('pen', 2563), ('roller', 2564), ('rabbit', 2565), ('lo', 2566), ('basement', 2567), ('boyfriend', 2568), ('cordless', 2569), ('self', 2570), ('proprietary', 2571), ('industry', 2572), ('def', 2573), ('repaired', 2574), ('closed', 2575), ('customizable', 2576), ('batteriesdont', 2577), ('longdont', 2578), ('theseyoure', 2579), ('unusual', 2580), ('effect', 2581), ('allot', 2582), ('dough', 2583), ('military', 2584), ('bursting', 2585), ('convinced', 2586), ('touching', 2587), ('touchscreen', 2588), ('amazoncom', 2589), ('depot', 2590), ('share', 2591), ('gifted', 2592), ('finished', 2593), ('continued', 2594), ('confirmation', 2595), ('ripping', 2596), ('scientifically', 2597), ('bout', 2598), ('faith', 2599), ('kit', 2600), ('attack', 2601), ('gas', 2602), ('mower', 2603), ('genuine', 2604), ('coppertops', 2605), ('omg', 2606), ('manny', 2607), ('comeon', 2608), ('closer', 2609), ('tax', 2610), ('melt', 2611), ('againyou', 2612), ('staff', 2613), ('replenishment', 2614), ('holter', 2615), ('embarrassing', 2616), ('reschedule', 2617), ('fancy', 2618), ('attest', 2619), ('seasonnot', 2620), ('solution', 2621), ('tendency', 2622), ('font', 2623), ('gf', 2624), ('dropping', 2625), ('breast', 2626), ('insane', 2627), ('dread', 2628), ('oldso', 2629), ('pricevalue', 2630), ('ray', 2631), ('vac', 2632), ('detail', 2633), ('understandable', 2634), ('saleman', 2635), ('hilariously', 2636), ('warrenty', 2637), ('disintegrating', 2638), ('isulation', 2639), ('slavelabor', 2640), ('imported', 2641), ('cablesanyoneill', 2642), ('donut', 2643), ('complains', 2644), ('bloom', 2645), ('thousand', 2646), ('existing', 2647), ('mature', 2648), ('undergo', 2649), ('radioactive', 2650), ('decay', 2651), ('bet', 2652), ('nizn', 2653), ('optical', 2654), ('automation', 2655), ('corner', 2656), ('hopeful', 2657), ('moving', 2658), ('minimal', 2659), ('mics', 2660), ('morei', 2661), ('freak', 2662), ('bt', 2663), ('whereas', 2664), ('drawback', 2665), ('bookshelf', 2666), ('pdfs', 2667), ('reverse', 2668), ('cute', 2669), ('slowly', 2670), ('wry', 2671), ('sleep', 2672), ('ion', 2673), ('wast', 2674), ('eats', 2675), ('wheel', 2676), ('multimeter', 2677), ('acme', 2678), ('operable', 2679), ('terrific', 2680), ('duracellin', 2681), ('stiff', 2682), ('timberline', 2683), ('reviewing', 2684), ('overloaded', 2685), ('bog', 2686), ('craigs', 2687), ('directly', 2688), ('weeki', 2689), ('beaaa', 2690), ('flashing', 2691), ('outputting', 2692), ('gradual', 2693), ('marginally', 2694), ('suffice', 2695), ('specified', 2696), ('brick', 2697), ('mortar', 2698), ('akf', 2699), ('emailed', 2700), ('inquiring', 2701), ('registration', 2702), ('resolutionupon', 2703), ('submitted', 2704), ('obtainactivate', 2705), ('prepaid', 2706), ('purchasei', 2707), ('christmastherefore', 2708), ('hurry', 2709), ('context', 2710), ('fridaycyber', 2711), ('saleprosliterally', 2712), ('pricegood', 2713), ('lifeconsno', 2714), ('appsservices', 2715), ('gmail', 2716), ('browserfirst', 2717), ('qc', 2718), ('variablethoughtsamazons', 2719), ('insistence', 2720), ('storeandroid', 2721), ('subsequent', 2722), ('core', 2723), ('lesser', 2724), ('photography', 2725), ('theseas', 2726), ('priceim', 2727), ('satisfiedthank', 2728), ('deny', 2729), ('furnace', 2730), ('holder', 2731), ('begging', 2732), ('restarting', 2733), ('rebooting', 2734), ('meet', 2735), ('plant', 2736), ('propose', 2737), ('cheep', 2738), ('deer', 2739), ('circumferenceetc', 2740), ('lowbattery', 2741), ('contained', 2742), ('manufactured', 2743), ('introduce', 2744), ('pattern', 2745), ('indicate', 2746), ('expert', 2747), ('drink', 2748), ('event', 2749), ('cheapos', 2750), ('exclusively', 2751), ('realy', 2752), ('stayed', 2753), ('modem', 2754), ('costoco', 2755), ('rapid', 2756), ('pace', 2757), ('lastedn', 2758), ('idk', 2759), ('orderd', 2760), ('purchaser', 2761), ('airplane', 2762), ('finesame', 2763), ('chose', 2764), ('daugter', 2765), ('dayall', 2766), ('kiddy', 2767), ('versus', 2768), ('uhi', 2769), ('muchoh', 2770), ('cheapgot', 2771), ('upcoming', 2772), ('scuba', 2773), ('minecraft', 2774), ('dissappintes', 2775), ('remotecontrol', 2776), ('ole', 2777), ('conjunction', 2778), ('organizer', 2779), ('conflicted', 2780), ('estimated', 2781), ('seldom', 2782), ('suited', 2783), ('duracellwouldnt', 2784), ('everthey', 2785), ('outyou', 2786), ('batteriesthanks', 2787), ('study', 2788), ('commercial', 2789), ('responded', 2790), ('frustrated', 2791), ('trigger', 2792), ('intervalometers', 2793), ('musician', 2794), ('teacher', 2795), ('sing', 2796), ('shure', 2797), ('beta', 2798), ('mici', 2799), ('durcell', 2800), ('reflects', 2801), ('excess', 2802), ('recent', 2803), ('camp', 2804), ('taste', 2805), ('freedom', 2806), ('experiment', 2807), ('chatging', 2808), ('speak', 2809), ('coincidence', 2810), ('crapped', 2811), ('spazzed', 2812), ('themmaybe', 2813), ('nobrainer', 2814), ('brightly', 2815), ('compete', 2816), ('assistant', 2817), ('buzzing', 2818), ('hight', 2819), ('productexcellent', 2820), ('moneythank', 2821), ('muchmark', 2822), ('koslosky', 2823), ('continuous', 2824), ('usei', 2825), ('coated', 2826), ('distance', 2827), ('madethe', 2828), ('mechanism', 2829), ('reluctantly', 2830), ('tossed', 2831), ('usageits', 2832), ('rival', 2833), ('min', 2834), ('worried', 2835), ('amazn', 2836), ('exposed', 2837), ('north', 2838), ('sheet', 2839), ('beeding', 2840), ('towel', 2841), ('headache', 2842), ('outlasting', 2843), ('common', 2844), ('gladly', 2845), ('competitioo', 2846), ('wellpackaged', 2847), ('indication', 2848), ('swapped', 2849), ('competitioni', 2850), ('capacitancethey', 2851), ('television', 2852), ('improved', 2853), ('shooted', 2854), ('freaking', 2855), ('picked', 2856), ('excellant', 2857), ('input', 2858), ('buckle', 2859), ('construction', 2860), ('expedited', 2861), ('beeping', 2862), ('storebought', 2863), ('profitable', 2864), ('elderly', 2865), ('tremendous', 2866), ('include', 2867), ('exceptional', 2868), ('metal', 2869), ('sucked', 2870), ('encourage', 2871), ('nonamazon', 2872), ('root', 2873), ('joke', 2874), ('shameful', 2875), ('stupid', 2876), ('diminishes', 2877), ('begining', 2878), ('ergomatic', 2879), ('shocking', 2880), ('vibrate', 2881), ('veru', 2882), ('buttuns', 2883), ('probe', 2884), ('tighten', 2885), ('prope', 2886), ('scew', 2887), ('manufators', 2888), ('controler', 2889), ('hsve', 2890), ('handling', 2891), ('shook', 2892), ('worn', 2893), ('learner', 2894), ('imo', 2895), ('thrown', 2896), ('increased', 2897), ('arguably', 2898), ('humming', 2899), ('smoothly', 2900), ('ram', 2901), ('expansion', 2902), ('displayed', 2903), ('wash', 2904), ('conneseiur', 2905), ('daylightits', 2906), ('doesnot', 2907), ('strain', 2908), ('runout', 2909), ('unbelievable', 2910), ('underwhelming', 2911), ('thanksgiving', 2912), ('ned', 2913), ('unwanted', 2914), ('videoit', 2915), ('buffer', 2916), ('laggs', 2917), ('alittle', 2918), ('separating', 2919), ('waistband', 2920), ('solved', 2921), ('stuffed', 2922), ('compartmentscons', 2923), ('ouch', 2924), ('nomenclature', 2925), ('realizing', 2926), ('informative', 2927), ('i‚äôve', 2928), ('remainder', 2929), ('detecting', 2930), ('admit', 2931), ('phenomenal', 2932), ('againamazon', 2933), ('reconsider', 2934), ('turkey', 2935), ('idisappointed', 2936), ('batterieswith', 2937), ('jbl', 2938), ('folk', 2939), ('welli', 2940), ('switching', 2941), ('leapster', 2942), ('explorer', 2943), ('idle', 2944), ('boxed', 2945), ('thx', 2946), ('itthere', 2947), ('ratingbut', 2948), ('asian', 2949), ('infamous', 2950), ('harmful', 2951), ('nature', 2952), ('reality', 2953), ('asia', 2954), ('fortunately', 2955), ('spring', 2956), ('confirmedwow', 2957), ('stats', 2958), ('thin', 2959), ('standing', 2960), ('position', 2961), ('busted', 2962), ('advocate', 2963), ('overly', 2964), ('expense', 2965), ('lovely', 2966), ('knob', 2967), ('fadedwore', 2968), ('toyedit', 2969), ('webroot', 2970), ('disconnected', 2971), ('seeing', 2972), ('photographer', 2973), ('wonti', 2974), ('cameraso', 2975), ('picslike', 2976), ('kiddingi', 2977), ('cv', 2978), ('hesitant', 2979), ('againi', 2980), ('imagination', 2981), ('weels', 2982), ('anker', 2983), ('alone', 2984), ('nonperishable', 2985), ('rechargable', 2986), ('firstupdate', 2987), ('daycare', 2988), ('ashamed', 2989), ('maker', 2990), ('pricethey', 2991), ('exception', 2992), ('served', 2993), ('speedy', 2994), ('matthew', 2995), ('anythinh', 2996), ('clipper', 2997), ('organized', 2998), ('grateful', 2999), ('deliveryl', 3000), ('similarly', 3001), ('gratifying', 3002), ('jeff', 3003), ('programmer', 3004), ('phrase', 3005), ('indicated', 3006), ('resealable', 3007), ('accidentally', 3008), ('headset', 3009), ('road', 3010), ('increase', 3011), ('prosinstall', 3012), ('hasslevery', 3013), ('ened', 3014), ('knowledgeuse', 3015), ('untrustworthydies', 3016), ('drawerjust', 3017), ('onthese', 3018), ('sucking', 3019), ('theyll', 3020), ('functionalive', 3021), ('resolve', 3022), ('student', 3023), ('repeatedly', 3024), ('battle', 3025), ('loving', 3026), ('amazom', 3027), ('allowed', 3028), ('costly', 3029), ('erasing', 3030), ('dreregistering', 3031), ('gor', 3032), ('cousin', 3033), ('hoursday', 3034), ('periodically', 3035), ('sample', 3036), ('evaluation', 3037), ('discus', 3038), ('batterieswhat', 3039), ('suprisingly', 3040), ('appropriately', 3041), ('polarity', 3042), ('entering', 3043), ('beeped', 3044), ('relief', 3045), ('efficiency', 3046), ('inedible', 3047), ('chicken', 3048), ('coop', 3049), ('proven', 3050), ('rundown', 3051), ('patternhowever', 3052), ('inhome', 3053), ('micekeyboard', 3054), ('theamazon', 3055), ('rolling', 3056), ('productivity', 3057), ('availablein', 3058), ('refrig', 3059), ('amongst', 3060), ('behold', 3061), ('teddy', 3062), ('bear', 3063), ('proceeded', 3064), ('standardnon', 3065), ('zoom', 3066), ('repurchasing', 3067), ('planned', 3068), ('obsolescence', 3069), ('practical', 3070), ('toysremotes', 3071), ('lab', 3072), ('recharable', 3073), ('alkline', 3074), ('description', 3075), ('dispose', 3076), ('affordability', 3077), ('soundeasy', 3078), ('connectproblem', 3079), ('activatedso', 3080), ('itthat', 3081), ('deserve', 3082), ('ha', 3083), ('chineese', 3084), ('purchasesi', 3085), ('recommendation', 3086), ('surfingshoppingetc', 3087), ('misplaced', 3088), ('route', 3089), ('hindsight', 3090), ('manards', 3091), ('snow', 3092), ('yard', 3093), ('competitively', 3094), ('freshness', 3095), ('youbut', 3096), ('camenor', 3097), ('operates', 3098), ('quirky', 3099), ('disconnect', 3100), ('problemsrecommend', 3101), ('established', 3102), ('slick', 3103), ('achieve', 3104), ('outrageous', 3105), ('reflect', 3106), ('manufacturing', 3107), ('wide', 3108), ('dura', 3109), ('hosed', 3110), ('dated', 3111), ('megapixels', 3112), ('goodworthless', 3113), ('setso', 3114), ('unique', 3115), ('japanese', 3116), ('enables', 3117), ('overdischarge', 3118), ('frankly', 3119), ('passed', 3120), ('convince', 3121), ('form', 3122), ('bed', 3123), ('consistency', 3124), ('hated', 3125), ('againnor', 3126), ('addage', 3127), ('unselfish', 3128), ('dewdrop', 3129), ('exciting', 3130), ('nonebut', 3131), ('garbagethey', 3132), ('situationsshould', 3133), ('yepportable', 3134), ('defribrilator', 3135), ('norc', 3136), ('surecamera', 3137), ('greek', 3138), ('isle', 3139), ('nopevibrating', 3140), ('nose', 3141), ('okcomputer', 3142), ('siberia', 3143), ('nyetget', 3144), ('drift', 3145), ('empty', 3146), ('girl', 3147), ('goodthe', 3148), ('experimental', 3149), ('nightlights', 3150), ('goofy', 3151), ('distraction', 3152), ('beg', 3153), ('remembers', 3154), ('letchall', 3155), ('priceeveryone', 3156), ('batteriesit', 3157), ('blinkforhome', 3158), ('fortune', 3159), ('suggested', 3160), ('pic', 3161), ('cartonthese', 3162), ('installedif', 3163), ('vouch', 3164), ('st', 3165), ('reboots', 3166), ('happier', 3167), ('evaluator', 3168), ('perfer', 3169), ('produ', 3170), ('ct', 3171), ('refer', 3172), ('freind', 3173), ('everseriously', 3174), ('yearsmy', 3175), ('verse', 3176), ('net', 3177), ('death', 3178), ('palm', 3179), ('environmentally', 3180), ('dynex', 3181), ('gloveboxes', 3182), ('dealing', 3183), ('rubberbands', 3184), ('methey', 3185), ('advisable', 3186), ('superb', 3187), ('am', 3188), ('listens', 3189), ('communicate', 3190), ('energizerduracellrayovac', 3191), ('contrast', 3192), ('reserve', 3193), ('prosgood', 3194), ('obtrusive', 3195), ('beforebut', 3196), ('priceit', 3197), ('undamaged', 3198), ('contain', 3199), ('disposed', 3200), ('hazardous', 3201), ('throughout', 3202), ('nonhousehold', 3203), ('remotetime', 3204), ('console', 3205), ('usability', 3206), ('standpoint', 3207), ('productbut', 3208), ('batterie', 3209), ('rite', 3210), ('aid', 3211), ('ravovac', 3212), ('undoubtedly', 3213), ('increasingly', 3214), ('direct', 3215), ('reviewsthe', 3216), ('santa', 3217), ('determined', 3218), ('dfd', 3219), ('informed', 3220), ('frameless', 3221), ('phooey', 3222), ('goood', 3223), ('adaquate', 3224), ('cheper', 3225), ('noe', 3226), ('littlebit', 3227), ('drug', 3228), ('lightsguess', 3229), ('strongamazon', 3230), ('blink', 3231), ('warned', 3232), ('hve', 3233), ('snap', 3234), ('notably', 3235), ('nuclear', 3236), ('nowadays', 3237), ('drugstore', 3238), ('minuscule', 3239), ('keeper', 3240), ('amazonbranded', 3241), ('blame', 3242), ('sooooo', 3243), ('jack', 3244), ('wire', 3245), ('ecpected', 3246), ('batteriesforget', 3247), ('leery', 3248), ('garabge', 3249), ('aficionado', 3250), ('clarity', 3251), ('tracking', 3252), ('collect', 3253), ('buyi', 3254), ('amd', 3255), ('mei', 3256), ('dc', 3257), ('trusting', 3258), ('pricier', 3259), ('loudpop', 3260), ('candy', 3261), ('unopened', 3262), ('recap', 3263), ('usable', 3264), ('corrupted', 3265), ('infinite', 3266), ('loop', 3267), ('againif', 3268), ('revisit', 3269), ('refurbishment', 3270), ('handsupdate', 3271), ('bf', 3272), ('alexas', 3273), ('chuckle', 3274), ('primitive', 3275), ('integral', 3276), ('shelter', 3277), ('pricequality', 3278), ('combination', 3279), ('wegmans', 3280), ('vector', 3281), ('despicable', 3282), ('oit', 3283), ('tumblr', 3284), ('sticky', 3285), ('moneywhen', 3286), ('drum', 3287), ('chat', 3288), ('humble', 3289), ('seeming', 3290), ('highlight', 3291), ('spot', 3292), ('includedsuch', 3293), ('overseem', 3294), ('bjs', 3295), ('appliancestoys', 3296), ('tomorrow', 3297), ('workused', 3298), ('cd', 3299), ('conair', 3300), ('defuzzerclothing', 3301), ('supportive', 3302), ('arises', 3303), ('buen', 3304), ('producto', 3305), ('timed', 3306), ('nervous', 3307), ('teen', 3308), ('conferencing', 3309), ('forth', 3310), ('costbenefit', 3311), ('tarnished', 3312), ('rusty', 3313), ('appearance', 3314), ('pure', 3315), ('apologized', 3316), ('servicebut', 3317), ('productbe', 3318), ('refundreturn', 3319), ('assume', 3320), ('morenothing', 3321), ('outagewhile', 3322), ('generous', 3323), ('structural', 3324), ('mousethis', 3325), ('conditioned', 3326), ('officei', 3327), ('otber', 3328), ('gritty', 3329), ('catch', 3330), ('fitbit', 3331), ('advertise', 3332), ('possession', 3333), ('lasti', 3334), ('costsavings', 3335), ('productsi', 3336), ('stood', 3337), ('trump', 3338), ('rigorous', 3339), ('strongi', 3340), ('surveillance', 3341), ('hyped', 3342), ('wonder', 3343), ('plot', 3344), ('devicebut', 3345), ('reordering', 3346), ('perfectlyand', 3347), ('navigation', 3348), ('improvement', 3349), ('wherever', 3350), ('featuring', 3351), ('voiceactivated', 3352), ('cloud', 3353), ('slim', 3354), ('ample', 3355), ('ideal', 3356), ('supersharp', 3357), ('highdefinition', 3358), ('immersive', 3359), ('costcokirkland', 3360), ('amazonfor', 3361), ('batteriesespecially', 3362), ('toysbatteries', 3363), ('tube', 3364), ('deed', 3365), ('lastbravo', 3366), ('lastinggood', 3367), ('thicker', 3368), ('ripp', 3369), ('suckstay', 3370), ('returnedno', 3371), ('usedd', 3372), ('wouldso', 3373), ('graat', 3374), ('necessity', 3375), ('carbon', 3376), ('monoxide', 3377), ('perfectlygreat', 3378), ('article', 3379), ('blanking', 3380), ('havethen', 3381), ('rayovak', 3382), ('pill', 3383), ('hype', 3384), ('can', 3385), ('itll', 3386), ('toothe', 3387), ('whenever', 3388), ('geotrax', 3389), ('apparent', 3390), ('containment', 3391), ('ringsealer', 3392), ('li', 3393), ('pricechalk', 3394), ('chug', 3395), ('stall', 3396), ('notei', 3397), ('utube', 3398), ('cello', 3399), ('motorized', 3400), ('shade', 3401), ('valid', 3402), ('incredible', 3403), ('tact', 3404), ('expandable', 3405), ('storagei', 3406), ('comixology', 3407), ('pixilated', 3408), ('textstill', 3409), ('spectacular', 3410), ('majorly', 3411), ('relaxing', 3412), ('guided', 3413), ('rayrayyahoocom', 3414), ('scatter', 3415), ('habe', 3416), ('fort', 3417), ('wouldve', 3418), ('decrease', 3419), ('decode', 3420), ('hevc', 3421), ('stopper', 3422), ('view', 3423), ('red', 3424), ('suitable', 3425), ('pricebatteries', 3426), ('valuebest', 3427), ('anywherewillbuy', 3428), ('varies', 3429), ('checker', 3430), ('confirms', 3431), ('hardship', 3432), ('loathing', 3433), ('sprained', 3434), ('qualityi', 3435), ('mord', 3436), ('george', 3437), ('swap', 3438), ('violent', 3439), ('crash', 3440), ('thesethey', 3441), ('forthey', 3442), ('tooseriously', 3443), ('explosion', 3444), ('unusable', 3445), ('adorable', 3446), ('transmtter', 3447), ('tech', 3448), ('peer', 3449), ('electrician', 3450), ('agreei', 3451), ('trade', 3452), ('vital', 3453), ('egg', 3454), ('lifeso', 3455), ('lifetime', 3456), ('experimented', 3457), ('retail', 3458), ('doodad', 3459), ('differently', 3460), ('alive', 3461), ('wed', 3462), ('partway', 3463), ('resort', 3464), ('glitch', 3465), ('skipping', 3466), ('deep', 3467), ('appreciable', 3468), ('virus', 3469), ('obvious', 3470), ('dynamic', 3471), ('functioned', 3472), ('longestlasting', 3473), ('terrifc', 3474), ('recommendedhave', 3475), ('object', 3476), ('batteriesnot', 3477), ('swissphone', 3478), ('pager', 3479), ('adjusted', 3480), ('maximum', 3481), ('written', 3482), ('greaatttt', 3483), ('taylor', 3484), ('swift', 3485), ('concert', 3486), ('separated', 3487), ('plasticwrapped', 3488), ('monitoring', 3489), ('peoplei', 3490), ('winter', 3491), ('beard', 3492), ('sbe', 3493), ('sub', 3494), ('hang', 3495), ('cree', 3496), ('twist', 3497), ('w', 3498), ('leap', 3499), ('listened', 3500), ('focused', 3501), ('treble', 3502), ('roommate', 3503), ('indoors', 3504), ('laterdead', 3505), ('dissappointed', 3506), ('stockedi', 3507), ('handythese', 3508), ('budgetconscious', 3509), ('thhought', 3510), ('cheapo', 3511), ('sony', 3512), ('apiece', 3513), ('batteriesbesides', 3514), ('quaility', 3515), ('pluggedin', 3516), ('whose', 3517), ('pricecheaper', 3518), ('apocalypse', 3519), ('topped', 3520), ('visiting', 3521), ('cuff', 3522), ('highfull', 3523), ('woke', 3524), ('nothin', 3525), ('usbpower', 3526), ('blinked', 3527), ('intermittently', 3528), ('preferably', 3529), ('couldshould', 3530), ('rocket', 3531), ('science', 3532), ('greater', 3533), ('mucho', 3534), ('grassyass', 3535), ('brew', 3536), ('grind', 3537), ('pot', 3538), ('pod', 3539), ('marker', 3540), ('advertized', 3541), ('puzzled', 3542), ('refusing', 3543), ('investing', 3544), ('overwhelmingly', 3545), ('postive', 3546), ('investigation', 3547), ('fbi', 3548), ('aug', 3549), ('jan', 3550), ('inner', 3551), ('themexpected', 3552), ('graphing', 3553), ('calculator', 3554), ('receivegreat', 3555), ('assortment', 3556), ('torn', 3557), ('bascis', 3558), ('immortal', 3559), ('soul', 3560), ('advise', 3561), ('storagethe', 3562), ('pressed', 3563), ('aspect', 3564), ('promos', 3565), ('ace', 3566), ('ehhh', 3567), ('significant', 3568), ('magenta', 3569), ('purpleish', 3570), ('pinkish', 3571), ('guessed', 3572), ('cu', 3573), ('lover', 3574), ('loverstoo', 3575), ('nauseum', 3576), ('storethanks', 3577), ('tilted', 3578), ('wellthis', 3579), ('failing', 3580), ('iffy', 3581), ('maglites', 3582), ('equally', 3583), ('xl', 3584), ('argue', 3585), ('sieve', 3586), ('agaun', 3587), ('mainstream', 3588), ('recargable', 3589), ('againthe', 3590), ('consequently', 3591), ('simultaneously', 3592), ('false', 3593), ('batteris', 3594), ('deodorizer', 3595), ('spray', 3596), ('ant', 3597), ('checking', 3598), ('stockpiling', 3599), ('pleasing', 3600), ('mixedbag', 3601), ('monthwill', 3602), ('shared', 3603), ('pricy', 3604), ('managed', 3605), ('shape', 3606), ('reaching', 3607), ('sharing', 3608), ('howeveri', 3609), ('it‚äôsadvertisement', 3610), ('scree', 3611), ('it‚äô', 3612), ('aroind', 3613), ('yup', 3614), ('fulfill', 3615), ('savd', 3616), ('squillions', 3617), ('unfortunetly', 3618), ('dust', 3619), ('laptopa', 3620), ('btw', 3621), ('transaction', 3622), ('electronicsgrandchildrens', 3623), ('toysflashlights', 3624), ('housethey', 3625), ('donobody', 3626), ('differencethank', 3627), ('totalwe', 3628), ('flashlightselectric', 3629), ('lefti', 3630), ('sonsvery', 3631), ('impressive', 3632), ('loopy', 3633), ('map', 3634), ('steam', 3635), ('energetically', 3636), ('active', 3637), ('forgotten', 3638), ('multi', 3639), ('aaaa', 3640), ('jn', 3641), ('batteriesand', 3642), ('restocked', 3643), ('alter', 3644), ('earliest', 3645), ('amazonnone', 3646), ('carrying', 3647), ('tripping', 3648), ('respective', 3649), ('minutesobviously', 3650), ('cardiac', 3651), ('surgeon', 3652), ('floor', 3653), ('panicked', 3654), ('hog', 3655), ('cookbook', 3656), ('dictionary', 3657), ('slowest', 3658), ('rotating', 3659), ('recipe', 3660), ('cooking', 3661), ('mover', 3662), ('productsins', 3663), ('mousebelieve', 3664), ('feb', 3665), ('mar', 3666), ('shipper', 3667), ('landfill', 3668), ('workand', 3669), ('streamlight', 3670), ('microstream', 3671), ('carried', 3672), ('percentage', 3673), ('adventure', 3674), ('recycled', 3675), ('outthese', 3676), ('truth', 3677), ('sign', 3678), ('deterioration', 3679), ('meanbatteries', 3680), ('cupboard', 3681), ('opposed', 3682), ('saleit', 3683), ('choppy', 3684), ('burst', 3685), ('toilet', 3686), ('floating', 3687), ('naturally', 3688), ('xbone', 3689), ('scuf', 3690), ('vacuum', 3691), ('compliment', 3692), ('spoken', 3693), ('deali', 3694), ('recurring', 3695), ('tofor', 3696), ('anotherbut', 3697), ('alsodriggs', 3698), ('watering', 3699), ('wud', 3700), ('wiggle', 3701), ('peripheral', 3702), ('virtually', 3703), ('grown', 3704), ('pillow', 3705), ('neck', 3706), ('fabric', 3707), ('goodthanks', 3708), ('grate', 3709), ('highquality', 3710), ('sec', 3711), ('complies', 3712), ('specification', 3713), ('clamshell', 3714), ('duracellenergizers', 3715), ('rebranded', 3716), ('dominate', 3717), ('leg', 3718), ('uselife', 3719), ('fuss', 3720), ('milage', 3721), ('unsurprisingly', 3722), ('blow', 3723), ('wink', 3724), ('acceptably', 3725), ('upsized', 3726), ('lovethis', 3727), ('verizon', 3728), ('pricequick', 3729), ('wretched', 3730), ('recognize', 3731), ('attempting', 3732), ('partnow', 3733), ('smarter', 3734), ('mousea', 3735), ('mousethats', 3736), ('utter', 3737), ('enuf', 3738), ('sept', 3739), ('ordinary', 3740), ('incredibly', 3741), ('foreign', 3742), ('ifwhen', 3743), ('thumb', 3744), ('areamazon', 3745), ('fabulous', 3746), ('dream', 3747), ('noted', 3748), ('reuse', 3749), ('rendering', 3750), ('pricebut', 3751), ('legit', 3752), ('batter', 3753), ('deterred', 3754), ('walked', 3755), ('counterwould', 3756), ('wallpaper', 3757), ('prettier', 3758), ('exceeds', 3759), ('consulting', 3760), ('handhelds', 3761), ('cracked', 3762), ('rocking', 3763), ('chair', 3764), ('minimize', 3765), ('tends', 3766), ('soapdispenser', 3767), ('preformed', 3768), ('tier', 3769), ('happening', 3770), ('downstairs', 3771), ('refunded', 3772), ('evaluated', 3773), ('yupthey', 3774), ('teeth', 3775), ('buzz', 3776), ('youve', 3777), ('supplying', 3778), ('mass', 3779), ('amazonbut', 3780), ('strongly', 3781), ('startled', 3782), ('aaaaa', 3783), ('beefy', 3784), ('popularknown', 3785), ('diabetic', 3786), ('smallwiredled', 3787), ('houroff', 3788), ('favs', 3789), ('bwhatever', 3790), ('weekblah', 3791), ('blah', 3792), ('mah', 3793), ('sizzling', 3794), ('fizzling', 3795), ('female', 3796), ('unreal', 3797), ('arrangement', 3798), ('againfast', 3799), ('toptier', 3800), ('modelsusing', 3801), ('vastly', 3802), ('considerarions', 3803), ('mint', 3804), ('chromecast', 3805), ('appeal', 3806), ('gizmo', 3807), ('boysi', 3808), ('surpised', 3809), ('hubby', 3810), ('ziploc', 3811), ('chocked', 3812), ('bloatware', 3813), ('mission', 3814), ('accomplishedthe', 3815), ('timethe', 3816), ('slippy', 3817), ('youtubeoverall', 3818), ('primary', 3819), ('dumping', 3820), ('marginal', 3821), ('turbo', 3822), ('steep', 3823), ('dropoff', 3824), ('othersyou', 3825), ('link', 3826), ('stinkin', 3827), ('monthsin', 3828), ('cumulative', 3829), ('ontimei', 3830), ('tricked', 3831), ('sofar', 3832), ('costo', 3833), ('buddy', 3834), ('onethe', 3835), ('intrusive', 3836), ('format', 3837), ('collected', 3838), ('pagean', 3839), ('inadvertant', 3840), ('twitchy', 3841), ('holei', 3842), ('explanatory', 3843), ('reoccurring', 3844), ('branch', 3845), ('assorted', 3846), ('batery', 3847), ('storesourced', 3848), ('senior', 3849), ('fouled', 3850), ('deceptively', 3851), ('energizerthey', 3852), ('wrone', 3853), ('spoil', 3854), ('rotten', 3855), ('lonely', 3856), ('aged', 3857), ('woman', 3858), ('barking', 3859), ('topic', 3860), ('themi', 3861), ('secret', 3862), ('emergeny', 3863), ('storm', 3864), ('zombie', 3865), ('riding', 3866), ('fueling', 3867), ('lift', 3868), ('gallon', 3869), ('foursome', 3870), ('batteriesthese', 3871), ('peaceful', 3872), ('ride', 3873), ('normall', 3874), ('namesgood', 3875), ('sacrifice', 3876), ('funcitonality', 3877), ('rental', 3878), ('outdated', 3879), ('underground', 3880), ('moderate', 3881), ('packagingi', 3882), ('worthwhile', 3883), ('heater', 3884), ('project', 3885), ('batteriessimple', 3886), ('yea', 3887), ('brandwill', 3888), ('foreverbuying', 3889), ('sth', 3890), ('vacuumsealed', 3891), ('heavyannoying', 3892), ('environmentaly', 3893), ('favor', 3894), ('factplease', 3895), ('buenos', 3896), ('productos', 3897), ('batteryimho', 3898), ('ecological', 3899), ('responsible', 3900), ('almostexhausted', 3901), ('fitso', 3902), ('undemanding', 3903), ('appealing', 3904), ('accident', 3905), ('hesitate', 3906), ('bye', 3907), ('hallmark', 3908), ('figurine', 3909), ('fyi', 3910), ('comparably', 3911), ('batterydimensions', 3912), ('closeup', 3913), ('reviewincluded', 3914), ('outputlast', 3915), ('timeawesome', 3916), ('priceconsnoneadditional', 3917), ('considerationsthese', 3918), ('onetime', 3919), ('elsewhereoverall', 3920), ('starsif', 3921), ('team', 3922), ('driven', 3923), ('sideloaded', 3924), ('infrequently', 3925), ('teenage', 3926), ('themyou', 3927), ('dealarrived', 3928), ('boxnothing', 3929), ('fancyand', 3930), ('safelyim', 3931), ('strictly', 3932), ('trackpad', 3933), ('completed', 3934), ('entered', 3935), ('amazin', 3936), ('wel', 3937), ('mane', 3938), ('choosing', 3939), ('determining', 3940), ('effectiveness', 3941), ('duracellhopefully', 3942), ('myselfi', 3943), ('makeup', 3944), ('losewrong', 3945), ('yearnot', 3946), ('enegizer', 3947), ('notation', 3948), ('longlived', 3949), ('sleeping', 3950), ('waking', 3951), ('husbandso', 3952), ('lamp', 3953), ('cosco', 3954), ('performer', 3955), ('hardwark', 3956), ('fabulously', 3957), ('speedlites', 3958), ('screwing', 3959), ('restarts', 3960), ('fashion', 3961), ('callinh', 3962), ('dangerous', 3963), ('safety', 3964), ('regulation', 3965), ('parcel', 3966), ('fails', 3967), ('okit', 3968), ('discover', 3969), ('wrote', 3970), ('detailing', 3971), ('insurance', 3972), ('ina', 3973), ('unsatisfactory', 3974), ('storebrand', 3975), ('craziest', 3976), ('membership', 3977), ('storethey', 3978), ('retract', 3979), ('reviewprevious', 3980), ('reviewfantastic', 3981), ('believer', 3982), ('fooled', 3983), ('exist', 3984), ('conducted', 3985), ('gut', 3986), ('depotlowes', 3987), ('rightso', 3988), ('tie', 3989), ('shortwave', 3990), ('nearby', 3991), ('fin', 3992), ('messing', 3993), ('costwe', 3994), ('scanner', 3995), ('understatement', 3996), ('theseboth', 3997), ('pedi', 3998), ('callused', 3999), ('grinder', 4000), ('workoutamazons', 4001), ('differenceim', 4002), ('snappy', 4003), ('slarts', 4004), ('appsamazon', 4005), ('essential', 4006), ('newegg', 4007), ('defiantly', 4008), ('walmartcomtheir', 4009), ('brandbogus', 4010), ('goodughthen', 4011), ('rightthank', 4012), ('demon', 4013), ('jimmie', 4014), ('sensing', 4015), ('natural', 4016), ('productsoverall', 4017), ('zone', 4018), ('sooo', 4019), ('discussion', 4020), ('marc', 4021), ('correra', 4022), ('greati', 4023), ('packcame', 4024), ('boxi', 4025), ('boughtwe', 4026), ('purchaseswill', 4027), ('ariseshintgreat', 4028), ('batteriesmake', 4029), ('batterieshighly', 4030), ('default', 4031), ('rally', 4032), ('imho', 4033), ('admittedly', 4034), ('thisill', 4035), ('energized', 4036), ('mark', 4037), ('prove', 4038), ('yourselfjs', 4039), ('bomb', 4040), ('lying', 4041), ('greatsolid', 4042), ('iam', 4043), ('lotta', 4044), ('pa', 4045), ('ban', 4046), ('scenario', 4047), ('dealgreat', 4048), ('track', 4049), ('closely', 4050), ('deserved', 4051), ('maxcell', 4052), ('adequately', 4053), ('bravo', 4054), ('painful', 4055), ('minuteseverything', 4056), ('keyboardimpossible', 4057), ('industrial', 4058), ('steer', 4059), ('batteiries', 4060), ('tuff', 4061), ('ware', 4062), ('leappads', 4063), ('til', 4064), ('location', 4065), ('plainly', 4066), ('marked', 4067), ('someplace', 4068), ('baggies', 4069), ('goodbye', 4070), ('evening', 4071), ('techy', 4072), ('pointless', 4073), ('drove', 4074), ('telling', 4075), ('testernot', 4076), ('testeroh', 4077), ('leary', 4078), ('batterieslast', 4079), ('warrant', 4080), ('excellently', 4081), ('quantum', 4082), ('supplement', 4083), ('la', 4084), ('paging', 4085), ('greatplease', 4086), ('remain', 4087), ('boomshackalackalacka', 4088), ('automatically', 4089), ('choose', 4090), ('snuck', 4091), ('multipacks', 4092), ('durably', 4093), ('thisits', 4094), ('chargeeven', 4095), ('guam', 4096), ('batterize', 4097), ('batteriesgets', 4098), ('produc', 4099), ('snmap', 4100), ('electroniucs', 4101), ('uising', 4102), ('reasonablypriced', 4103), ('enginzer', 4104), ('contaced', 4105), ('navigated', 4106), ('shooting', 4107), ('concluded', 4108), ('ussourced', 4109), ('readily', 4110), ('donecon', 4111), ('providing', 4112), ('surebut', 4113), ('amazonbrand', 4114), ('functionlime', 4115), ('fancier', 4116), ('cake', 4117), ('iob', 4118), ('excessively', 4119), ('dealill', 4120), ('humidity', 4121), ('technical', 4122), ('reliablesome', 4123), ('longafter', 4124), ('generates', 4125), ('powder', 4126), ('placehighly', 4127), ('emgreat', 4128), ('reviewd', 4129), ('challenge', 4130), ('beating', 4131), ('sso', 4132), ('productis', 4133), ('expectedfits', 4134), ('transport', 4135), ('hmmmmpaid', 4136), ('quartermy', 4137), ('financial', 4138), ('advisor', 4139), ('wagging', 4140), ('forgetting', 4141), ('proudly', 4142), ('converted', 4143), ('starsthey', 4144), ('loti', 4145), ('fool', 4146), ('brandnamed', 4147), ('adding', 4148), ('workmanship', 4149), ('abysmal', 4150), ('shorted', 4151), ('opt', 4152), ('dimmed', 4153), ('ereader', 4154), ('disabled', 4155), ('immediate', 4156), ('wax', 4157), ('effusive', 4158), ('poetic', 4159), ('greatlast', 4160), ('amanzon', 4161), ('deadsucks', 4162), ('mt', 4163), ('pricehave', 4164), ('gurfr', 4165), ('ner', 4166), ('onggrevrf', 4167), ('ng', 4168), ('gur', 4169), ('evtug', 4170), ('cevprf', 4171), ('gungf', 4172), ('vg', 4173), ('abg', 4174), ('ernyyl', 4175), ('ohg', 4176), ('vgf', 4177), ('tbbq', 4178), ('rabhtu', 4179), ('zr', 4180), ('abj', 4181), ('ehhthey', 4182), ('quicklyits', 4183), ('theseupdate', 4184), ('workingshort', 4185), ('nonworking', 4186), ('workin', 4187), ('estimation', 4188), ('kitten', 4189), ('polished', 4190), ('sand', 4191), ('stash', 4192), ('onpar', 4193), ('zillion', 4194), ('soundopted', 4195), ('soundlink', 4196), ('primealexa', 4197), ('featuresjust', 4198), ('qty', 4199), ('frog', 4200), ('listed', 4201), ('decor', 4202), ('devicesi', 4203), ('namely', 4204), ('blackweb', 4205), ('keyboardtrackpad', 4206), ('combo', 4207), ('wiimote', 4208), ('paywe', 4209), ('batterieswould', 4210), ('pricerecommended', 4211), ('expire', 4212), ('reusable', 4213), ('basicspackaging', 4214), ('longerupdate', 4215), ('usehighly', 4216), ('relative', 4217), ('hi', 4218), ('slime', 4219), ('bank', 4220), ('costgreat', 4221), ('greatbought', 4222), ('thief', 4223), ('amazong', 4224), ('cheapfeeling', 4225), ('lining', 4226), ('extend', 4227), ('toward', 4228), ('farther', 4229), ('mist', 4230), ('diffuser', 4231), ('unfriendly', 4232), ('enjoying', 4233), ('abuse', 4234), ('salesperson', 4235), ('talked', 4236), ('massive', 4237), ('satisfaction', 4238), ('tore', 4239), ('blue', 4240), ('shear', 4241), ('q', 4242), ('worthiness', 4243), ('differencewhen', 4244), ('retire', 4245), ('iphone', 4246), ('scad', 4247), ('dressed', 4248), ('kick', 4249), ('as', 4250), ('elaborate', 4251), ('ease', 4252), ('nomagic', 4253), ('strike', 4254), ('balance', 4255), ('cage', 4256), ('crate', 4257), ('tilt', 4258), ('gate', 4259), ('drastic', 4260), ('sat', 4261), ('element', 4262), ('relabeled', 4263), ('grainy', 4264), ('buffered', 4265), ('whopping', 4266), ('agree', 4267), ('prize', 4268), ('swing', 4269), ('bouncer', 4270), ('operational', 4271), ('duracellenergizer', 4272), ('soooo', 4273), ('kirklands', 4274), ('battreries', 4275), ('targetcom', 4276), ('suggests', 4277), ('usedwont', 4278), ('photographershousehold', 4279), ('caveat', 4280), ('emptor', 4281), ('raovac', 4282), ('reccomend', 4283), ('addon', 4284), ('stockup', 4285), ('hole', 4286), ('batteriesjust', 4287), ('duran', 4288), ('muchisimo', 4289), ('recomiendo', 4290), ('plugging', 4291), ('unknown', 4292), ('cycled', 4293), ('dice', 4294), ('lightening', 4295), ('swooped', 4296), ('folder', 4297), ('jury', 4298), ('monster', 4299), ('byut', 4300), ('record', 4301), ('havet', 4302), ('chtistmas', 4303), ('reported', 4304), ('unconditional', 4305), ('vet', 4306), ('picky', 4307), ('fustration', 4308), ('freshfull', 4309), ('expansive', 4310), ('darn', 4311), ('playtime', 4312), ('bored', 4313), ('externally', 4314), ('pleasure', 4315), ('password', 4316), ('authorized', 4317), ('donenot', 4318), ('batteriesno', 4319), ('freshener', 4320), ('pawbo', 4321), ('sealedwrapped', 4322), ('ecopackaging', 4323), ('yeari', 4324), ('reservation', 4325), ('magnifying', 4326), ('glass', 4327), ('readable', 4328), ('surely', 4329), ('necessitates', 4330), ('japan', 4331), ('country', 4332), ('origin', 4333), ('yall', 4334), ('brutal', 4335), ('kno', 4336), ('eeeks', 4337), ('raters', 4338), ('conclude', 4339), ('teenager', 4340), ('hide', 4341), ('itemfast', 4342), ('shipmenthigh', 4343), ('batterues', 4344), ('pathetic', 4345), ('costeffective', 4346), ('costcell', 4347), ('factory', 4348), ('beautifully', 4349), ('definently', 4350), ('foreseeable', 4351), ('moneythese', 4352), ('mishap', 4353), ('fixed', 4354), ('chargei', 4355), ('tthrough', 4356), ('word', 4357), ('akaline', 4358), ('directed', 4359), ('producing', 4360), ('runnercoyote', 4361), ('cartoon', 4362), ('coyote', 4363), ('desert', 4364), ('wallet', 4365), ('blowing', 4366), ('cash', 4367), ('worki', 4368), ('gold', 4369), ('destroying', 4370), ('doctor', 4371), ('manufacture', 4372), ('wks', 4373), ('unsure', 4374), ('reimbursement', 4375), ('itemsbottom', 4376), ('rayovaks', 4377), ('deivce', 4378), ('delighted', 4379), ('puchase', 4380), ('complicates', 4381), ('costlywas', 4382), ('tune', 4383), ('pkg', 4384), ('convent', 4385), ('evaluates', 4386), ('coldiced', 4387), ('ice', 4388), ('cube', 4389), ('melting', 4390), ('marketplace', 4391), ('competes', 4392), ('aircraft', 4393), ('offshore', 4394), ('america', 4395), ('kill', 4396), ('dung', 4397), ('migrated', 4398), ('eneloop', 4399), ('request', 4400), ('anazon', 4401), ('pricepoint', 4402), ('spam', 4403), ('laggy', 4404), ('carrasoul', 4405), ('loadout', 4406), ('enhance', 4407), ('reduces', 4408), ('timesthe', 4409), ('excellentthere', 4410), ('optionsi', 4411), ('everyonethanks', 4412), ('owl', 4413), ('cluttered', 4414), ('darker', 4415), ('dumb', 4416), ('pc', 4417), ('tivo', 4418), ('quicklyi', 4419), ('ankle', 4420), ('swelling', 4421), ('hurting', 4422), ('silky', 4423), ('recharged', 4424), ('rapidly', 4425), ('damaging', 4426), ('themmy', 4427), ('garbagei', 4428), ('fry', 4429), ('regard', 4430), ('heartbeat', 4431), ('priceseems', 4432), ('hat', 4433), ('goodbut', 4434), ('athey', 4435), ('cylinder', 4436), ('bigbox', 4437), ('army', 4438), ('batteryhungry', 4439), ('lifesaver', 4440), ('income', 4441), ('do', 4442), ('memorize', 4443), ('gained', 4444), ('mailthe', 4445), ('prick', 4446), ('packagedthere', 4447), ('frequent', 4448), ('builtin', 4449), ('fired', 4450), ('doorbell', 4451), ('roof', 4452), ('endedup', 4453), ('shack', 4454), ('insteadi', 4455), ('shortterm', 4456), ('heating', 4457), ('wholesale', 4458), ('outage', 4459), ('discharging', 4460), ('internally', 4461), ('thes', 4462), ('xpected', 4463), ('improving', 4464), ('ignorance', 4465), ('paperwite', 4466), ('kindler', 4467), ('costeffectiveness', 4468), ('tacky', 4469), ('mundane', 4470), ('waysremote', 4471), ('toysbut', 4472), ('commonly', 4473), ('quicklyone', 4474), ('bonus', 4475), ('glove', 4476), ('flicker', 4477), ('brain', 4478), ('recording', 4479), ('pulse', 4480), ('oximeter', 4481), ('exceeded', 4482), ('integrated', 4483), ('thisportability', 4484), ('plagued', 4485), ('maisto', 4486), ('crawler', 4487), ('vehicle', 4488), ('hunt', 4489), ('delight', 4490), ('schlage', 4491), ('woeful', 4492), ('adv', 4493), ('fargreat', 4494), ('badthe', 4495), ('performancethe', 4496), ('monitored', 4497), ('suddenly', 4498), ('minor', 4499), ('body', 4500), ('discolorationone', 4501), ('cutout', 4502), ('pulltab', 4503), ('twisting', 4504), ('undue', 4505), ('stress', 4506), ('corrugated', 4507), ('plentiful', 4508), ('ooze', 4509), ('ambition', 4510), ('involving', 4511), ('longerdont', 4512), ('arrives', 4513), ('shove', 4514), ('hroat', 4515), ('tvand', 4516), ('linked', 4517), ('haveit', 4518), ('stacked', 4519), ('boxhowevertwo', 4520), ('slimybut', 4521), ('ea', 4522), ('camsthe', 4523), ('motionactivated', 4524), ('panasonic', 4525), ('oral', 4526), ('irrigator', 4527), ('solutionpraiseworthy', 4528), ('alsoconveniently', 4529), ('defectlve', 4530), ('roll', 4531), ('straighten', 4532), ('superbly', 4533), ('ez', 4534), ('orangeish', 4535), ('suction', 4536), ('stretched', 4537), ('loan', 4538), ('gunman', 4539), ('screw', 4540), ('giant', 4541), ('nonhardcore', 4542), ('highpower', 4543), ('caseedit', 4544), ('theselink', 4545), ('jay', 4546), ('rule', 4547), ('impress', 4548), ('theyd', 4549), ('dump', 4550), ('shirt', 4551), ('youtypically', 4552), ('nightvery', 4553), ('displeased', 4554), ('destroy', 4555), ('valueworks', 4556), ('expectedappropriate', 4557), ('lifeconsnone', 4558), ('solely', 4559), ('pointuse', 4560), ('defected', 4561), ('digging', 4562), ('deeper', 4563), ('retain', 4564), ('peak', 4565), ('retention', 4566), ('logged', 4567), ('booklet', 4568), ('coppertop', 4569), ('depleted', 4570), ('corrosive', 4571), ('timedisclosure', 4572), ('discountedfree', 4573), ('affiliate', 4574), ('monetary', 4575), ('compensation', 4576), ('importance', 4577), ('feedback', 4578), ('integrity', 4579), ('standardtype', 4580), ('amazingly', 4581), ('purchasedthey', 4582), ('usedoverall', 4583), ('attempt', 4584), ('proved', 4585), ('unworthy', 4586), ('pricei', 4587), ('walkietalkie', 4588), ('abundance', 4589), ('timehave', 4590), ('seamless', 4591), ('ink', 4592), ('adoption', 4593), ('utilize', 4594), ('closethallway', 4595), ('fifth', 4596), ('bunnyall', 4597), ('perishable', 4598), ('man', 4599), ('od', 4600), ('fe', 4601), ('annually', 4602), ('poorest', 4603), ('priceminor', 4604), ('gobble', 4605), ('sinister', 4606), ('scientist', 4607), ('laugh', 4608), ('duracels', 4609), ('mentioned', 4610), ('awkward', 4611), ('enjoyable', 4612), ('recharges', 4613), ('mill', 4614), ('accessory', 4615), ('controlled', 4616), ('shortens', 4617), ('worthwhat', 4618), ('beepsnot', 4619), ('pencil', 4620), ('sharpener', 4621), ('etcthey', 4622), ('depending', 4623), ('longthe', 4624), ('monthsif', 4625), ('monthit', 4626), ('tvstb', 4627), ('carton', 4628), ('posted', 4629), ('reiterate', 4630), ('disservice', 4631), ('vouche', 4632), ('floored', 4633), ('prattle', 4634), ('loathe', 4635), ('discontinue', 4636), ('unbecoming', 4637), ('pronto', 4638), ('handing', 4639), ('organizing', 4640), ('furious', 4641), ('othersthese', 4642), ('unexplainably', 4643), ('unexpectedly', 4644), ('workim', 4645), ('restocking', 4646), ('outlast', 4647), ('suchhow', 4648), ('evaluate', 4649), ('criterion', 4650), ('exhibiting', 4651), ('correct', 4652), ('ratio', 4653), ('sensibility', 4654), ('pricelove', 4655), ('tu', 4656), ('outlasts', 4657), ('million', 4658), ('bos', 4659), ('receipt', 4660), ('productstuck', 4661), ('sems', 4662), ('scientific', 4663), ('layman', 4664), ('daythe', 4665), ('fuzzy', 4666), ('ought', 4667), ('laundry', 4668), ('hero', 4669), ('batteriesthe', 4670), ('biodegradable', 4671), ('wouldseeing', 4672), ('exxpected', 4673), ('lap', 4674), ('rivet', 4675), ('welded', 4676), ('uncomfortable', 4677), ('resting', 4678), ('counter', 4679), ('mu', 4680), ('questionsbut', 4681), ('guaranteed', 4682), ('data', 4683), ('battereis', 4684), ('infinitely', 4685), ('batterieslong', 4686), ('smile', 4687), ('priceif', 4688), ('suffer', 4689), ('reducing', 4690), ('unlikely', 4691), ('twenty', 4692), ('arranged', 4693), ('he', 4694), ('diabetes', 4695), ('morethese', 4696), ('brickandmortar', 4697), ('pumping', 4698), ('exploxed', 4699), ('blanket', 4700), ('newborn', 4701), ('uhoh', 4702), ('finepix', 4703), ('lens', 4704), ('closing', 4705), ('towell', 4706), ('counted', 4707), ('conservative', 4708), ('einstein', 4709), ('math', 4710), ('lousy', 4711), ('tick', 4712), ('royallynow', 4713), ('alltime', 4714), ('flavor', 4715), ('smooth', 4716), ('tangy', 4717), ('aftertaste', 4718), ('conduct', 4719), ('forgetthese', 4720), ('nintendo', 4721), ('d', 4722), ('rarely', 4723), ('samethey', 4724), ('hiking', 4725), ('rockclimbing', 4726), ('tire', 4727), ('impossibly', 4728), ('decribed', 4729), ('batties', 4730), ('beginers', 4731), ('greatf', 4732), ('seam', 4733), ('dramatic', 4734), ('againthat', 4735), ('arei', 4736), ('render', 4737), ('valuable', 4738), ('problemsi', 4739), ('returnabledont', 4740), ('fridge', 4741), ('puzzle', 4742), ('fewer', 4743), ('sophisticated', 4744), ('mexican', 4745), ('mariachi', 4746), ('productthey', 4747), ('chain', 4748), ('heavyduty', 4749), ('doesi', 4750), ('questionso', 4751), ('radiocome', 4752), ('lightweight', 4753), ('aint', 4754), ('diaper', 4755), ('bateries', 4756), ('purchaseuse', 4757), ('chess', 4758), ('allowing', 4759), ('raw', 4760), ('avail', 4761), ('hook', 4762), ('dollarstore', 4763), ('energize', 4764), ('aimed', 4765), ('we‚äôve', 4766), ('itwhen', 4767), ('liner', 4768), ('lastafter', 4769), ('enrolled', 4770), ('periodicallyi', 4771), ('backed', 4772)])"
      ]
     },
     "execution_count": 11,
     "metadata": {},
     "output_type": "execute_result"
    }
   ],
   "source": [
    "tok.word_index.items()"
   ]
  },
  {
   "cell_type": "code",
   "execution_count": 12,
   "id": "e32409d6",
   "metadata": {
    "executionInfo": {
     "elapsed": 412,
     "status": "ok",
     "timestamp": 1700661605876,
     "user": {
      "displayName": "Pulavendran S",
      "userId": "09545379829326731753"
     },
     "user_tz": -330
    },
    "id": "e32409d6"
   },
   "outputs": [],
   "source": [
    "with open(file=\"models/tokens.pkl\",mode=\"wb\") as file:\n",
    "    pickle.dump(obj=tok,file=file)"
   ]
  },
  {
   "cell_type": "code",
   "execution_count": 13,
   "id": "2350647f",
   "metadata": {
    "executionInfo": {
     "elapsed": 629,
     "status": "ok",
     "timestamp": 1700661618891,
     "user": {
      "displayName": "Pulavendran S",
      "userId": "09545379829326731753"
     },
     "user_tz": -330
    },
    "id": "2350647f"
   },
   "outputs": [],
   "source": [
    "pad_text=pad_sequences(sequences=num_data,maxlen=128,padding=\"post\",truncating=\"post\")"
   ]
  },
  {
   "cell_type": "code",
   "execution_count": 14,
   "id": "59f51281",
   "metadata": {
    "colab": {
     "base_uri": "https://localhost:8080/"
    },
    "executionInfo": {
     "elapsed": 5,
     "status": "ok",
     "timestamp": 1700661620488,
     "user": {
      "displayName": "Pulavendran S",
      "userId": "09545379829326731753"
     },
     "user_tz": -330
    },
    "id": "59f51281",
    "outputId": "ac85d5d0-eca8-4949-c2a8-e74780c48cee"
   },
   "outputs": [
    {
     "data": {
      "text/plain": [
       "array([[  39,   97,  614,  206,    1,  126,  294,  258,   28,   19,  226,\n",
       "          22,    9,    1,    0,    0,    0,    0,    0,    0,    0,    0,\n",
       "           0,    0,    0,    0,    0,    0,    0,    0,    0,    0,    0,\n",
       "           0,    0,    0,    0,    0,    0,    0,    0,    0,    0,    0,\n",
       "           0,    0,    0,    0,    0,    0,    0,    0,    0,    0,    0,\n",
       "           0,    0,    0,    0,    0,    0,    0,    0,    0,    0,    0,\n",
       "           0,    0,    0,    0,    0,    0,    0,    0,    0,    0,    0,\n",
       "           0,    0,    0,    0,    0,    0,    0,    0,    0,    0,    0,\n",
       "           0,    0,    0,    0,    0,    0,    0,    0,    0,    0,    0,\n",
       "           0,    0,    0,    0,    0,    0,    0,    0,    0,    0,    0,\n",
       "           0,    0,    0,    0,    0,    0,    0,    0,    0,    0,    0,\n",
       "           0,    0,    0,    0,    0,    0,    0],\n",
       "       [ 114,   18, 1953,   49,  193,   32, 1612,   62,   18,  946,   32,\n",
       "          77,  579,  775, 1954,   49,   36,  470,   85,   35,  631,   20,\n",
       "          63, 1955,  210, 1956, 1116,   21,  186,    0,    0,    0,    0,\n",
       "           0,    0,    0,    0,    0,    0,    0,    0,    0,    0,    0,\n",
       "           0,    0,    0,    0,    0,    0,    0,    0,    0,    0,    0,\n",
       "           0,    0,    0,    0,    0,    0,    0,    0,    0,    0,    0,\n",
       "           0,    0,    0,    0,    0,    0,    0,    0,    0,    0,    0,\n",
       "           0,    0,    0,    0,    0,    0,    0,    0,    0,    0,    0,\n",
       "           0,    0,    0,    0,    0,    0,    0,    0,    0,    0,    0,\n",
       "           0,    0,    0,    0,    0,    0,    0,    0,    0,    0,    0,\n",
       "           0,    0,    0,    0,    0,    0,    0,    0,    0,    0,    0,\n",
       "           0,    0,    0,    0,    0,    0,    0],\n",
       "       [   6,    2,    0,    0,    0,    0,    0,    0,    0,    0,    0,\n",
       "           0,    0,    0,    0,    0,    0,    0,    0,    0,    0,    0,\n",
       "           0,    0,    0,    0,    0,    0,    0,    0,    0,    0,    0,\n",
       "           0,    0,    0,    0,    0,    0,    0,    0,    0,    0,    0,\n",
       "           0,    0,    0,    0,    0,    0,    0,    0,    0,    0,    0,\n",
       "           0,    0,    0,    0,    0,    0,    0,    0,    0,    0,    0,\n",
       "           0,    0,    0,    0,    0,    0,    0,    0,    0,    0,    0,\n",
       "           0,    0,    0,    0,    0,    0,    0,    0,    0,    0,    0,\n",
       "           0,    0,    0,    0,    0,    0,    0,    0,    0,    0,    0,\n",
       "           0,    0,    0,    0,    0,    0,    0,    0,    0,    0,    0,\n",
       "           0,    0,    0,    0,    0,    0,    0,    0,    0,    0,    0,\n",
       "           0,    0,    0,    0,    0,    0,    0],\n",
       "       [  40,  134,    4,   18,   65,   10,  984,   19,  373, 3784,  150,\n",
       "          18,   88,  111, 1117,  175,  387,  709,  914, 2518,   81,   68,\n",
       "         252,  137,  915, 1165,  751, 1307,  671,  347,  726,  374,    0,\n",
       "           0,    0,    0,    0,    0,    0,    0,    0,    0,    0,    0,\n",
       "           0,    0,    0,    0,    0,    0,    0,    0,    0,    0,    0,\n",
       "           0,    0,    0,    0,    0,    0,    0,    0,    0,    0,    0,\n",
       "           0,    0,    0,    0,    0,    0,    0,    0,    0,    0,    0,\n",
       "           0,    0,    0,    0,    0,    0,    0,    0,    0,    0,    0,\n",
       "           0,    0,    0,    0,    0,    0,    0,    0,    0,    0,    0,\n",
       "           0,    0,    0,    0,    0,    0,    0,    0,    0,    0,    0,\n",
       "           0,    0,    0,    0,    0,    0,    0,    0,    0,    0,    0,\n",
       "           0,    0,    0,    0,    0,    0,    0],\n",
       "       [  46,  330,   62,  147,  127,    0,    0,    0,    0,    0,    0,\n",
       "           0,    0,    0,    0,    0,    0,    0,    0,    0,    0,    0,\n",
       "           0,    0,    0,    0,    0,    0,    0,    0,    0,    0,    0,\n",
       "           0,    0,    0,    0,    0,    0,    0,    0,    0,    0,    0,\n",
       "           0,    0,    0,    0,    0,    0,    0,    0,    0,    0,    0,\n",
       "           0,    0,    0,    0,    0,    0,    0,    0,    0,    0,    0,\n",
       "           0,    0,    0,    0,    0,    0,    0,    0,    0,    0,    0,\n",
       "           0,    0,    0,    0,    0,    0,    0,    0,    0,    0,    0,\n",
       "           0,    0,    0,    0,    0,    0,    0,    0,    0,    0,    0,\n",
       "           0,    0,    0,    0,    0,    0,    0,    0,    0,    0,    0,\n",
       "           0,    0,    0,    0,    0,    0,    0,    0,    0,    0,    0,\n",
       "           0,    0,    0,    0,    0,    0,    0]], dtype=int32)"
      ]
     },
     "execution_count": 14,
     "metadata": {},
     "output_type": "execute_result"
    }
   ],
   "source": [
    "pad_text[:5]"
   ]
  },
  {
   "cell_type": "code",
   "execution_count": 15,
   "id": "rKvFmr9mhFS1",
   "metadata": {
    "colab": {
     "base_uri": "https://localhost:8080/",
     "height": 206
    },
    "executionInfo": {
     "elapsed": 6,
     "status": "ok",
     "timestamp": 1700661620935,
     "user": {
      "displayName": "Pulavendran S",
      "userId": "09545379829326731753"
     },
     "user_tz": -330
    },
    "id": "rKvFmr9mhFS1",
    "outputId": "c91d1f43-4ba6-44cd-d91b-f971ebf1aea0"
   },
   "outputs": [
    {
     "data": {
      "text/html": [
       "\n",
       "  <div id=\"df-b11f5e8e-d33a-46d1-ae2b-fbad55dbb7ad\" class=\"colab-df-container\">\n",
       "    <div>\n",
       "<style scoped>\n",
       "    .dataframe tbody tr th:only-of-type {\n",
       "        vertical-align: middle;\n",
       "    }\n",
       "\n",
       "    .dataframe tbody tr th {\n",
       "        vertical-align: top;\n",
       "    }\n",
       "\n",
       "    .dataframe thead th {\n",
       "        text-align: right;\n",
       "    }\n",
       "</style>\n",
       "<table border=\"1\" class=\"dataframe\">\n",
       "  <thead>\n",
       "    <tr style=\"text-align: right;\">\n",
       "      <th></th>\n",
       "      <th>cleaned_text</th>\n",
       "      <th>sentiment</th>\n",
       "    </tr>\n",
       "  </thead>\n",
       "  <tbody>\n",
       "    <tr>\n",
       "      <th>0</th>\n",
       "      <td>device take huge amount battery thought id try...</td>\n",
       "      <td>positive</td>\n",
       "    </tr>\n",
       "    <tr>\n",
       "      <th>1</th>\n",
       "      <td>always bought nabis lasted couple year grandki...</td>\n",
       "      <td>negative</td>\n",
       "    </tr>\n",
       "    <tr>\n",
       "      <th>2</th>\n",
       "      <td>work great</td>\n",
       "      <td>positive</td>\n",
       "    </tr>\n",
       "    <tr>\n",
       "      <th>3</th>\n",
       "      <td>cant beat price bought best buy held well insi...</td>\n",
       "      <td>negative</td>\n",
       "    </tr>\n",
       "    <tr>\n",
       "      <th>4</th>\n",
       "      <td>really impressed item pretty slow</td>\n",
       "      <td>negative</td>\n",
       "    </tr>\n",
       "  </tbody>\n",
       "</table>\n",
       "</div>\n",
       "    <div class=\"colab-df-buttons\">\n",
       "\n",
       "  <div class=\"colab-df-container\">\n",
       "    <button class=\"colab-df-convert\" onclick=\"convertToInteractive('df-b11f5e8e-d33a-46d1-ae2b-fbad55dbb7ad')\"\n",
       "            title=\"Convert this dataframe to an interactive table.\"\n",
       "            style=\"display:none;\">\n",
       "\n",
       "  <svg xmlns=\"http://www.w3.org/2000/svg\" height=\"24px\" viewBox=\"0 -960 960 960\">\n",
       "    <path d=\"M120-120v-720h720v720H120Zm60-500h600v-160H180v160Zm220 220h160v-160H400v160Zm0 220h160v-160H400v160ZM180-400h160v-160H180v160Zm440 0h160v-160H620v160ZM180-180h160v-160H180v160Zm440 0h160v-160H620v160Z\"/>\n",
       "  </svg>\n",
       "    </button>\n",
       "\n",
       "  <style>\n",
       "    .colab-df-container {\n",
       "      display:flex;\n",
       "      gap: 12px;\n",
       "    }\n",
       "\n",
       "    .colab-df-convert {\n",
       "      background-color: #E8F0FE;\n",
       "      border: none;\n",
       "      border-radius: 50%;\n",
       "      cursor: pointer;\n",
       "      display: none;\n",
       "      fill: #1967D2;\n",
       "      height: 32px;\n",
       "      padding: 0 0 0 0;\n",
       "      width: 32px;\n",
       "    }\n",
       "\n",
       "    .colab-df-convert:hover {\n",
       "      background-color: #E2EBFA;\n",
       "      box-shadow: 0px 1px 2px rgba(60, 64, 67, 0.3), 0px 1px 3px 1px rgba(60, 64, 67, 0.15);\n",
       "      fill: #174EA6;\n",
       "    }\n",
       "\n",
       "    .colab-df-buttons div {\n",
       "      margin-bottom: 4px;\n",
       "    }\n",
       "\n",
       "    [theme=dark] .colab-df-convert {\n",
       "      background-color: #3B4455;\n",
       "      fill: #D2E3FC;\n",
       "    }\n",
       "\n",
       "    [theme=dark] .colab-df-convert:hover {\n",
       "      background-color: #434B5C;\n",
       "      box-shadow: 0px 1px 3px 1px rgba(0, 0, 0, 0.15);\n",
       "      filter: drop-shadow(0px 1px 2px rgba(0, 0, 0, 0.3));\n",
       "      fill: #FFFFFF;\n",
       "    }\n",
       "  </style>\n",
       "\n",
       "    <script>\n",
       "      const buttonEl =\n",
       "        document.querySelector('#df-b11f5e8e-d33a-46d1-ae2b-fbad55dbb7ad button.colab-df-convert');\n",
       "      buttonEl.style.display =\n",
       "        google.colab.kernel.accessAllowed ? 'block' : 'none';\n",
       "\n",
       "      async function convertToInteractive(key) {\n",
       "        const element = document.querySelector('#df-b11f5e8e-d33a-46d1-ae2b-fbad55dbb7ad');\n",
       "        const dataTable =\n",
       "          await google.colab.kernel.invokeFunction('convertToInteractive',\n",
       "                                                    [key], {});\n",
       "        if (!dataTable) return;\n",
       "\n",
       "        const docLinkHtml = 'Like what you see? Visit the ' +\n",
       "          '<a target=\"_blank\" href=https://colab.research.google.com/notebooks/data_table.ipynb>data table notebook</a>'\n",
       "          + ' to learn more about interactive tables.';\n",
       "        element.innerHTML = '';\n",
       "        dataTable['output_type'] = 'display_data';\n",
       "        await google.colab.output.renderOutput(dataTable, element);\n",
       "        const docLink = document.createElement('div');\n",
       "        docLink.innerHTML = docLinkHtml;\n",
       "        element.appendChild(docLink);\n",
       "      }\n",
       "    </script>\n",
       "  </div>\n",
       "\n",
       "\n",
       "<div id=\"df-7634e26f-abe5-471e-8e29-ff1b6e41e14f\">\n",
       "  <button class=\"colab-df-quickchart\" onclick=\"quickchart('df-7634e26f-abe5-471e-8e29-ff1b6e41e14f')\"\n",
       "            title=\"Suggest charts\"\n",
       "            style=\"display:none;\">\n",
       "\n",
       "<svg xmlns=\"http://www.w3.org/2000/svg\" height=\"24px\"viewBox=\"0 0 24 24\"\n",
       "     width=\"24px\">\n",
       "    <g>\n",
       "        <path d=\"M19 3H5c-1.1 0-2 .9-2 2v14c0 1.1.9 2 2 2h14c1.1 0 2-.9 2-2V5c0-1.1-.9-2-2-2zM9 17H7v-7h2v7zm4 0h-2V7h2v10zm4 0h-2v-4h2v4z\"/>\n",
       "    </g>\n",
       "</svg>\n",
       "  </button>\n",
       "\n",
       "<style>\n",
       "  .colab-df-quickchart {\n",
       "      --bg-color: #E8F0FE;\n",
       "      --fill-color: #1967D2;\n",
       "      --hover-bg-color: #E2EBFA;\n",
       "      --hover-fill-color: #174EA6;\n",
       "      --disabled-fill-color: #AAA;\n",
       "      --disabled-bg-color: #DDD;\n",
       "  }\n",
       "\n",
       "  [theme=dark] .colab-df-quickchart {\n",
       "      --bg-color: #3B4455;\n",
       "      --fill-color: #D2E3FC;\n",
       "      --hover-bg-color: #434B5C;\n",
       "      --hover-fill-color: #FFFFFF;\n",
       "      --disabled-bg-color: #3B4455;\n",
       "      --disabled-fill-color: #666;\n",
       "  }\n",
       "\n",
       "  .colab-df-quickchart {\n",
       "    background-color: var(--bg-color);\n",
       "    border: none;\n",
       "    border-radius: 50%;\n",
       "    cursor: pointer;\n",
       "    display: none;\n",
       "    fill: var(--fill-color);\n",
       "    height: 32px;\n",
       "    padding: 0;\n",
       "    width: 32px;\n",
       "  }\n",
       "\n",
       "  .colab-df-quickchart:hover {\n",
       "    background-color: var(--hover-bg-color);\n",
       "    box-shadow: 0 1px 2px rgba(60, 64, 67, 0.3), 0 1px 3px 1px rgba(60, 64, 67, 0.15);\n",
       "    fill: var(--button-hover-fill-color);\n",
       "  }\n",
       "\n",
       "  .colab-df-quickchart-complete:disabled,\n",
       "  .colab-df-quickchart-complete:disabled:hover {\n",
       "    background-color: var(--disabled-bg-color);\n",
       "    fill: var(--disabled-fill-color);\n",
       "    box-shadow: none;\n",
       "  }\n",
       "\n",
       "  .colab-df-spinner {\n",
       "    border: 2px solid var(--fill-color);\n",
       "    border-color: transparent;\n",
       "    border-bottom-color: var(--fill-color);\n",
       "    animation:\n",
       "      spin 1s steps(1) infinite;\n",
       "  }\n",
       "\n",
       "  @keyframes spin {\n",
       "    0% {\n",
       "      border-color: transparent;\n",
       "      border-bottom-color: var(--fill-color);\n",
       "      border-left-color: var(--fill-color);\n",
       "    }\n",
       "    20% {\n",
       "      border-color: transparent;\n",
       "      border-left-color: var(--fill-color);\n",
       "      border-top-color: var(--fill-color);\n",
       "    }\n",
       "    30% {\n",
       "      border-color: transparent;\n",
       "      border-left-color: var(--fill-color);\n",
       "      border-top-color: var(--fill-color);\n",
       "      border-right-color: var(--fill-color);\n",
       "    }\n",
       "    40% {\n",
       "      border-color: transparent;\n",
       "      border-right-color: var(--fill-color);\n",
       "      border-top-color: var(--fill-color);\n",
       "    }\n",
       "    60% {\n",
       "      border-color: transparent;\n",
       "      border-right-color: var(--fill-color);\n",
       "    }\n",
       "    80% {\n",
       "      border-color: transparent;\n",
       "      border-right-color: var(--fill-color);\n",
       "      border-bottom-color: var(--fill-color);\n",
       "    }\n",
       "    90% {\n",
       "      border-color: transparent;\n",
       "      border-bottom-color: var(--fill-color);\n",
       "    }\n",
       "  }\n",
       "</style>\n",
       "\n",
       "  <script>\n",
       "    async function quickchart(key) {\n",
       "      const quickchartButtonEl =\n",
       "        document.querySelector('#' + key + ' button');\n",
       "      quickchartButtonEl.disabled = true;  // To prevent multiple clicks.\n",
       "      quickchartButtonEl.classList.add('colab-df-spinner');\n",
       "      try {\n",
       "        const charts = await google.colab.kernel.invokeFunction(\n",
       "            'suggestCharts', [key], {});\n",
       "      } catch (error) {\n",
       "        console.error('Error during call to suggestCharts:', error);\n",
       "      }\n",
       "      quickchartButtonEl.classList.remove('colab-df-spinner');\n",
       "      quickchartButtonEl.classList.add('colab-df-quickchart-complete');\n",
       "    }\n",
       "    (() => {\n",
       "      let quickchartButtonEl =\n",
       "        document.querySelector('#df-7634e26f-abe5-471e-8e29-ff1b6e41e14f button');\n",
       "      quickchartButtonEl.style.display =\n",
       "        google.colab.kernel.accessAllowed ? 'block' : 'none';\n",
       "    })();\n",
       "  </script>\n",
       "</div>\n",
       "    </div>\n",
       "  </div>\n"
      ],
      "text/plain": [
       "                                        cleaned_text sentiment\n",
       "0  device take huge amount battery thought id try...  positive\n",
       "1  always bought nabis lasted couple year grandki...  negative\n",
       "2                                         work great  positive\n",
       "3  cant beat price bought best buy held well insi...  negative\n",
       "4                  really impressed item pretty slow  negative"
      ]
     },
     "execution_count": 15,
     "metadata": {},
     "output_type": "execute_result"
    }
   ],
   "source": [
    "df.head()"
   ]
  },
  {
   "cell_type": "code",
   "execution_count": 16,
   "id": "KnfS--u-hIik",
   "metadata": {
    "colab": {
     "base_uri": "https://localhost:8080/"
    },
    "executionInfo": {
     "elapsed": 431,
     "status": "ok",
     "timestamp": 1700661635460,
     "user": {
      "displayName": "Pulavendran S",
      "userId": "09545379829326731753"
     },
     "user_tz": -330
    },
    "id": "KnfS--u-hIik",
    "outputId": "f53d693f-9854-4af0-df83-7af4d09cbcda"
   },
   "outputs": [
    {
     "name": "stdout",
     "output_type": "stream",
     "text": [
      "['negative', 'positive']\n"
     ]
    }
   ],
   "source": [
    "class_labels=df['sentiment'].unique().tolist()\n",
    "class_labels.sort()\n",
    "print(class_labels)"
   ]
  },
  {
   "cell_type": "code",
   "execution_count": 17,
   "id": "305c4cfd",
   "metadata": {
    "colab": {
     "base_uri": "https://localhost:8080/"
    },
    "executionInfo": {
     "elapsed": 413,
     "status": "ok",
     "timestamp": 1700661639842,
     "user": {
      "displayName": "Pulavendran S",
      "userId": "09545379829326731753"
     },
     "user_tz": -330
    },
    "id": "305c4cfd",
    "outputId": "a6cc5fe3-ce42-43dd-ed30-aa7a768fc286"
   },
   "outputs": [
    {
     "name": "stdout",
     "output_type": "stream",
     "text": [
      "{'negative': 0, 'positive': 1}\n"
     ]
    }
   ],
   "source": [
    "class_dict={}\n",
    "for idx,label in enumerate(class_labels):\n",
    "    class_dict[label]=idx\n",
    "print(class_dict)"
   ]
  },
  {
   "cell_type": "code",
   "execution_count": 18,
   "id": "998c91d6",
   "metadata": {
    "colab": {
     "base_uri": "https://localhost:8080/",
     "height": 206
    },
    "executionInfo": {
     "elapsed": 8,
     "status": "ok",
     "timestamp": 1700661657180,
     "user": {
      "displayName": "Pulavendran S",
      "userId": "09545379829326731753"
     },
     "user_tz": -330
    },
    "id": "998c91d6",
    "outputId": "5455eff5-3e60-4a22-8400-bd37c14a682d"
   },
   "outputs": [
    {
     "data": {
      "text/html": [
       "\n",
       "  <div id=\"df-b66e6cdc-6fe2-410a-9a35-1e34bee2e693\" class=\"colab-df-container\">\n",
       "    <div>\n",
       "<style scoped>\n",
       "    .dataframe tbody tr th:only-of-type {\n",
       "        vertical-align: middle;\n",
       "    }\n",
       "\n",
       "    .dataframe tbody tr th {\n",
       "        vertical-align: top;\n",
       "    }\n",
       "\n",
       "    .dataframe thead th {\n",
       "        text-align: right;\n",
       "    }\n",
       "</style>\n",
       "<table border=\"1\" class=\"dataframe\">\n",
       "  <thead>\n",
       "    <tr style=\"text-align: right;\">\n",
       "      <th></th>\n",
       "      <th>cleaned_text</th>\n",
       "      <th>sentiment</th>\n",
       "    </tr>\n",
       "  </thead>\n",
       "  <tbody>\n",
       "    <tr>\n",
       "      <th>0</th>\n",
       "      <td>device take huge amount battery thought id try...</td>\n",
       "      <td>1</td>\n",
       "    </tr>\n",
       "    <tr>\n",
       "      <th>1</th>\n",
       "      <td>always bought nabis lasted couple year grandki...</td>\n",
       "      <td>0</td>\n",
       "    </tr>\n",
       "    <tr>\n",
       "      <th>2</th>\n",
       "      <td>work great</td>\n",
       "      <td>1</td>\n",
       "    </tr>\n",
       "    <tr>\n",
       "      <th>3</th>\n",
       "      <td>cant beat price bought best buy held well insi...</td>\n",
       "      <td>0</td>\n",
       "    </tr>\n",
       "    <tr>\n",
       "      <th>4</th>\n",
       "      <td>really impressed item pretty slow</td>\n",
       "      <td>0</td>\n",
       "    </tr>\n",
       "  </tbody>\n",
       "</table>\n",
       "</div>\n",
       "    <div class=\"colab-df-buttons\">\n",
       "\n",
       "  <div class=\"colab-df-container\">\n",
       "    <button class=\"colab-df-convert\" onclick=\"convertToInteractive('df-b66e6cdc-6fe2-410a-9a35-1e34bee2e693')\"\n",
       "            title=\"Convert this dataframe to an interactive table.\"\n",
       "            style=\"display:none;\">\n",
       "\n",
       "  <svg xmlns=\"http://www.w3.org/2000/svg\" height=\"24px\" viewBox=\"0 -960 960 960\">\n",
       "    <path d=\"M120-120v-720h720v720H120Zm60-500h600v-160H180v160Zm220 220h160v-160H400v160Zm0 220h160v-160H400v160ZM180-400h160v-160H180v160Zm440 0h160v-160H620v160ZM180-180h160v-160H180v160Zm440 0h160v-160H620v160Z\"/>\n",
       "  </svg>\n",
       "    </button>\n",
       "\n",
       "  <style>\n",
       "    .colab-df-container {\n",
       "      display:flex;\n",
       "      gap: 12px;\n",
       "    }\n",
       "\n",
       "    .colab-df-convert {\n",
       "      background-color: #E8F0FE;\n",
       "      border: none;\n",
       "      border-radius: 50%;\n",
       "      cursor: pointer;\n",
       "      display: none;\n",
       "      fill: #1967D2;\n",
       "      height: 32px;\n",
       "      padding: 0 0 0 0;\n",
       "      width: 32px;\n",
       "    }\n",
       "\n",
       "    .colab-df-convert:hover {\n",
       "      background-color: #E2EBFA;\n",
       "      box-shadow: 0px 1px 2px rgba(60, 64, 67, 0.3), 0px 1px 3px 1px rgba(60, 64, 67, 0.15);\n",
       "      fill: #174EA6;\n",
       "    }\n",
       "\n",
       "    .colab-df-buttons div {\n",
       "      margin-bottom: 4px;\n",
       "    }\n",
       "\n",
       "    [theme=dark] .colab-df-convert {\n",
       "      background-color: #3B4455;\n",
       "      fill: #D2E3FC;\n",
       "    }\n",
       "\n",
       "    [theme=dark] .colab-df-convert:hover {\n",
       "      background-color: #434B5C;\n",
       "      box-shadow: 0px 1px 3px 1px rgba(0, 0, 0, 0.15);\n",
       "      filter: drop-shadow(0px 1px 2px rgba(0, 0, 0, 0.3));\n",
       "      fill: #FFFFFF;\n",
       "    }\n",
       "  </style>\n",
       "\n",
       "    <script>\n",
       "      const buttonEl =\n",
       "        document.querySelector('#df-b66e6cdc-6fe2-410a-9a35-1e34bee2e693 button.colab-df-convert');\n",
       "      buttonEl.style.display =\n",
       "        google.colab.kernel.accessAllowed ? 'block' : 'none';\n",
       "\n",
       "      async function convertToInteractive(key) {\n",
       "        const element = document.querySelector('#df-b66e6cdc-6fe2-410a-9a35-1e34bee2e693');\n",
       "        const dataTable =\n",
       "          await google.colab.kernel.invokeFunction('convertToInteractive',\n",
       "                                                    [key], {});\n",
       "        if (!dataTable) return;\n",
       "\n",
       "        const docLinkHtml = 'Like what you see? Visit the ' +\n",
       "          '<a target=\"_blank\" href=https://colab.research.google.com/notebooks/data_table.ipynb>data table notebook</a>'\n",
       "          + ' to learn more about interactive tables.';\n",
       "        element.innerHTML = '';\n",
       "        dataTable['output_type'] = 'display_data';\n",
       "        await google.colab.output.renderOutput(dataTable, element);\n",
       "        const docLink = document.createElement('div');\n",
       "        docLink.innerHTML = docLinkHtml;\n",
       "        element.appendChild(docLink);\n",
       "      }\n",
       "    </script>\n",
       "  </div>\n",
       "\n",
       "\n",
       "<div id=\"df-01720b1e-ed79-4256-af5e-29bc3cf37171\">\n",
       "  <button class=\"colab-df-quickchart\" onclick=\"quickchart('df-01720b1e-ed79-4256-af5e-29bc3cf37171')\"\n",
       "            title=\"Suggest charts\"\n",
       "            style=\"display:none;\">\n",
       "\n",
       "<svg xmlns=\"http://www.w3.org/2000/svg\" height=\"24px\"viewBox=\"0 0 24 24\"\n",
       "     width=\"24px\">\n",
       "    <g>\n",
       "        <path d=\"M19 3H5c-1.1 0-2 .9-2 2v14c0 1.1.9 2 2 2h14c1.1 0 2-.9 2-2V5c0-1.1-.9-2-2-2zM9 17H7v-7h2v7zm4 0h-2V7h2v10zm4 0h-2v-4h2v4z\"/>\n",
       "    </g>\n",
       "</svg>\n",
       "  </button>\n",
       "\n",
       "<style>\n",
       "  .colab-df-quickchart {\n",
       "      --bg-color: #E8F0FE;\n",
       "      --fill-color: #1967D2;\n",
       "      --hover-bg-color: #E2EBFA;\n",
       "      --hover-fill-color: #174EA6;\n",
       "      --disabled-fill-color: #AAA;\n",
       "      --disabled-bg-color: #DDD;\n",
       "  }\n",
       "\n",
       "  [theme=dark] .colab-df-quickchart {\n",
       "      --bg-color: #3B4455;\n",
       "      --fill-color: #D2E3FC;\n",
       "      --hover-bg-color: #434B5C;\n",
       "      --hover-fill-color: #FFFFFF;\n",
       "      --disabled-bg-color: #3B4455;\n",
       "      --disabled-fill-color: #666;\n",
       "  }\n",
       "\n",
       "  .colab-df-quickchart {\n",
       "    background-color: var(--bg-color);\n",
       "    border: none;\n",
       "    border-radius: 50%;\n",
       "    cursor: pointer;\n",
       "    display: none;\n",
       "    fill: var(--fill-color);\n",
       "    height: 32px;\n",
       "    padding: 0;\n",
       "    width: 32px;\n",
       "  }\n",
       "\n",
       "  .colab-df-quickchart:hover {\n",
       "    background-color: var(--hover-bg-color);\n",
       "    box-shadow: 0 1px 2px rgba(60, 64, 67, 0.3), 0 1px 3px 1px rgba(60, 64, 67, 0.15);\n",
       "    fill: var(--button-hover-fill-color);\n",
       "  }\n",
       "\n",
       "  .colab-df-quickchart-complete:disabled,\n",
       "  .colab-df-quickchart-complete:disabled:hover {\n",
       "    background-color: var(--disabled-bg-color);\n",
       "    fill: var(--disabled-fill-color);\n",
       "    box-shadow: none;\n",
       "  }\n",
       "\n",
       "  .colab-df-spinner {\n",
       "    border: 2px solid var(--fill-color);\n",
       "    border-color: transparent;\n",
       "    border-bottom-color: var(--fill-color);\n",
       "    animation:\n",
       "      spin 1s steps(1) infinite;\n",
       "  }\n",
       "\n",
       "  @keyframes spin {\n",
       "    0% {\n",
       "      border-color: transparent;\n",
       "      border-bottom-color: var(--fill-color);\n",
       "      border-left-color: var(--fill-color);\n",
       "    }\n",
       "    20% {\n",
       "      border-color: transparent;\n",
       "      border-left-color: var(--fill-color);\n",
       "      border-top-color: var(--fill-color);\n",
       "    }\n",
       "    30% {\n",
       "      border-color: transparent;\n",
       "      border-left-color: var(--fill-color);\n",
       "      border-top-color: var(--fill-color);\n",
       "      border-right-color: var(--fill-color);\n",
       "    }\n",
       "    40% {\n",
       "      border-color: transparent;\n",
       "      border-right-color: var(--fill-color);\n",
       "      border-top-color: var(--fill-color);\n",
       "    }\n",
       "    60% {\n",
       "      border-color: transparent;\n",
       "      border-right-color: var(--fill-color);\n",
       "    }\n",
       "    80% {\n",
       "      border-color: transparent;\n",
       "      border-right-color: var(--fill-color);\n",
       "      border-bottom-color: var(--fill-color);\n",
       "    }\n",
       "    90% {\n",
       "      border-color: transparent;\n",
       "      border-bottom-color: var(--fill-color);\n",
       "    }\n",
       "  }\n",
       "</style>\n",
       "\n",
       "  <script>\n",
       "    async function quickchart(key) {\n",
       "      const quickchartButtonEl =\n",
       "        document.querySelector('#' + key + ' button');\n",
       "      quickchartButtonEl.disabled = true;  // To prevent multiple clicks.\n",
       "      quickchartButtonEl.classList.add('colab-df-spinner');\n",
       "      try {\n",
       "        const charts = await google.colab.kernel.invokeFunction(\n",
       "            'suggestCharts', [key], {});\n",
       "      } catch (error) {\n",
       "        console.error('Error during call to suggestCharts:', error);\n",
       "      }\n",
       "      quickchartButtonEl.classList.remove('colab-df-spinner');\n",
       "      quickchartButtonEl.classList.add('colab-df-quickchart-complete');\n",
       "    }\n",
       "    (() => {\n",
       "      let quickchartButtonEl =\n",
       "        document.querySelector('#df-01720b1e-ed79-4256-af5e-29bc3cf37171 button');\n",
       "      quickchartButtonEl.style.display =\n",
       "        google.colab.kernel.accessAllowed ? 'block' : 'none';\n",
       "    })();\n",
       "  </script>\n",
       "</div>\n",
       "    </div>\n",
       "  </div>\n"
      ],
      "text/plain": [
       "                                        cleaned_text  sentiment\n",
       "0  device take huge amount battery thought id try...          1\n",
       "1  always bought nabis lasted couple year grandki...          0\n",
       "2                                         work great          1\n",
       "3  cant beat price bought best buy held well insi...          0\n",
       "4                  really impressed item pretty slow          0"
      ]
     },
     "execution_count": 18,
     "metadata": {},
     "output_type": "execute_result"
    }
   ],
   "source": [
    "df['sentiment']=df['sentiment'].map(class_dict)\n",
    "df.head()"
   ]
  },
  {
   "cell_type": "code",
   "execution_count": 19,
   "id": "dLUsFPh4l5Mz",
   "metadata": {
    "colab": {
     "base_uri": "https://localhost:8080/"
    },
    "executionInfo": {
     "elapsed": 390,
     "status": "ok",
     "timestamp": 1700661667890,
     "user": {
      "displayName": "Pulavendran S",
      "userId": "09545379829326731753"
     },
     "user_tz": -330
    },
    "id": "dLUsFPh4l5Mz",
    "outputId": "e25fcbbd-2bf4-4cfd-875e-d7c75c3a9296"
   },
   "outputs": [
    {
     "name": "stdout",
     "output_type": "stream",
     "text": [
      "[1, 0, 1, 0, 0, 0, 0, 0, 1, 1, 1, 0, 1, 0, 0, 1, 0, 0, 0, 1, 0, 1, 1, 0, 1, 0, 1, 0, 0, 1, 0, 1, 1, 0, 0, 0, 0, 1, 0, 1, 1, 0, 0, 1, 1, 1, 0, 1, 1, 1, 1, 1, 0, 0, 0, 0, 1, 1, 1, 1, 1, 0, 1, 1, 0, 1, 0, 1, 0, 1, 0, 0, 1, 0, 1, 0, 0, 1, 1, 1, 1, 0, 1, 1, 0, 0, 0, 1, 1, 1, 1, 1, 1, 0, 0, 0, 0, 0, 1, 0, 0, 0, 1, 1, 0, 0, 0, 1, 0, 1, 0, 1, 1, 0, 0, 0, 1, 1, 0, 0, 0, 0, 1, 0, 1, 1, 0, 1, 0, 0, 0, 1, 0, 1, 1, 1, 0, 0, 0, 1, 0, 0, 1, 1, 1, 0, 1, 1, 1, 0, 0, 0, 0, 1, 0, 0, 0, 0, 0, 1, 1, 0, 0, 0, 1, 1, 1, 0, 0, 0, 0, 1, 0, 1, 1, 0, 0, 0, 1, 0, 1, 0, 0, 0, 1, 0, 0, 0, 1, 0, 1, 0, 0, 0, 0, 0, 0, 0, 0, 0, 0, 1, 0, 1, 1, 0, 1, 0, 1, 0, 1, 1, 1, 0, 0, 1, 1, 0, 0, 1, 0, 1, 1, 1, 0, 0, 0, 1, 1, 0, 0, 0, 0, 1, 1, 1, 1, 1, 1, 1, 1, 1, 0, 1, 1, 1, 0, 1, 0, 1, 1, 1, 0, 0, 0, 0, 1, 1, 0, 1, 1, 1, 0, 0, 0, 0, 0, 1, 0, 0, 0, 0, 0, 1, 1, 1, 0, 0, 1, 0, 1, 0, 0, 0, 1, 0, 1, 1, 1, 0, 1, 1, 0, 0, 0, 1, 0, 1, 1, 1, 0, 1, 1, 0, 0, 1, 1, 0, 0, 1, 1, 1, 1, 0, 0, 1, 0, 0, 0, 1, 0, 0, 0, 1, 1, 1, 1, 0, 1, 0, 1, 1, 1, 1, 0, 0, 0, 0, 1, 0, 1, 0, 1, 0, 0, 1, 1, 1, 0, 0, 0, 1, 0, 1, 0, 1, 1, 1, 0, 0, 0, 0, 1, 0, 0, 0, 0, 1, 1, 0, 0, 0, 0, 0, 0, 0, 1, 0, 1, 1, 1, 1, 0, 0, 1, 0, 0, 0, 1, 1, 1, 0, 1, 1, 1, 0, 1, 1, 1, 0, 1, 0, 1, 0, 1, 1, 0, 1, 0, 1, 0, 0, 1, 1, 1, 1, 1, 0, 0, 1, 1, 0, 1, 0, 1, 1, 1, 0, 1, 1, 1, 1, 1, 0, 0, 1, 0, 1, 1, 1, 1, 0, 0, 1, 1, 1, 0, 1, 0, 0, 0, 0, 0, 0, 0, 0, 0, 0, 1, 0, 1, 1, 1, 1, 1, 0, 0, 0, 0, 1, 0, 0, 1, 0, 0, 0, 0, 0, 1, 1, 0, 0, 1, 0, 1, 0, 1, 1, 1, 0, 1, 1, 0, 1, 1, 1, 1, 1, 1, 1, 0, 1, 1, 1, 1, 1, 0, 0, 1, 0, 1, 0, 0, 0, 1, 1, 1, 1, 1, 0, 1, 1, 1, 1, 1, 0, 0, 1, 1, 0, 1, 0, 0, 1, 0, 1, 0, 1, 1, 1, 1, 0, 1, 0, 0, 1, 1, 1, 1, 0, 0, 0, 0, 1, 0, 1, 0, 1, 1, 0, 1, 0, 1, 0, 0, 0, 0, 0, 0, 0, 1, 0, 1, 1, 1, 0, 1, 1, 1, 1, 1, 0, 0, 1, 1, 0, 0, 0, 0, 0, 0, 1, 0, 0, 1, 0, 0, 1, 1, 0, 1, 0, 1, 0, 1, 1, 0, 1, 1, 1, 0, 0, 0, 1, 1, 0, 0, 0, 0, 0, 1, 1, 0, 0, 1, 1, 0, 0, 1, 0, 1, 0, 1, 1, 0, 1, 1, 0, 1, 1, 0, 1, 0, 1, 1, 1, 0, 1, 0, 0, 0, 0, 0, 0, 0, 0, 0, 1, 0, 0, 0, 1, 1, 1, 0, 0, 0, 1, 1, 1, 1, 1, 0, 1, 0, 0, 0, 0, 0, 0, 0, 0, 1, 0, 0, 1, 1, 0, 1, 1, 1, 0, 1, 1, 0, 0, 1, 1, 1, 1, 0, 0, 1, 0, 0, 0, 1, 1, 1, 1, 1, 0, 1, 1, 0, 1, 1, 0, 1, 0, 0, 0, 1, 0, 0, 0, 1, 0, 0, 1, 1, 1, 1, 1, 0, 1, 0, 0, 1, 1, 0, 0, 0, 1, 0, 0, 0, 1, 1, 0, 1, 0, 0, 0, 0, 0, 1, 0, 0, 1, 0, 0, 1, 0, 0, 1, 0, 0, 0, 1, 0, 0, 1, 1, 0, 1, 0, 0, 1, 0, 0, 0, 0, 0, 1, 1, 0, 0, 1, 0, 0, 0, 0, 0, 0, 0, 1, 0, 1, 1, 1, 1, 1, 0, 1, 0, 1, 1, 0, 0, 1, 1, 0, 1, 1, 1, 1, 0, 1, 0, 1, 1, 1, 1, 0, 1, 0, 0, 1, 0, 1, 0, 1, 0, 1, 0, 1, 1, 1, 0, 1, 0, 1, 0, 0, 1, 1, 1, 0, 1, 0, 1, 0, 1, 0, 1, 0, 1, 1, 1, 0, 0, 1, 0, 1, 0, 0, 1, 0, 1, 1, 1, 0, 0, 0, 1, 1, 0, 0, 1, 0, 0, 1, 1, 1, 0, 0, 1, 1, 1, 1, 1, 0, 0, 0, 0, 1, 0, 0, 0, 0, 0, 0, 0, 0, 0, 1, 0, 1, 0, 1, 0, 1, 1, 1, 1, 0, 0, 1, 0, 1, 0, 1, 1, 0, 0, 1, 0, 1, 0, 1, 1, 0, 1, 0, 1, 1, 1, 0, 1, 1, 0, 1, 1, 1, 0, 1, 0, 0, 1, 1, 1, 0, 1, 1, 1, 0, 0, 1, 0, 0, 1, 0, 1, 0, 1, 0, 1, 1, 0, 0, 0, 1, 1, 0, 0, 0, 1, 0, 1, 0, 0, 0, 1, 0, 0, 0, 1, 0, 1, 1, 0, 0, 1, 0, 0, 0, 1, 0, 1, 0, 1, 0, 1, 0, 0, 1, 1, 0, 0, 0, 0, 1, 0, 1, 0, 1, 0, 0, 0, 1, 1, 0, 0, 1, 0, 1, 0, 0, 1, 1, 1, 1, 1, 1, 0, 0, 1, 1, 1, 1, 1, 1, 1, 1, 1, 1, 0, 1, 0, 1, 0, 0, 1, 0, 0, 1, 1, 0, 1, 0, 0, 1, 1, 0, 1, 1, 0, 1, 0, 1, 0, 0, 1, 1, 1, 1, 0, 0, 0, 1, 1, 0, 1, 1, 1, 0, 0, 0, 0, 1, 0, 0, 1, 0, 0, 1, 1, 0, 0, 1, 0, 1, 0, 0, 1, 0, 0, 1, 1, 1, 0, 1, 0, 0, 0, 0, 0, 1, 0, 0, 1, 1, 1, 1, 0, 1, 1, 1, 1, 1, 0, 0, 0, 1, 0, 0, 1, 0, 0, 1, 0, 0, 1, 0, 1, 1, 0, 0, 1, 0, 1, 1, 1, 1, 1, 0, 0, 1, 1, 0, 1, 0, 1, 1, 1, 1, 1, 1, 1, 0, 1, 1, 0, 1, 1, 0, 0, 0, 0, 1, 0, 0, 0, 1, 1, 1, 1, 1, 1, 1, 1, 1, 0, 1, 0, 1, 1, 1, 0, 1, 0, 0, 1, 0, 0, 1, 1, 1, 0, 0, 0, 1, 1, 0, 0, 1, 0, 1, 0, 0, 0, 0, 1, 1, 0, 0, 1, 0, 0, 0, 0, 0, 1, 0, 0, 0, 1, 0, 1, 1, 0, 0, 1, 1, 0, 1, 1, 1, 0, 0, 1, 0, 1, 1, 0, 0, 1, 1, 1, 1, 0, 1, 0, 0, 1, 1, 1, 0, 1, 1, 1, 1, 0, 1, 1, 0, 1, 1, 1, 0, 1, 0, 1, 0, 1, 1, 0, 0, 1, 0, 1, 0, 0, 0, 0, 0, 0, 1, 1, 1, 0, 1, 0, 1, 1, 1, 1, 1, 1, 1, 0, 0, 1, 0, 1, 1, 1, 1, 0, 1, 0, 0, 1, 0, 1, 1, 0, 0, 0, 1, 1, 1, 0, 0, 0, 0, 1, 0, 0, 0, 1, 0, 1, 0, 1, 0, 1, 1, 1, 0, 1, 1, 1, 1, 1, 1, 1, 1, 0, 0, 0, 0, 0, 0, 1, 1, 0, 1, 0, 1, 1, 0, 1, 0, 0, 1, 0, 1, 1, 0, 1, 0, 0, 0, 0, 1, 1, 1, 1, 1, 1, 0, 0, 0, 0, 1, 0, 1, 0, 0, 0, 0, 0, 1, 0, 1, 1, 0, 0, 1, 1, 1, 0, 0, 1, 1, 1, 0, 0, 0, 0, 1, 0, 0, 1, 1, 1, 1, 1, 1, 1, 0, 0, 0, 1, 1, 0, 0, 1, 0, 1, 0, 1, 1, 0, 1, 1, 1, 1, 1, 1, 1, 0, 1, 1, 1, 0, 1, 0, 0, 0, 1, 1, 1, 1, 1, 0, 0, 1, 1, 1, 0, 0, 0, 1, 1, 1, 0, 1, 0, 0, 0, 0, 1, 1, 1, 1, 1, 0, 1, 0, 1, 1, 1, 0, 0, 0, 1, 1, 1, 0, 1, 1, 0, 1, 1, 1, 1, 1, 0, 0, 1, 1, 1, 0, 1, 0, 1, 1, 0, 0, 0, 0, 0, 0, 1, 1, 1, 0, 0, 1, 0, 1, 1, 1, 1, 1, 0, 0, 0, 1, 0, 0, 0, 1, 1, 1, 0, 1, 1, 0, 0, 0, 1, 0, 0, 0, 0, 0, 1, 1, 1, 0, 1, 0, 1, 1, 1, 1, 0, 1, 0, 0, 1, 1, 0, 0, 1, 1, 1, 0, 1, 1, 1, 0, 1, 1, 0, 1, 0, 1, 0, 0, 0, 1, 0, 1, 1, 1, 0, 0, 1, 1, 0, 1, 0, 0, 1, 0, 1, 1, 1, 1, 0, 1, 0, 0, 1, 0, 0, 1, 1, 1, 1, 0, 0, 1, 1, 0, 0, 0, 1, 1, 1, 1, 1, 1, 1, 1, 1, 0, 0, 0, 1, 0, 0, 0, 1, 1, 1, 0, 0, 1, 1, 1, 1, 0, 0, 0, 0, 0, 0, 0, 0, 0, 1, 0, 1, 1, 1, 0, 0, 1, 1, 1, 0, 0, 1, 1, 1, 0, 1, 1, 0, 0, 0, 0, 0, 0, 0, 0, 1, 1, 0, 1, 0, 0, 1, 1, 1, 1, 0, 1, 0, 0, 0, 0, 0, 0, 1, 0, 0, 0, 0, 1, 0, 0, 1, 0, 1, 0, 0, 0, 1, 1, 1, 1, 1, 0, 1, 1, 0, 1, 0, 0, 0, 0, 0, 0, 1, 0, 1, 1, 0, 0, 1, 1, 1, 0, 0, 0, 1, 0, 1, 1, 1, 0, 1, 0, 0, 1, 1, 0, 1, 1, 1, 0, 1, 1, 0, 0, 0, 1, 1, 0, 1, 0, 1, 1, 1, 1, 1, 0, 0, 1, 1, 0, 0, 1, 0, 1, 1, 1, 1, 1, 1, 0, 1, 0, 1, 1, 0, 1, 1, 0, 1, 0, 0, 0, 0, 0, 1, 0, 0, 0, 0, 1, 0, 1, 1, 0, 0, 0, 0, 1, 0, 0, 1, 1, 1, 0, 0, 0, 0, 1, 1, 1, 1, 1, 0, 1, 0, 1, 1, 0, 1, 0, 1, 1, 0, 1, 0, 0, 0, 0, 1, 0, 0, 1, 1, 1, 0, 1, 0, 1, 0, 0, 0, 1, 1, 1, 1, 0, 0, 0, 0, 0, 0, 0, 1, 0, 0, 0, 0, 1, 0, 1, 0, 1, 1, 0, 1, 1, 0, 0, 0, 0, 1, 1, 0, 0, 0, 0, 0, 1, 1, 1, 0, 1, 0, 0, 1, 1, 1, 0, 0, 1, 0, 0, 0, 0, 0, 0, 0, 0, 1, 0, 0, 1, 0, 1, 1, 1, 1, 1, 1, 1, 0, 1, 0, 1, 1, 1, 0, 0, 0, 0, 1, 0, 1, 1, 1, 0, 1, 0, 0, 1, 1, 1, 1, 0, 0, 1, 1, 1, 1, 0, 0, 0, 1, 0, 1, 0, 0, 1, 1, 0, 1, 1, 0, 1, 1, 0, 1, 1, 0, 1, 0, 1, 1, 1, 1, 0, 1, 0, 1, 0, 1, 0, 0, 0, 0, 1, 1, 1, 0, 1, 1, 0, 0, 1, 1, 0, 1, 1, 0, 1, 0, 0, 0, 1, 1, 1, 1, 0, 0, 1, 0, 0, 1, 0, 0, 0, 0, 1, 1, 1, 0, 1, 1, 0, 1, 0, 1, 1, 1, 0, 0, 1, 1, 1, 1, 1, 1, 0, 0, 0, 0, 1, 1, 1, 1, 0, 1, 0, 1, 0, 1, 0, 1, 0, 0, 0, 0, 0, 1, 1, 0, 1, 0, 1, 1, 0, 1, 1, 0, 1, 0, 1, 0, 1, 0, 0, 1, 1, 0, 1, 1, 0, 1, 1, 0, 0, 0, 1, 0, 1, 1, 1, 1, 1, 1, 1, 0, 1, 0, 0, 0, 0, 0, 0, 1, 0, 1, 0, 1, 1, 1, 0, 1, 0, 0, 0, 0, 1, 0, 0, 1, 0, 1, 0, 1, 1, 1, 1, 0, 0, 0, 1, 1, 1, 0, 0, 1, 1, 1, 1, 0, 0, 0, 0, 1, 0, 0, 1, 1, 0, 1, 0, 0, 1, 0, 0, 1, 0, 0, 1, 0, 0, 1, 0, 0, 0, 0, 1, 0, 0, 1, 0, 1, 0, 0, 1, 0, 1, 1, 0, 1, 0, 1, 1, 1, 1, 1, 1, 0, 0, 1, 0, 1, 0, 1, 1, 0, 0, 1, 1, 0, 0, 1, 1, 1, 1, 0, 0, 1, 1, 1, 1, 0, 1, 1, 1, 0, 1, 1, 0, 1, 1, 1, 1, 1, 1, 1, 1, 1, 0, 1, 0, 0, 1, 1, 0, 0, 1, 0, 0, 0, 1, 1, 0, 1, 1, 0, 0, 1, 0, 1, 1, 1, 0, 0, 1, 0, 0, 0, 1, 0, 0, 0, 1, 1, 1, 0, 0, 1, 1, 1, 1, 0, 1, 0, 1, 0, 1, 0, 1, 0, 0, 1, 1, 1, 0, 1, 0, 1, 0, 0, 1, 1, 1, 0, 1, 1, 0, 1, 0, 0, 1, 0, 1, 0, 0, 0, 0, 0, 1, 0, 0, 1, 0, 0, 1, 1, 1, 1, 1, 0, 0, 1, 0, 1, 0, 0, 1, 0, 0, 0, 1, 1, 0, 0, 0, 0, 0, 0, 0, 1, 1, 1, 1, 1, 0, 1, 0, 0, 1, 1, 1, 1, 0, 1, 0, 1, 0, 1, 1, 1, 0, 1, 1, 1, 0, 1, 1, 1, 1, 1, 1, 0, 0, 0, 1, 1, 1, 1, 0, 0, 1, 1, 0, 0, 0, 0, 0, 0, 1, 1, 0, 0, 1, 1, 1, 1, 1, 1, 0, 0, 0, 0, 0, 1, 0, 0, 1, 1, 1, 1, 0, 1, 1, 1, 1, 1, 1, 0, 1, 1, 0, 0, 1, 1, 1, 0, 1, 1, 1, 1, 1, 0, 0, 0, 1, 0, 0, 0, 0, 1, 1, 1, 0, 0, 1, 0, 1, 1, 0, 0, 1, 1, 0, 0, 1, 0, 0, 1, 0, 0, 1, 0, 0, 1, 0, 1, 1, 1, 1, 0, 1, 0, 1, 0, 1, 0, 1, 1, 1, 1, 1, 1, 0, 0, 0, 0, 1, 1, 0, 1, 1, 1, 1, 0, 0, 0, 0, 0, 0, 1, 0, 0, 0, 1, 1, 0, 1, 0, 1, 0, 0, 1, 1, 0, 1, 1, 1, 0, 0, 1, 1, 1, 0, 1, 1, 1, 0, 1, 1, 0, 1, 1, 0, 1, 1, 1, 1, 0, 1, 1, 0, 1, 1, 0, 1, 0, 1, 1, 0, 1, 1, 0, 0, 0, 1, 1, 0, 0, 1, 1, 1, 1, 1, 0, 1, 0, 0, 1, 0, 1, 0, 1, 0, 1, 0, 1, 1, 1, 1, 0, 1, 1, 1, 1, 1, 1, 1, 0, 0, 1, 0, 0, 0, 1, 0, 1, 1, 0, 1, 1, 0, 0, 0, 0, 1, 1, 0, 0, 1, 1, 1, 1, 1, 0, 0, 1, 0, 1, 0, 0, 0, 0, 1, 1, 0, 0, 1, 0, 1, 1, 0, 0, 0, 0, 0, 0, 1, 1, 0, 0, 1, 0, 1, 1, 1, 0, 0, 1, 0, 1, 0, 1, 1, 1, 1, 0, 1, 1, 1, 1, 1, 0, 1, 1, 0, 1, 1, 0, 0, 0, 1, 0, 0, 1, 1, 0, 0, 0, 1, 0, 0, 1, 1, 0, 1, 1, 1, 0, 0, 1, 1, 0, 0, 0, 1, 0, 1, 0, 1, 0, 0, 1, 0, 0, 1, 1, 1, 1, 0, 0, 1, 0, 0, 1, 0, 1, 1, 1, 1, 0, 0, 0, 0, 0, 0, 0, 1, 1, 0, 0, 0, 1, 0, 1, 1, 0, 1, 0, 1, 0, 0, 0, 0, 0, 0, 0, 0, 0, 0, 0, 1, 1, 1, 1, 1, 1, 1, 0, 1, 0, 1, 0, 1, 0, 1, 0, 0, 0, 1, 0, 0, 0, 0, 0, 0, 0, 0, 1, 0, 1, 1, 0, 1, 0, 1, 0, 1, 1, 1, 0, 0, 0, 0, 0, 1, 0, 0, 0, 1, 0, 0, 0, 1, 1, 1, 0, 0, 0, 0, 0, 1, 1, 1, 1, 0, 0, 0, 0, 0, 1, 0, 0, 0, 1, 0, 0, 0, 1, 0, 1, 1, 0, 1, 0, 1, 1, 1, 0, 1, 0, 1, 0, 0, 0, 1, 0, 1, 1, 0, 0, 0, 1, 0, 0, 0, 0, 0, 0, 1, 1, 1, 0, 1, 1, 1, 1, 0, 0, 0, 0, 1, 1, 1, 1, 0, 0, 1, 1, 0, 1, 0, 0, 0, 0, 0, 1, 0, 1, 1, 0, 0, 1, 1, 1, 1, 1, 0, 0, 0, 1, 1, 0, 1, 1, 0, 0, 0, 0, 1, 1, 0, 1, 1, 1, 1, 1, 1, 1, 0, 1, 1, 0, 1, 1, 1, 1, 1, 1, 0, 1, 0, 1, 0, 1, 0, 1, 1, 0, 0, 0, 0, 0, 1, 0, 0, 1, 0, 1, 1, 0, 1, 1, 1, 0, 1, 1, 0, 1, 1, 1, 0, 1, 1, 1, 0, 0, 1, 0, 0, 1, 0, 1, 0, 1, 0, 0, 0, 1, 1, 0, 1, 0, 1, 1, 1, 1, 1, 0, 1, 0, 0, 1, 1, 0, 1, 1, 1, 0, 0, 0, 1, 0, 1, 1, 0, 0, 0, 1, 0, 1, 0, 1, 0, 0, 0, 0, 1, 1, 0, 1, 0, 0, 0, 1, 1, 1, 0, 1, 0, 1, 1, 0, 1, 1, 1, 1, 1, 0, 1, 0, 0, 0, 1, 1, 1, 0, 0, 1, 0, 0, 0, 0, 1, 1, 1, 1, 1, 0, 1, 0, 0, 0, 0, 1, 1, 1, 1, 0, 1, 0, 0, 1, 0, 1, 1, 0, 0, 0, 1, 1, 0, 1, 0, 0, 1, 0, 0, 1, 1, 0, 0, 1, 1, 1, 0, 0, 1, 1, 0, 1, 1, 1, 0, 1, 1, 0, 1, 1, 1, 1, 1, 1, 1, 1, 1, 0, 1, 1, 1, 0, 1, 0, 0, 0, 0, 1, 1, 0, 1, 1, 1, 0, 0, 0, 0, 1, 0, 0, 0, 1, 1, 0, 0, 1, 1, 1, 0, 0, 1, 0, 0, 1, 1, 1, 0, 0, 0, 1, 0, 0, 1, 0, 1, 1, 1, 0, 1, 0, 1, 0, 1, 0, 1, 0, 0, 0, 0, 1, 1, 0, 1, 0, 1, 1, 1, 0, 1, 0, 1, 1, 0, 1, 0, 0, 1, 0, 0, 1, 0, 1, 0, 1, 0, 0, 0, 1, 1, 0, 1, 1, 0, 1, 0, 1, 0, 0, 1, 0, 0, 1, 0, 0, 0, 0, 1, 1, 1, 0, 1, 0, 0, 1, 0, 1, 0, 1, 0, 0, 0, 1, 0, 0, 1, 0, 1, 1, 1, 1, 1, 1, 1, 1, 1, 0, 1, 0, 1, 1, 1, 0, 0, 1, 1, 0, 1, 1, 1, 0, 1, 1, 0, 1, 0, 1, 1, 1, 1, 0, 0, 0, 0, 1, 1, 1, 1, 0, 1, 0, 0, 0, 0, 1, 1, 1, 0, 1, 1, 1, 0, 1, 1, 0, 1, 0, 1, 0, 0, 1, 0, 0, 1, 0, 0, 0, 0, 0, 1, 0, 1, 1, 0, 1, 0, 1, 0, 0, 0, 1, 0, 0, 1, 0, 0, 1, 0, 0, 0, 1, 1, 0, 1, 1, 1, 0, 0, 0, 0, 1, 1, 1, 0, 1, 1, 1, 1, 0, 0, 1, 0, 0, 1, 1, 0, 0, 0, 0, 1, 0, 1, 1, 0, 0, 1, 0, 1, 0, 0, 1, 1, 1, 0, 0, 0, 1, 0, 1, 1, 0, 1, 1, 0, 1, 0, 0, 1, 0, 1, 0, 1, 0, 1, 0, 0, 0, 1, 1, 1, 1, 1, 1, 0, 1, 0, 1, 1, 1, 0, 0, 1, 0, 0, 1, 0, 1, 1, 0, 1, 1, 0, 1, 0, 1, 1, 1, 0, 0, 0, 0, 0, 1, 0, 1, 0, 1, 1, 0, 1, 0, 1, 1, 0, 1, 1, 0, 1, 1, 0, 0, 1, 1, 1, 1, 0, 0, 1, 1, 0, 1, 1, 0, 1, 1, 0, 0, 0, 1, 1, 0, 1, 0, 1, 1, 0, 1, 1, 0, 0, 0, 0, 1, 0, 1, 0, 0, 1, 1, 0, 1, 0, 1, 0, 1, 0, 1, 0, 0, 0, 1, 1, 1, 1, 0, 1, 0, 1, 0, 0, 1, 0, 0, 1, 1, 1, 1, 1, 1, 1, 0, 1, 1, 1, 1, 1, 0, 0, 1, 0, 0, 0, 1, 0, 1, 0, 1, 0, 1, 0, 0, 1, 0, 0, 0, 1, 0, 1, 0, 0, 1, 0, 1, 1, 0, 1, 1, 0, 1, 0, 1, 0, 1, 1, 1, 1, 1, 1, 1, 1, 0, 0, 0, 0, 1, 0, 1, 0, 1, 1, 0, 1, 1, 1, 1, 0, 1, 1, 0, 0, 1, 0, 0, 1, 0, 1, 0, 1, 0, 1, 1, 0, 1, 1, 1, 1, 0, 0, 0, 1, 0, 0, 1, 0, 0, 1, 0, 0, 1, 0, 0, 1, 0, 1, 0, 0, 0, 0, 1, 0, 0, 0, 0, 0, 0, 0, 1, 0, 1, 0, 1, 0, 0, 1, 0, 0, 0, 1, 1, 0, 1, 0, 0, 1, 1, 1, 0, 0, 0, 1, 0, 0, 1, 1, 0, 1, 0, 1, 1, 0, 1, 1, 0, 1, 1, 1, 1, 1, 1, 0, 1, 1, 0, 0, 1, 1, 0, 0, 0, 1, 0, 0, 1, 0, 1, 0, 1, 1, 0, 1, 1, 0, 0, 0, 0, 0, 0, 1, 1, 1, 0, 1, 0, 0, 0, 1, 0, 0, 0, 0, 1, 0, 0, 0, 1, 1, 0, 0, 0, 1, 0, 1, 0, 0, 0, 1, 1, 1, 0, 0, 1, 1, 0, 1, 0, 1, 0, 1, 0, 1, 1, 0, 1, 1, 1, 1, 1, 0, 0, 1, 1, 0, 0, 1, 0, 0, 1, 1, 0, 1, 0, 1, 1, 0, 1, 0, 1, 0, 1, 1, 0, 1, 0, 0, 1, 0, 0, 1, 1, 0, 0, 0, 1, 1, 0, 0, 1, 0, 1, 1, 1, 0, 0, 1, 1, 0, 0, 1, 0, 1, 1, 1, 1, 0, 1, 1, 0, 0, 0, 0, 1, 0, 1, 1, 1, 0, 1, 0, 1, 0, 1, 1, 0, 0, 1, 0, 1, 1, 1, 0, 0, 1, 0, 0, 0, 0, 1, 1, 0, 0, 1, 0, 0, 0, 1, 1, 1, 1, 1, 1, 0, 1, 1, 1, 1, 0, 1, 0, 1, 0, 1, 0, 1, 0, 1, 1, 0, 0, 0, 0, 1, 0, 0, 1, 0, 0, 0, 0, 0, 0, 1, 0, 0, 0, 1, 1, 1, 0, 0, 0, 0, 0, 1, 0, 1, 1, 0, 1, 1, 0, 1, 1, 1, 0, 1, 1, 0, 0, 0, 1, 0, 1, 1, 1, 1, 0, 1, 0, 1, 1, 0, 0, 0, 1, 0, 1, 0, 1, 0, 0, 0, 0, 1, 1, 1, 0, 1, 0, 1, 1, 0, 0, 1, 0, 0, 1, 0, 1, 0, 1, 0, 1, 0, 0, 1, 1, 1, 1, 1, 1, 0, 0, 0, 0, 1, 1, 0, 1, 0, 0, 1, 0, 1, 1, 0, 1, 0, 0, 0, 0, 0, 0, 1, 0, 1, 1, 0, 0, 1, 1, 1, 0, 0, 0, 1, 1, 0, 0, 0, 1, 0, 0, 1, 0, 0, 1, 1, 0, 1, 0, 0, 0, 0, 1, 0, 1, 1, 0, 1, 0, 1, 0, 1, 1, 0, 0, 1, 0, 1, 1, 1, 1, 0, 1, 0, 1, 0, 0, 1, 0, 1, 1, 1, 0, 0, 0, 0, 0, 1, 0, 0, 0, 0, 0, 0, 1, 0, 0, 1, 0, 1, 1, 0, 0, 0, 1, 1, 1, 0, 1, 1, 1, 0, 0, 0, 1, 0, 0, 1, 0, 0, 1, 1, 1, 0, 1, 1, 1, 0, 1, 0, 1, 1, 1, 0, 0, 0, 0, 1, 0, 0, 0, 1, 1, 1, 1, 0, 1, 0, 1, 1, 1, 0, 0, 0, 1, 0, 0, 0, 1, 0, 0, 0, 0, 1, 1, 1, 1, 1, 0, 1, 1, 0, 1, 1, 0, 1, 1, 0, 0, 0, 0, 0, 1, 0, 1, 0, 0, 0, 0, 0, 0, 1, 1, 0, 0, 0, 1, 0, 0, 0, 1, 1, 1, 1, 1, 1, 1, 0, 1, 1, 1, 0, 0, 0, 1, 0, 1, 1, 0, 1, 1, 1, 0, 1, 0, 1, 0, 1, 1, 0, 1, 1, 0, 0, 1, 0, 0, 1, 1, 1, 1, 1, 1, 1, 1, 1, 1, 1, 0, 0, 0, 1, 0, 1, 0, 1, 0, 0, 1, 0, 1, 0, 1, 1, 1, 1, 0, 0, 1, 0, 1, 0, 1, 1, 1, 0, 0, 1, 0, 0, 1, 1, 0, 0, 1, 1, 0, 0, 0, 1, 0, 0, 0, 0, 0, 0, 0, 1, 0, 1, 1, 0, 1, 1, 1, 1, 0, 0, 0, 0, 1, 1, 0, 0, 0, 1, 0, 1, 1, 0, 0, 1, 0, 0, 1, 1, 1, 1, 1, 1, 0, 1, 1, 0, 0, 0, 1, 0, 0, 1, 1, 0, 1, 1, 1, 0, 0, 0, 1, 0, 1, 1, 1, 0, 1, 0, 0, 0, 0, 1, 0, 0, 1, 1, 0, 0, 0, 1, 0, 0, 1, 0, 1, 1, 1, 1, 1, 0, 1, 1, 0, 0, 1, 1, 1, 1, 0, 1, 0, 1, 0, 0, 1, 1, 1, 0, 0, 0, 1, 1, 0, 1, 1, 1, 0, 1, 1, 0, 0, 0, 0, 1, 0, 0, 1, 1, 0, 1, 0, 1, 0, 1, 0, 0, 1, 0, 1, 0, 0, 0, 1, 1, 0, 0, 1, 1, 0, 0, 0, 0, 0, 0, 0, 0, 0, 1, 0, 1, 1, 0, 1, 1, 0, 1, 1, 0, 0, 1, 1, 0, 0, 0, 1, 1, 0, 1, 1, 0, 0, 1, 0, 0, 1, 1, 0, 0, 1, 1, 1, 1, 1, 0, 1, 0, 1, 1, 0, 0, 1, 0, 1, 1, 1, 0, 1, 0, 0, 0, 0, 0, 1, 0, 1, 0, 1, 0, 1, 0, 1, 1, 0, 0, 0, 1, 1, 1, 1, 1, 0, 1, 0, 1, 1, 0, 0, 1, 1, 1, 0, 0, 0, 0, 0, 1, 0, 0, 1, 1, 1, 1, 1, 1, 1, 0, 0, 0, 0, 0, 1, 1, 0, 1, 1, 1, 0, 0, 1, 1, 1, 1, 1, 1, 0, 1, 1, 0, 1, 0, 1, 1, 1, 1, 0, 0, 1, 0, 1, 1, 0, 1, 1, 0, 0, 0, 0, 1, 1, 1, 1, 0, 0, 0, 1, 0, 1, 0, 0, 1, 0, 1, 1, 0, 1, 1, 0, 1, 1, 0, 1, 1, 1, 1, 1, 1, 0, 0, 1, 0, 0, 1, 1, 1, 1, 1, 1, 0, 0, 1, 1, 1, 1, 1, 1, 0, 1, 1, 0, 0, 0, 0, 1, 1, 0, 1, 0, 1, 0, 0, 0, 0, 0, 1, 0, 0, 1, 1, 1, 1, 1, 0, 1, 0, 1, 0, 1, 1, 1, 0, 1, 0, 0, 1, 0, 0, 0, 0, 0, 0, 1, 0, 1, 1, 1, 1, 1, 1, 1, 1, 0, 0, 1, 0, 0, 1, 1, 1, 1, 1, 0, 1, 0, 0, 1, 1, 0, 1, 1, 0, 0, 0, 0, 0, 1, 0, 1, 0, 0, 0, 1, 0, 0, 1, 0, 1, 0, 0, 1, 1, 1, 1, 1, 1, 0, 0, 1, 0, 0, 1, 0, 1, 1, 0, 0, 0, 0, 1, 0, 0, 1, 0, 1, 1, 0, 0, 0, 1, 1, 0, 0, 1, 0, 1, 0, 0, 1, 1, 1, 1, 0, 1, 0, 0, 1, 1, 0, 0, 1, 0, 0, 1, 0, 0, 1, 1, 0, 1, 0, 0, 0, 0, 0, 0, 0, 0, 1, 1, 0, 0, 0, 0, 1, 1, 1, 1, 0, 0, 1, 0, 1, 0, 0, 0, 0, 1, 1, 0, 0, 0, 1, 0, 1, 0, 1, 1, 0, 0, 0, 1, 1, 0, 0, 1, 0, 0, 1, 1, 0, 1, 1, 0, 0, 0, 0, 0, 1, 1, 0, 1, 0, 1, 0, 0, 0, 0, 0, 0, 1, 1, 1, 0, 1, 1, 0, 0, 1, 0, 1, 0, 0, 0, 0, 0, 0, 1, 0, 0, 1, 1, 0, 1, 1, 0, 1, 0, 0, 0, 0, 0, 0, 0, 1, 1, 0, 1, 1, 0, 0, 0, 0, 1, 0, 1, 0, 0, 1, 0, 1, 0, 1, 1, 1, 1, 0, 0, 1, 1, 0, 1, 1, 0, 0, 0, 0, 1, 1, 1, 1, 1, 0, 0, 0, 0, 0, 1, 0, 0, 0, 1, 0, 1, 0, 1, 0, 0, 0, 1, 1, 1, 0, 1, 1, 0, 0, 1, 0, 0, 1, 0, 0, 0, 1, 1, 1, 1, 1, 0, 0, 0, 1, 0, 0, 0, 0, 0, 1, 0, 1, 1, 1, 0, 0, 0, 1, 1, 0, 1, 0, 1, 0, 1, 1, 0, 0, 1, 0, 1, 1, 0, 0, 1, 1, 0, 0, 0, 0, 1, 0, 0, 1, 0, 1, 1, 0, 0, 0, 0, 1, 1, 0, 0, 1, 0, 1, 1, 0, 1, 0, 1, 1, 0, 1, 0, 1, 1, 0, 0, 1, 1, 1, 0, 1, 1, 1, 1, 1, 1, 1, 0, 0, 0, 0, 0, 0, 1, 0, 1, 0, 1, 0, 1, 0, 1, 0, 0, 0, 1, 0, 1, 1, 1, 0, 1, 0, 1, 0, 1, 1, 0, 0, 1, 0, 0, 1, 0, 1, 1, 0, 0, 1, 1, 0, 1, 1, 0, 1, 1, 1, 0, 1, 0, 1, 1, 0, 1, 0, 0, 0, 1, 1, 1, 1, 0, 0, 0, 0, 1, 1, 1, 1, 1, 1, 1, 1, 1, 1, 0, 1, 1, 1, 0, 0, 1, 1, 1, 1, 0, 1, 0, 1, 1, 0, 1, 1, 1, 0, 1, 0, 1, 1, 1, 0, 0, 1, 1, 0, 1, 0, 1, 0, 1, 1, 1, 1, 1, 1, 0, 1, 0, 1, 0, 1, 0, 0, 0, 0, 1, 1, 1, 0, 0, 1, 0, 1, 0, 0, 0, 1, 0, 1, 0, 0, 1, 0, 0, 0, 1, 1, 0, 0, 1, 0, 0, 0, 1, 0, 0, 1, 1, 1, 1, 1, 1, 0, 1, 0, 0, 1, 0, 0, 0, 1, 1, 0, 1, 1, 1, 0, 1, 0, 0, 1, 0, 1, 0, 0, 0, 1, 1, 1, 0, 0, 0, 0, 0, 1, 1, 1, 1, 1, 1, 1, 1, 1, 0, 1, 1, 1, 1, 0, 1, 0, 1, 0, 0, 1, 1, 0, 0, 0, 1, 1, 1, 0, 1, 1, 0, 0, 1, 1, 1, 0, 1, 0, 1, 1, 1, 0, 1, 0, 0, 0, 0, 1, 0, 1, 1, 1, 0, 0, 1, 0, 0, 0, 1, 1, 0, 0, 0, 1, 1, 0, 1, 1, 1, 1, 1, 0, 1, 0, 0, 1, 0, 0, 1, 1, 0, 0, 0, 1, 1, 1, 0, 1, 0, 0, 1, 1, 1, 1, 0, 0, 1, 1, 1, 0, 1, 1, 0, 1, 0, 0, 1, 1, 1, 1, 0, 0, 0, 0, 0, 0, 0, 0, 1, 0, 0, 1, 1, 0, 1, 0, 1, 0, 1, 1, 1, 1, 1, 0, 1, 1, 0, 0, 0, 1, 0, 1, 0, 1, 1, 0, 0, 1, 0, 0, 0, 0, 1, 1, 1, 1, 0, 0, 1, 1, 0, 0, 1, 0, 1, 1, 0, 0, 1, 0, 1, 0, 1, 1, 0, 0, 0, 1, 0, 0, 0, 0, 0, 1, 0, 0, 1, 1, 0, 1, 0, 1, 0, 1, 1, 0, 1, 0, 1, 0, 1, 0, 0, 0, 0, 1, 0, 1, 0, 1, 0, 1, 0, 0, 0, 0, 0, 0, 0, 1, 1, 1, 1, 0, 1, 0, 0, 1, 1, 0, 1, 0, 0, 1, 1, 0, 0, 0, 0, 0, 0, 1, 0, 1, 1, 0, 0, 0, 0, 1, 1, 0, 1, 0, 0, 0, 0, 0, 1, 1, 0, 1, 0, 0, 0, 0, 1, 0, 0, 1, 0, 1, 1, 0, 0, 0, 1, 1, 0, 1, 0, 1, 0, 1, 1, 1, 0, 1, 0, 1, 0, 0, 1, 1, 1, 1, 1, 0, 0, 1, 1, 1, 0, 1, 0, 1, 1, 0, 0, 0, 1, 1, 0, 0, 1, 0, 1, 0, 0, 0, 1, 0, 1, 0, 0, 1, 1, 1, 1, 1, 1, 1, 1, 0, 1, 1, 0, 1, 1, 1, 1, 1, 1, 1, 0, 0, 1, 1, 1, 0, 1, 0, 1, 0, 0, 0, 1, 1, 1, 1, 0, 0, 1, 1, 1, 1, 0, 1, 1, 0, 0, 1, 0, 1, 0, 0, 1, 1, 0, 1, 0, 1, 0, 0, 1, 0, 1, 1, 0, 1, 0, 1, 1, 1, 0, 0, 0, 1, 1, 0, 1, 1, 0, 0, 1, 1, 1, 1, 1, 1, 1, 0, 0, 0, 0, 0, 0, 1, 1, 0, 0, 1, 1, 0, 0, 1, 1, 1, 1, 0, 1, 0, 1, 0, 1, 1, 1, 0, 1, 0, 1, 1, 0, 1, 0, 0, 1, 1, 0, 0, 1, 1, 1, 0, 1, 0, 0, 1, 1, 1, 0, 1, 0, 1, 1, 1, 0, 0, 0, 1, 1, 0, 0, 0, 1, 1, 1, 0, 0, 1, 0, 1, 1, 1, 1, 0, 1, 0, 0, 0, 1, 1, 0, 0, 1, 1, 0, 1, 0, 0, 0, 0, 0, 1, 1, 1, 0, 0, 0, 0, 0, 1, 0, 0, 0, 0, 1, 0, 1, 1, 1, 0, 1, 1, 1, 1, 1, 0, 0, 0, 1, 0, 1, 0, 1, 0, 1, 0, 1, 0, 1, 1, 0, 0, 1, 1, 0, 1, 1, 1, 0, 1, 1, 1, 0, 0, 1, 1, 1, 0, 0, 0, 1, 1, 0, 0, 1, 0, 1, 1, 0, 0, 1, 0, 1, 1, 0, 0, 1, 0, 0, 0, 1, 1, 0, 0, 0, 1, 1, 0, 1, 0, 0, 0, 0, 1, 0, 0, 0, 1, 0, 1, 1, 1, 0, 0, 0, 1, 0, 1, 1, 1, 0, 1, 0, 0, 1, 0, 1, 1, 1, 1, 0, 0, 1, 0, 0, 1, 0, 0, 0, 1, 0, 1, 1, 1, 1, 0, 1, 0, 0, 1, 1, 1, 0, 1, 1, 0, 0, 1, 1, 0, 0, 0, 0, 1, 0, 1, 0, 1, 1, 0, 0, 1, 0, 1, 0, 0, 1, 1, 1, 1, 1, 1, 1, 1, 1, 1, 1, 0, 1, 1, 0, 0, 1, 0, 0, 1, 0, 1, 0, 1, 0, 0, 0, 0, 0, 0, 0, 0, 0, 1, 0, 0, 1, 1, 1, 0, 0, 0, 1, 0, 1, 1, 1, 1, 0, 1, 0, 0, 1, 1, 0, 0, 0, 0, 1, 1, 0, 0, 1, 0, 1, 0, 0, 1, 0, 0, 1, 1, 0, 0, 1, 0, 1, 1, 0, 1, 0, 1, 0, 0, 0, 0, 0, 0, 0, 0, 1, 0, 1, 0, 1, 1, 1, 0, 1, 0, 0, 0, 0, 0, 1, 1, 0, 0, 1, 0, 0, 1, 1, 0, 1, 1, 1, 0, 1, 0, 0, 0, 0, 1, 0, 0, 0, 0, 0, 1, 1, 0, 0, 0, 0, 0, 1, 0, 0, 1, 1, 0, 1, 0, 0, 1, 1, 1, 1, 0, 1, 0, 0, 0, 1, 1, 1, 0, 1, 1, 1, 0, 1, 0, 1, 0, 0, 0, 0, 0, 0, 1, 1, 0, 1, 0, 1, 1, 1, 0, 0, 1, 0, 1, 0, 0, 0, 1, 0, 0, 0, 1, 1, 1, 0, 0, 1, 1, 0, 1, 1, 0, 1, 1, 1, 0, 0, 1, 0, 0, 1, 0, 0, 1, 0, 0, 0, 0, 1, 1, 1, 1, 0, 0, 0, 0, 1, 0, 1, 0, 0, 1, 0, 1, 0, 0, 0, 1, 1, 0, 1, 1, 1, 0, 0, 1, 1, 0, 0, 1, 1, 0, 0, 0, 0, 0, 0, 0, 0, 0, 1, 1, 0, 1, 1, 0, 1, 1, 0, 1, 0, 0, 0, 0, 1, 0, 1, 0, 0, 0, 0, 1, 1, 0, 1, 0, 1, 1, 1, 0, 0, 0, 1, 1, 1, 0, 0, 1, 1, 1, 1, 1, 0, 0, 1, 1, 1, 0, 1, 0, 1, 0, 0, 0, 0, 0, 1, 0, 1, 1, 1, 1, 0, 0, 0, 0, 0, 1, 0, 1, 1, 1, 0, 0, 1, 0, 1, 0, 0, 0, 1, 1, 0, 0, 1, 1, 0, 0, 1, 0, 0, 0, 1, 0, 1, 1, 1, 0, 0, 0, 0, 0, 1, 0, 0, 1, 0, 1, 1, 1, 1, 1, 1, 1, 1, 1, 1, 0, 1, 0, 0, 0, 0, 1, 1, 1, 0, 0, 0, 1, 1, 0, 1, 0, 0, 1, 0, 1, 1, 0, 1, 1, 1, 1, 1, 0, 0, 0, 0, 1, 0, 1, 1, 1, 1, 0, 1, 1, 0, 0, 1, 0, 0, 1, 1, 0, 0, 1, 1, 0, 0, 1, 1, 0, 0, 0, 0, 1, 0, 0, 0, 1, 0, 0, 1, 0, 1, 0, 1, 1, 0, 1, 0, 0, 0, 0, 0, 0, 1, 0, 0, 1, 0, 0, 1, 1, 0, 1, 1, 0, 0, 1, 1, 0, 0, 1, 1, 1, 1, 0, 0, 0, 1, 1, 0, 1, 0, 0, 0, 0, 0, 0, 0, 0, 1, 1, 0, 1, 1, 1, 1, 0, 0, 0, 1, 0, 1, 0, 0, 0, 0, 0, 1, 0, 0, 0, 0, 0, 0, 0, 0, 1, 1, 1, 0, 1, 0, 0, 1, 0, 1, 0, 0, 0, 1, 1, 1, 1, 0, 0, 0, 0, 1, 1, 0, 0, 1, 0, 1, 0, 1, 0, 1, 1, 1, 0, 1, 0, 1, 1, 1, 0, 1, 0, 0, 1, 0, 1, 0, 0, 0, 1, 0, 1, 1, 1, 0, 0, 0, 1, 0, 0, 0, 0, 0, 1, 0, 0, 1, 0, 1, 0, 1, 1, 0, 1, 0, 0, 1, 1, 0, 0, 0, 0, 0, 1, 1, 0, 1, 1, 1, 1, 0, 0, 0, 1, 0, 0, 1, 0, 1, 0, 1, 1, 1, 0, 1, 0, 0, 0, 0, 0, 0, 0, 1, 1, 0, 0, 0, 0, 0, 0, 1, 1, 1, 1, 0, 1, 0, 1, 1, 1, 0, 1, 0, 1, 0, 0, 1, 0, 0, 0, 0, 1, 1, 0, 1, 1, 1, 1, 0, 1, 0, 0, 0, 1, 1, 0, 1, 0, 0, 0, 0, 0, 0, 0, 0, 0, 1, 0, 0, 1, 0, 1, 1, 0, 1, 1, 1, 1, 0, 1, 1, 1, 0, 0, 1, 0, 1, 0, 1, 0, 0, 0, 0, 1, 1, 1, 1, 0, 1, 0, 1, 1, 0, 1, 1, 1, 1, 0, 0, 1, 0, 1, 0, 1, 0, 0, 1, 1, 0, 1, 1, 0, 0, 0, 0, 1, 1, 1, 1, 0, 0, 0, 1, 1, 0, 0, 1, 1, 1, 1, 1, 1, 0, 1, 0, 1, 0, 0, 1, 0, 0, 1, 0, 1, 1, 0, 1, 0, 0, 1, 1, 1, 1, 0, 1, 0, 0, 1, 1, 0, 1, 1, 1, 1, 1, 0, 0, 0, 0, 1, 0, 1, 0, 0, 1, 0, 0, 0, 1, 1, 1, 1, 1, 0, 1, 0, 1, 1, 1, 0, 0, 0, 0, 1, 0, 0, 1, 1, 0, 1, 1, 0, 1, 1, 1, 0, 1, 0, 0, 1, 0, 0, 1, 0, 1, 1, 1, 1, 1, 0, 1, 0, 1, 1, 0, 1, 0, 1, 0, 0, 0, 1, 0, 1, 1, 0, 1, 0, 1, 1, 1, 0, 0, 0, 1, 1, 1, 0, 1, 1, 0, 0, 0, 0, 1, 1, 1, 0, 1, 0, 0, 1, 1, 0, 0, 1, 1, 1, 1, 0, 1, 1, 1, 1, 1, 1, 1, 0, 1, 0, 1, 1, 1, 1, 1, 1, 0, 0, 0, 1, 0, 1, 1, 1, 1, 1, 1, 1, 0, 0, 1, 0, 0, 1, 1, 0, 1, 1, 0, 1, 1, 1, 0, 1, 1, 1, 1, 1, 0, 0, 1, 0, 0, 1, 0, 1, 1, 1, 0, 0, 1, 0, 0, 0, 0, 0, 1, 0, 0, 0, 0, 0, 0, 1, 1, 1, 1, 1, 0, 1, 0, 1, 1, 1, 0, 1, 0, 1, 1, 1, 1, 1, 1, 0, 1, 1, 1, 1, 0, 1, 0, 1, 0, 1, 0, 1, 0, 1, 0, 0, 0, 1, 0, 1, 1, 1, 1, 0, 1, 1, 1, 1, 0, 1, 0, 1, 1, 1, 0, 0, 0, 0, 1, 1, 0, 1, 0, 1, 0, 0, 0, 0, 1, 1, 1, 0, 0, 0, 0, 1, 0, 1, 1, 0, 0, 0, 0, 1, 0, 0, 0, 1, 0, 1, 0, 0, 1, 0, 0, 1, 1, 1, 1, 1, 1, 0, 0, 1, 0, 1, 1, 1, 0, 0, 1, 1, 1, 1, 0, 0, 0, 0, 0, 1, 0, 1, 0, 1, 0, 1, 1, 0, 0, 0, 1, 1, 0, 0, 0, 0, 0, 0, 1, 1, 1, 0, 1, 0, 1, 1, 0, 0, 0, 1, 0, 0, 1, 1, 1, 0, 0, 1, 0, 0, 0, 1, 1, 0, 1, 1, 0, 1, 1, 0, 1, 0, 1, 0, 1, 1, 0, 1, 0, 0, 0, 0, 1, 1, 1, 1, 0, 1, 1, 0, 0, 1, 0, 0, 0, 1, 0, 1, 1, 0, 1, 1, 1, 0, 0, 0, 1, 1, 0, 0, 1, 1, 0, 0, 1, 1, 1, 1, 1, 0, 0, 0, 0, 1, 1, 0, 1, 1, 0, 1, 0, 0, 1, 0, 0, 0, 0, 1, 0, 0, 0, 0, 1, 1, 1, 0, 1, 1, 0, 0, 1, 0, 0, 1, 0, 0, 1, 1, 0, 1, 0, 1, 0, 1, 0, 1, 0, 1, 0, 1, 0, 0, 1, 0, 1, 0, 1, 1, 0, 0, 1, 1, 1, 0, 0, 1, 1, 0, 0, 1, 1, 0, 0, 1, 0, 1, 1, 0, 0, 0, 0, 1, 0, 1, 1, 1, 0, 1, 0, 0, 1, 0, 0, 1, 1, 0, 0, 1, 1, 0, 1, 1, 0, 0, 0, 0, 0, 0, 0, 1, 1, 1, 0, 0, 0, 1, 0, 0, 1, 1, 0, 0, 0, 0, 0, 0, 0, 1, 0, 1, 0, 1, 0, 0, 1, 0, 1, 1, 0, 1, 0, 1, 1, 0, 0, 1, 1, 1, 1, 1, 1, 1, 1, 1, 1, 1, 0, 0, 0, 1, 1, 1, 0, 1, 1, 0, 1, 1, 0, 1, 1, 1, 1, 1, 0, 1, 0, 1, 0, 1, 1, 1, 1, 1, 1, 0, 1, 0, 0, 1, 0, 1, 0, 1, 1, 0, 1, 0, 0, 0, 1, 1, 1, 1, 0, 0, 1, 1, 0, 0, 1, 1, 0, 0, 0, 0, 0, 0, 1, 1, 0, 1, 1, 1, 0, 1, 0, 1, 1, 1, 0, 1, 0, 1, 1, 1, 1, 1, 0, 1, 1, 0, 0, 1, 0, 1, 1, 0, 1, 0, 1, 1, 1, 1, 0, 1, 0, 1, 1, 0, 1, 0, 0, 0, 0, 0, 1, 0, 0, 1, 1, 1, 0, 1, 0, 0, 0, 0, 1, 0, 1, 1, 0, 1, 0, 0, 0, 1, 0, 1, 0, 1, 1, 0, 1, 1, 1, 0, 0, 1, 0, 0, 1, 0, 0, 1, 1, 1, 1, 1, 1, 0, 0, 0, 1, 1, 0, 1, 1, 0, 1, 0, 0, 1, 1, 0, 0, 0, 0, 0, 1, 0, 1, 1, 0, 1, 1, 0, 0, 1, 0, 1, 1, 1, 1, 1, 1, 1, 0, 0, 1, 1, 0, 0, 0, 0, 0, 0, 1, 0, 0, 1, 0, 0, 1, 1, 1, 0, 1, 1, 1, 0, 1, 0, 1, 1, 0, 1, 0, 0, 0, 1, 1, 1, 0, 0, 1, 0, 1, 1, 1, 1, 1, 1, 0, 0, 0, 0, 1, 0, 1, 1, 0, 1, 0, 1, 0, 0, 1, 0, 1, 0, 1, 0, 1, 0, 0, 1, 0, 0, 1, 0, 0, 0, 1, 1, 0, 0, 1, 0, 1, 1, 1, 0, 1, 0, 0, 0, 1, 0, 0, 1, 0, 1, 0, 1, 1, 0, 0, 1, 0, 1, 0, 0, 1, 1, 1, 0, 0, 1, 0, 1, 1, 1, 0, 0, 0, 1, 0, 1, 0, 0, 0, 1, 1, 0, 0, 1, 0, 1, 0, 1, 1, 0, 1, 1, 0, 1, 0, 0, 1, 1, 0, 0, 0, 0, 0, 0, 1, 0, 1, 0, 0, 1, 0, 1, 1, 0, 1, 1, 0, 0, 1, 0, 0, 1, 0, 0, 1, 1, 0, 1, 1, 0, 0, 0, 1, 0, 1, 0, 1, 0, 0, 0, 0, 0, 0, 0, 0, 1, 1, 1, 1, 0, 1, 0, 0, 1, 1, 0, 0, 1, 0, 0, 1, 0, 1, 1, 0, 1, 0, 1, 1, 1, 0, 1, 0, 0, 0, 1, 0, 0, 1, 0, 1, 0, 1, 0, 1, 1, 0, 1, 0, 1, 0, 1, 1, 1, 1, 1, 0, 1, 0, 1, 0, 0, 1, 1, 1, 0, 1, 0, 1, 0, 1, 1, 1, 1, 0, 0, 0, 0, 0, 1, 1, 1, 0, 0, 1, 1, 1, 1, 0, 0, 0, 1, 1, 1, 0, 0, 0, 0, 1, 0, 0, 0, 1, 0, 0, 0, 1, 0, 0, 0, 1, 1, 0, 0, 1, 1, 1, 0, 1, 1, 0, 0, 0, 1, 1, 1, 0, 1, 1, 1, 0, 0, 0, 1, 0, 0, 0, 1, 1, 1, 0, 0, 1, 0, 0, 1, 0, 0, 1, 1, 0, 1, 1, 1, 1, 1, 1, 1, 1, 0, 1, 0, 0, 0, 1, 0, 0, 1, 1, 0, 1, 1, 0, 0, 0, 1, 1, 0, 1, 0, 0, 1, 1, 0, 1, 0, 0, 0, 0, 1, 0, 0, 0, 1, 0, 0, 0, 0, 0, 0, 0, 0, 1, 0, 0, 1, 1, 1, 1, 0, 1, 0, 1, 1, 1, 0, 0, 1, 0, 1, 0, 1, 1, 0, 1, 0, 0, 0, 1, 0, 0, 1, 1, 0, 0, 0, 1, 1, 0, 0, 1, 0, 1, 0, 0, 1, 1, 0, 0, 0, 0, 0, 0, 0, 1, 0, 0, 1, 1, 0, 0, 0, 1, 0, 1, 1, 1, 1, 0, 0, 0, 1, 0, 0, 0, 1, 1, 0, 0, 1, 1, 0, 0, 1, 1, 1, 0, 0, 1, 1, 1, 1, 1, 1, 0, 0, 0, 1, 0, 0, 0, 1, 1, 1, 0, 1, 1, 0, 1, 0, 1, 0, 0, 0, 0, 1, 0, 0, 0, 1, 0, 0, 0, 1, 0, 0, 0, 0, 0, 1, 0, 0, 1, 1, 1, 1, 0, 1, 1, 1, 1, 1, 1, 1, 0, 0, 0, 0, 1, 1, 1, 1, 1, 0, 1, 1, 1, 0, 1, 1, 1, 0, 1, 0, 0, 1, 0, 1, 1, 1, 0, 1, 0, 0, 1, 0, 1, 0, 1, 1, 0, 0, 0, 0, 0, 0, 1, 0, 1, 1, 0, 0, 1, 1, 1, 1, 1, 0, 1, 0, 1, 0, 1, 1, 0, 0, 1, 0, 0, 0, 1, 1, 0, 0, 0, 0, 0, 0, 0, 1, 0, 1, 0, 1, 1, 0, 1, 1, 1, 0, 1, 0, 1, 1, 0, 1, 1, 1, 1, 1, 0, 1, 0, 0, 0, 1, 1, 1, 1, 0, 0, 1, 0, 1, 1, 0, 0, 0, 1, 1, 0, 1, 0, 1, 0, 1, 1, 0, 0, 1, 0, 0, 1, 0, 0, 1, 0, 0, 0, 0, 0, 1, 0, 1, 0, 1, 0, 1, 1, 1, 1, 1, 1, 0, 0, 1, 1, 0, 1, 1, 1, 0, 1, 0, 1, 1, 1, 1, 0, 1, 0, 1, 1, 0, 0, 1, 0, 1, 0, 0, 1, 1, 1, 1, 1, 0, 0, 1, 1, 0, 0, 0, 1, 1, 0, 1, 1, 1, 1, 1, 1, 0, 0, 1, 1, 0, 1, 0, 0, 0, 1, 0, 0, 0, 0, 0, 1, 1, 1, 1, 1, 0, 0, 1, 1, 1, 1, 1, 0, 0, 0, 1, 1, 1, 0, 0, 0, 1, 0, 0, 1, 1, 0, 1, 0, 1, 0, 0, 0, 0, 0, 0, 0, 0, 0, 0, 1, 1, 0, 1, 0, 1, 1, 1, 0, 0, 0, 0, 1, 1, 0, 0, 1, 1, 0, 1, 0, 0, 0, 1, 0, 0, 0, 0, 0, 1, 0, 0, 0, 0, 0, 1, 0, 0, 0, 1, 0, 0, 1, 1, 0, 0, 1, 0, 0, 0, 0, 1, 1, 1, 1, 0, 1, 0, 1, 0, 1, 1, 1, 1, 1, 1, 0, 1, 0, 0, 1, 1, 1, 1, 0, 1, 0, 1, 1, 0, 0, 0, 1, 0, 0, 1, 0, 0, 1, 0, 1, 0, 1, 1, 0, 1, 0, 0, 0, 1, 1, 0, 1, 1, 0, 1, 1, 1, 1, 1, 0, 0, 1, 0, 1, 0, 1, 0, 0, 0, 1, 0, 1, 1, 1, 1, 0, 0, 0, 0, 1, 1, 1, 1, 0, 1, 0, 0, 0, 1, 1, 0, 1, 1, 1, 0, 0, 0, 0, 0, 0, 0, 0, 0, 0, 1, 0, 1, 1, 0, 1, 1, 1, 1, 1, 0, 0, 1, 1, 1, 0, 1, 0, 0, 0, 0, 1, 1, 1, 0, 1, 1, 1, 0, 1, 0, 1, 1, 0, 1, 1, 0, 0, 0, 0, 1, 1, 1, 0, 1, 0, 1, 1, 0, 1, 0, 0, 1, 0, 1, 0, 0, 1, 1, 1, 0, 0, 0, 0, 1, 1, 0, 1, 1, 1, 0, 1, 0, 1, 0, 0, 1, 0, 1, 0, 1, 1, 0, 1, 0, 1, 1, 1, 1, 1, 1, 1, 0, 0, 1, 0, 1, 1, 0, 0, 1, 1, 1, 1, 1, 1, 1, 0, 1, 1, 0, 0, 1, 0, 1, 0, 0, 1, 1, 1, 0, 1, 0, 1, 1, 1, 1, 0, 0, 0, 1, 0, 0, 1, 1, 0, 0, 1, 0, 0, 1, 0, 1, 0, 0, 0, 0, 1, 1, 0, 0, 0, 1, 1, 1, 0, 0, 1, 0, 1, 0, 0, 1, 1, 1, 1, 1, 1, 1, 1, 0, 0, 1, 0, 1, 0, 1, 1, 1, 1, 0, 1, 0, 1, 0, 1, 0, 0, 0, 1, 0, 1, 1, 0, 0, 1, 1, 0, 0, 0, 0, 0, 1, 1, 1, 1, 1, 1, 0, 1, 1, 1, 1, 1, 0, 0, 0, 0, 0, 1, 1, 0, 1, 1, 1, 1, 0, 1, 0, 0, 1, 1, 1, 1, 1, 0, 0, 1, 0, 0, 1, 0, 1, 1, 0, 0, 1, 0, 1, 1, 1, 0, 0, 0, 0, 1, 0, 0, 0, 1, 1, 0, 1, 0, 0, 1, 0, 0, 1, 1, 1, 1, 0, 1, 1, 1, 0, 0, 0, 0, 1, 1, 1, 1, 0, 0, 1, 1, 1, 0, 0, 1, 1, 1, 0, 0, 1, 0, 0, 0, 1, 1, 0, 0, 1, 1, 1, 1, 0, 0, 1, 0, 1, 1, 0, 0, 1, 1, 1, 0, 0, 0, 0, 1, 1, 0, 0, 0, 1, 0, 1, 0, 1, 1, 1, 1, 0, 0, 1, 0, 1, 0, 1, 0, 0, 1, 1, 0, 0, 0, 1, 1, 1, 1, 1, 0, 1, 1, 1, 1, 0, 0, 1, 0, 0, 1, 1, 1, 1, 1, 0, 0, 1, 1, 0, 1, 1, 0, 1, 1, 1, 0, 1, 0, 1, 1, 1, 1, 0, 0, 1, 0, 0, 1, 0, 1, 0, 0, 1, 0, 0, 0, 0, 1, 1, 1, 0, 0, 1, 1, 1, 0, 1, 0, 1, 1, 0, 0, 0, 1, 0, 1, 1, 0, 1, 0, 1, 0, 1, 0, 0, 0, 0, 1, 0, 1, 0, 0, 1, 0, 0, 0, 0, 0, 1, 1, 0, 0, 0, 0, 1, 0, 0, 0, 0, 0, 1, 0, 0, 0, 0, 0, 0, 1, 0, 0, 1, 0, 0, 0, 1, 0, 1, 0, 1, 1, 1, 0, 0, 0, 0, 0, 0, 1, 1, 0, 1, 1, 0, 0, 1, 1, 1, 0, 1, 0, 0, 0, 0, 0, 1, 0, 1, 0, 0, 1, 0, 1, 0, 0, 0, 0, 0, 0, 0, 1, 1, 1, 0, 1, 0, 0, 0, 0, 0, 0, 1, 1, 1, 1, 0, 0, 0, 1, 1, 1, 0, 0, 1, 0, 1, 0, 0, 0, 0, 0, 1, 0, 0, 1, 0, 0, 0, 0, 0, 0, 1, 1, 1, 1, 0, 0, 1, 0, 0, 1, 0, 0, 0, 0, 1, 1, 1, 0, 1, 0, 1, 0, 1, 0, 1, 0, 0, 0, 1, 1, 1, 1, 0, 1, 1, 0, 0, 0, 1, 1, 0, 0, 0, 0, 0, 1, 1, 0, 0, 1, 1, 0, 1, 0, 1, 0, 1, 1, 1, 1, 1, 0, 0, 1, 1, 1, 0, 1, 1, 1, 1, 1, 0, 0, 1, 0, 0, 1, 1, 0, 1, 0, 1, 0, 0, 1, 1, 0, 0, 1, 1, 1, 1, 0, 1, 0, 0, 1, 0, 1, 1, 1, 0, 0, 0, 1, 0, 1, 1, 1, 1, 0, 1, 0, 1, 1, 0, 1, 1, 0, 0, 1, 1, 1, 0, 0, 0, 1, 0, 0, 1, 1, 1, 1, 1, 1, 1, 1, 1, 0, 0, 0, 1, 1, 0, 1, 0, 1, 1, 1, 0, 1, 0, 1, 0, 0, 1, 0, 0, 1, 1, 1, 0, 1, 0, 0, 1, 0, 1, 0, 0, 1, 0, 0, 0, 1, 0, 1, 1, 1, 1, 0, 0, 1, 1, 0, 0, 0, 1, 0, 1, 0, 0, 1, 0, 0, 0, 0, 0, 1, 0, 0, 0, 0, 0, 0, 1, 0, 0, 0, 1, 0, 1, 1, 0, 1, 0, 1, 1, 0, 1, 1, 0, 0, 1, 1, 1, 0, 0, 0, 1, 0, 1, 1, 0, 0, 0, 1, 1, 1, 1, 1, 0, 0, 0, 1, 0, 0, 0, 0, 1, 0, 1, 0, 1, 0, 0, 0, 0, 0, 0, 0, 0, 1, 0, 1, 0, 0, 0, 1, 1, 0, 0, 1, 1, 0, 0, 1, 0, 0, 1, 0, 0, 1, 0, 0, 1, 1, 1, 0, 0, 0, 0, 1, 0, 1, 0, 1, 0, 1, 1, 1, 0, 0, 1, 0, 1, 0, 0, 0, 0, 0, 1, 1, 1, 1, 0, 1, 0, 1, 0, 0, 1, 0, 0, 1, 0, 1, 1, 1, 1, 0, 1, 0, 0, 0, 0, 1, 0, 0, 0, 0, 1, 0, 1, 0, 1, 0, 0, 1, 0, 1, 1, 1, 0, 1, 0, 0, 1, 0, 1, 1, 1, 0, 0, 1, 0, 1, 1, 0, 0, 1, 0, 0, 1, 1, 1, 1, 1, 0, 1, 0, 1, 0, 0, 0, 0, 1, 1, 1, 1, 1, 1, 0, 1, 0, 0, 0, 1, 0, 0, 1, 0, 0, 0, 0, 1, 1, 0, 1, 1, 0, 0, 0, 1, 1, 1, 0, 1, 1, 0, 1, 1, 0, 1, 1, 0, 1, 0, 1, 0, 1, 1, 0, 0, 0, 0, 0, 1, 0, 1, 1, 0, 0, 0, 0, 0, 1, 1, 1, 1, 1, 1, 0, 0, 1, 0, 0, 1, 0, 0, 0, 0, 1, 0, 0, 0, 0, 1, 0, 0, 1, 1, 1, 1, 1, 0, 0, 1, 1, 0, 0, 1, 0, 1, 0, 1, 1, 1, 0, 0, 0, 1, 0, 1, 0, 0, 1, 1, 1, 1, 0, 1, 0, 0, 0, 0, 1, 1, 0, 1, 1, 1, 0, 0, 1, 0, 1, 1, 0, 1, 0, 0, 1, 1, 0, 0, 1, 0, 1, 0, 1, 0, 0, 1, 0, 1, 1, 1, 1, 0, 0, 0, 1, 1, 1, 1, 0, 1, 1, 0, 0, 1, 1, 0, 0, 0, 0, 1, 1, 0, 1, 0, 0, 0, 1, 1, 0, 0, 0, 0, 1, 1, 0, 1, 0, 0, 1, 0, 0, 1, 0, 0, 1, 0, 1, 1, 1, 1, 1, 0, 0, 0, 0, 1, 1, 1, 0, 1, 0, 0, 1, 1, 0, 0, 0, 0, 0, 1, 0, 1, 0, 1, 0, 1, 0, 0, 1, 0, 1, 1, 1, 1, 0, 1, 0, 1, 1, 0, 0, 0, 0, 0, 0, 1, 1, 1, 1, 0, 0, 1, 0, 0, 0, 1, 0, 1, 0, 1, 0, 1, 0, 0, 0, 0, 0, 1, 1, 0, 0, 1, 1, 0, 1, 1, 1, 1, 1, 1, 0, 0, 1, 0, 1, 1, 1, 1, 1, 0, 1, 0, 1, 0, 0, 0, 0, 0, 1, 0, 0, 0, 0, 1, 1, 1, 0, 1, 1, 1, 0, 1, 0, 0, 1, 1, 1, 1, 1, 1, 1, 1, 1, 0, 0, 0, 1, 1, 0, 0, 1, 0, 0, 1, 0, 0, 0, 0, 0, 0, 1, 1, 1, 0, 0, 1, 1, 0, 0, 0, 0, 1, 0, 1, 0, 0, 1, 0, 0, 1, 0, 0, 0, 1, 1, 1, 1, 0, 0, 0, 1, 0, 0, 1, 1, 1, 1, 0, 1, 0, 0, 0, 0, 1, 1, 0, 1, 0, 1, 1, 1, 0, 1, 0, 1, 0, 1, 0, 0, 1, 0, 0, 1, 1, 1, 0, 0, 0, 1, 1, 0, 1, 1, 1, 0, 0, 1, 0, 0, 0, 1, 1, 0, 1, 0, 0, 1, 1, 1, 1, 0, 0, 0, 1, 0, 1, 0, 1, 1, 0, 0, 0, 0, 0, 1, 0, 1, 0, 0, 1, 0, 0, 1, 1, 1, 1, 0, 1, 0, 0, 1, 0, 0, 0, 0, 1, 1, 0, 1, 1, 0, 1, 0, 0, 1, 1, 0, 1, 0, 1, 1, 1, 1, 0, 1, 0, 0, 1, 1, 1, 0, 0, 0, 0, 0, 1, 0, 0, 0, 1, 0, 0, 0, 0, 0, 0, 0, 1, 0, 1, 0, 1, 1, 0, 0, 1, 0, 1, 0, 1, 0, 0, 0, 0, 0, 1, 1, 1, 0, 1, 0, 0, 0, 0, 0, 1, 1, 1, 1, 0, 0, 0, 1, 1, 0, 0, 0, 1, 0, 1, 1, 1, 0, 1, 0, 1, 1, 1, 0, 1, 0, 0, 1, 1, 0, 0, 1, 0, 1, 1, 1, 0, 0, 0, 1, 1, 0, 0, 1, 0, 0, 1, 1, 0, 1, 0, 1, 0, 1, 0, 1, 1, 0, 1, 1, 1, 1, 1, 1, 1, 0, 1, 0, 0, 1, 1, 1, 0, 1, 0, 1, 0, 0, 0, 0, 0, 0, 1, 1, 0, 0, 1, 0, 1, 0, 1, 1, 1, 1, 0, 0, 0, 0, 1, 1, 1, 0, 0, 1, 0, 1, 1, 1, 0, 1, 0, 0, 1, 0, 1, 1, 1, 1, 1, 0, 1, 1, 1, 0, 1, 0, 1, 0, 1]\n"
     ]
    }
   ],
   "source": [
    "y=df['sentiment'].values\n",
    "print(y.tolist())"
   ]
  },
  {
   "cell_type": "markdown",
   "id": "4455d065",
   "metadata": {
    "id": "4455d065"
   },
   "source": [
    "### Data Splitting"
   ]
  },
  {
   "cell_type": "code",
   "execution_count": 20,
   "id": "296f4dfc",
   "metadata": {
    "colab": {
     "base_uri": "https://localhost:8080/"
    },
    "executionInfo": {
     "elapsed": 369,
     "status": "ok",
     "timestamp": 1700661674569,
     "user": {
      "displayName": "Pulavendran S",
      "userId": "09545379829326731753"
     },
     "user_tz": -330
    },
    "id": "296f4dfc",
    "outputId": "97151a7c-bdfa-4141-e808-08418339e534"
   },
   "outputs": [
    {
     "name": "stdout",
     "output_type": "stream",
     "text": [
      "(8000, 128) (2000, 128) (8000, 2) (2000, 2)\n"
     ]
    }
   ],
   "source": [
    "y=to_categorical(y)\n",
    "X_train,X_test,y_train,y_test=train_test_split(pad_text,y,test_size=0.2,random_state=42,shuffle=True,stratify=y)\n",
    "print(X_train.shape,X_test.shape,y_train.shape,y_test.shape)"
   ]
  },
  {
   "cell_type": "code",
   "execution_count": 21,
   "id": "LAiy-U3mAHON",
   "metadata": {
    "colab": {
     "base_uri": "https://localhost:8080/"
    },
    "executionInfo": {
     "elapsed": 5795,
     "status": "ok",
     "timestamp": 1700661685863,
     "user": {
      "displayName": "Pulavendran S",
      "userId": "09545379829326731753"
     },
     "user_tz": -330
    },
    "id": "LAiy-U3mAHON",
    "outputId": "bd2a70e2-1c72-46f2-bd46-47e519630fc9"
   },
   "outputs": [
    {
     "name": "stdout",
     "output_type": "stream",
     "text": [
      "Glove Loded!\n"
     ]
    }
   ],
   "source": [
    "embeddings_index = {}\n",
    "with open('input/glove.6B.50d.txt', encoding='utf-8') as f:\n",
    "    for line in f:\n",
    "        values = line.split()\n",
    "        word = values[0]\n",
    "        coefs = np.asarray(values[1:], dtype='float32')\n",
    "        embeddings_index[word] = coefs\n",
    "    f.close()\n",
    "embedding_dimention = 50\n",
    "def embedding_matrix_creater(embedding_dimention, word_index):\n",
    "    embedding_matrix = np.zeros((len(word_index)+1, embedding_dimention))\n",
    "    for word, i in word_index.items():\n",
    "        embedding_vector = embeddings_index.get(word)\n",
    "        if embedding_vector is not None:\n",
    "            embedding_matrix[i] = embedding_vector\n",
    "    return embedding_matrix\n",
    "embedding_matrix = embedding_matrix_creater(50, word_index=tok.word_index)\n",
    "print(\"Glove Loded!\")"
   ]
  },
  {
   "cell_type": "code",
   "execution_count": 23,
   "id": "da6fcdbf",
   "metadata": {
    "executionInfo": {
     "elapsed": 426,
     "status": "ok",
     "timestamp": 1700661741825,
     "user": {
      "displayName": "Pulavendran S",
      "userId": "09545379829326731753"
     },
     "user_tz": -330
    },
    "id": "da6fcdbf"
   },
   "outputs": [],
   "source": [
    "from tensorflow.keras import Sequential\n",
    "from tensorflow.keras.layers import Dense,Dropout,GRU,Flatten,Embedding\n",
    "from tensorflow.keras.optimizers import Adam"
   ]
  },
  {
   "cell_type": "code",
   "execution_count": 24,
   "id": "a83cdbfd",
   "metadata": {
    "executionInfo": {
     "elapsed": 4742,
     "status": "ok",
     "timestamp": 1700661747897,
     "user": {
      "displayName": "Pulavendran S",
      "userId": "09545379829326731753"
     },
     "user_tz": -330
    },
    "id": "a83cdbfd"
   },
   "outputs": [],
   "source": [
    "model=Sequential()\n",
    "model.add(Embedding(input_dim=vocab_size, output_dim=50, input_length=pad_text.shape[1],weights=[embedding_matrix]))\n",
    "model.add(GRU(units=100,return_sequences=True))\n",
    "model.add(GRU(units=100,return_sequences=True))\n",
    "model.add(Flatten())\n",
    "model.add(Dropout(rate=0.4))\n",
    "model.add(Dense(256,activation='relu'))\n",
    "model.add(Dense(len(class_labels),activation='sigmoid'))\n",
    "model.compile(loss='binary_crossentropy',optimizer='adam',metrics=['accuracy'])"
   ]
  },
  {
   "cell_type": "code",
   "execution_count": 25,
   "id": "59d59743",
   "metadata": {
    "colab": {
     "base_uri": "https://localhost:8080/"
    },
    "executionInfo": {
     "elapsed": 10,
     "status": "ok",
     "timestamp": 1700661750483,
     "user": {
      "displayName": "Pulavendran S",
      "userId": "09545379829326731753"
     },
     "user_tz": -330
    },
    "id": "59d59743",
    "outputId": "ce9a4a91-2244-48ab-db9c-dfb8c920e6de"
   },
   "outputs": [
    {
     "name": "stdout",
     "output_type": "stream",
     "text": [
      "Model: \"sequential\"\n",
      "_________________________________________________________________\n",
      " Layer (type)                Output Shape              Param #   \n",
      "=================================================================\n",
      " embedding (Embedding)       (None, 128, 50)           238650    \n",
      "                                                                 \n",
      " gru (GRU)                   (None, 128, 100)          45600     \n",
      "                                                                 \n",
      " gru_1 (GRU)                 (None, 128, 100)          60600     \n",
      "                                                                 \n",
      " flatten (Flatten)           (None, 12800)             0         \n",
      "                                                                 \n",
      " dropout (Dropout)           (None, 12800)             0         \n",
      "                                                                 \n",
      " dense (Dense)               (None, 256)               3277056   \n",
      "                                                                 \n",
      " dense_1 (Dense)             (None, 2)                 514       \n",
      "                                                                 \n",
      "=================================================================\n",
      "Total params: 3622420 (13.82 MB)\n",
      "Trainable params: 3622420 (13.82 MB)\n",
      "Non-trainable params: 0 (0.00 Byte)\n",
      "_________________________________________________________________\n"
     ]
    }
   ],
   "source": [
    "model.summary()"
   ]
  },
  {
   "cell_type": "code",
   "execution_count": 26,
   "id": "7f2b09ad",
   "metadata": {
    "colab": {
     "base_uri": "https://localhost:8080/"
    },
    "executionInfo": {
     "elapsed": 144940,
     "status": "ok",
     "timestamp": 1700661916048,
     "user": {
      "displayName": "Pulavendran S",
      "userId": "09545379829326731753"
     },
     "user_tz": -330
    },
    "id": "7f2b09ad",
    "outputId": "be288ed1-419e-49cd-afee-66b90ea67da3"
   },
   "outputs": [
    {
     "name": "stdout",
     "output_type": "stream",
     "text": [
      "Epoch 1/20\n",
      "125/125 [==============================] - 29s 151ms/step - loss: 0.3675 - accuracy: 0.8376 - val_loss: 0.3529 - val_accuracy: 0.8415\n",
      "Epoch 2/20\n",
      "125/125 [==============================] - 12s 93ms/step - loss: 0.2321 - accuracy: 0.9090 - val_loss: 0.2182 - val_accuracy: 0.9035\n",
      "Epoch 3/20\n",
      "125/125 [==============================] - 6s 50ms/step - loss: 0.1631 - accuracy: 0.9375 - val_loss: 0.1818 - val_accuracy: 0.9255\n",
      "Epoch 4/20\n",
      "125/125 [==============================] - 5s 40ms/step - loss: 0.1170 - accuracy: 0.9581 - val_loss: 0.1777 - val_accuracy: 0.9425\n",
      "Epoch 5/20\n",
      "125/125 [==============================] - 3s 26ms/step - loss: 0.0868 - accuracy: 0.9676 - val_loss: 0.1440 - val_accuracy: 0.9470\n",
      "Epoch 6/20\n",
      "125/125 [==============================] - 4s 31ms/step - loss: 0.0693 - accuracy: 0.9754 - val_loss: 0.2005 - val_accuracy: 0.9370\n",
      "Epoch 7/20\n",
      "125/125 [==============================] - 4s 30ms/step - loss: 0.0554 - accuracy: 0.9804 - val_loss: 0.1747 - val_accuracy: 0.9590\n",
      "Epoch 8/20\n",
      "125/125 [==============================] - 4s 28ms/step - loss: 0.0453 - accuracy: 0.9841 - val_loss: 0.1602 - val_accuracy: 0.9590\n",
      "Epoch 9/20\n",
      "125/125 [==============================] - 3s 28ms/step - loss: 0.0422 - accuracy: 0.9843 - val_loss: 0.1776 - val_accuracy: 0.9530\n",
      "Epoch 10/20\n",
      "125/125 [==============================] - 3s 22ms/step - loss: 0.0391 - accuracy: 0.9872 - val_loss: 0.1892 - val_accuracy: 0.9590\n",
      "Epoch 11/20\n",
      "125/125 [==============================] - 3s 21ms/step - loss: 0.0351 - accuracy: 0.9880 - val_loss: 0.2143 - val_accuracy: 0.9595\n",
      "Epoch 12/20\n",
      "125/125 [==============================] - 3s 22ms/step - loss: 0.0309 - accuracy: 0.9900 - val_loss: 0.1991 - val_accuracy: 0.9660\n",
      "Epoch 13/20\n",
      "125/125 [==============================] - 3s 23ms/step - loss: 0.0222 - accuracy: 0.9923 - val_loss: 0.2086 - val_accuracy: 0.9645\n",
      "Epoch 14/20\n",
      "125/125 [==============================] - 3s 22ms/step - loss: 0.0239 - accuracy: 0.9926 - val_loss: 0.1820 - val_accuracy: 0.9640\n",
      "Epoch 15/20\n",
      "125/125 [==============================] - 3s 24ms/step - loss: 0.0260 - accuracy: 0.9912 - val_loss: 0.2248 - val_accuracy: 0.9655\n",
      "Epoch 16/20\n",
      "125/125 [==============================] - 3s 26ms/step - loss: 0.0223 - accuracy: 0.9923 - val_loss: 0.2253 - val_accuracy: 0.9675\n",
      "Epoch 17/20\n",
      "125/125 [==============================] - 3s 23ms/step - loss: 0.0201 - accuracy: 0.9930 - val_loss: 0.2207 - val_accuracy: 0.9665\n",
      "Epoch 18/20\n",
      "125/125 [==============================] - 3s 21ms/step - loss: 0.0136 - accuracy: 0.9954 - val_loss: 0.2841 - val_accuracy: 0.9635\n",
      "Epoch 19/20\n",
      "125/125 [==============================] - 2s 18ms/step - loss: 0.0134 - accuracy: 0.9956 - val_loss: 0.2706 - val_accuracy: 0.9600\n",
      "Epoch 20/20\n",
      "125/125 [==============================] - 2s 20ms/step - loss: 0.0295 - accuracy: 0.9908 - val_loss: 0.1998 - val_accuracy: 0.9660\n"
     ]
    }
   ],
   "source": [
    "number_of_epochs=20\n",
    "history=model.fit(x=X_train,y=y_train,batch_size=64,epochs=number_of_epochs,validation_data=(X_test,y_test))"
   ]
  },
  {
   "cell_type": "code",
   "execution_count": 27,
   "id": "PEFeA9ZRWRsp",
   "metadata": {
    "colab": {
     "base_uri": "https://localhost:8080/",
     "height": 838
    },
    "executionInfo": {
     "elapsed": 2302,
     "status": "ok",
     "timestamp": 1700661982570,
     "user": {
      "displayName": "Pulavendran S",
      "userId": "09545379829326731753"
     },
     "user_tz": -330
    },
    "id": "PEFeA9ZRWRsp",
    "outputId": "85fc6e66-fbfb-4acf-d766-3e3f11adaba3"
   },
   "outputs": [
    {
     "data": {
      "image/png": "[encoded data removed]",
      "text/plain": [
       "<Figure size 1800x500 with 1 Axes>"
      ]
     },
     "metadata": {},
     "output_type": "display_data"
    },
    {
     "data": {
      "image/png": "[encoded data removed]",
      "text/plain": [
       "<Figure size 1800x500 with 1 Axes>"
      ]
     },
     "metadata": {},
     "output_type": "display_data"
    }
   ],
   "source": [
    "with plt.style.context(style=\"ggplot\"):\n",
    "    plt.figure(figsize=(18,5))\n",
    "    plt.rcParams['font.size'] = 15\n",
    "    plt.plot([str(i) for i in range(1, len(history.history[\"accuracy\"])+1)], history.history[\"accuracy\"],label=\"Accuracy\", marker='o')\n",
    "    plt.plot([str(i) for i in range(1, len(history.history[\"val_accuracy\"])+1)], history.history[\"val_accuracy\"],label=\"Val_Accuracy\", marker='o')\n",
    "    plt.title(label=\"Accuracy Comparision\")\n",
    "    plt.xlabel(xlabel=\"Epochs\")\n",
    "    plt.ylabel(ylabel=\"Accuracy\")\n",
    "    plt.legend()\n",
    "    plt.show()\n",
    "\n",
    "    plt.figure(figsize=(18,5))\n",
    "    plt.rcParams['font.size'] = 15\n",
    "    plt.plot([str(i) for i in range(1, len(history.history[\"loss\"])+1)], history.history[\"loss\"],label=\"Loss\", marker='o')\n",
    "    plt.plot([str(i) for i in range(1, len(history.history[\"val_loss\"])+1)], history.history[\"val_loss\"],label=\"Val_Loss\", marker='o')\n",
    "    plt.title(label=\"Loss Comparision\")\n",
    "    plt.xlabel(xlabel=\"Epochs\")\n",
    "    plt.ylabel(ylabel=\"Loss\")\n",
    "    plt.legend()\n",
    "    plt.show()"
   ]
  },
  {
   "cell_type": "code",
   "execution_count": 28,
   "id": "7b0043ef",
   "metadata": {
    "colab": {
     "base_uri": "https://localhost:8080/"
    },
    "executionInfo": {
     "elapsed": 1924,
     "status": "ok",
     "timestamp": 1700662005170,
     "user": {
      "displayName": "Pulavendran S",
      "userId": "09545379829326731753"
     },
     "user_tz": -330
    },
    "id": "7b0043ef",
    "outputId": "dce9dcf0-2ba3-4d42-dd0b-b1172f50ff6f"
   },
   "outputs": [
    {
     "name": "stdout",
     "output_type": "stream",
     "text": [
      "32/32 [==============================] - 1s 8ms/step\n",
      "[[3.2652979e-06 9.9999678e-01]\n",
      " [9.9901593e-01 9.7069616e-04]\n",
      " [4.2661982e-06 9.9999499e-01]\n",
      " ...\n",
      " [9.9998629e-01 2.3745240e-05]\n",
      " [1.0000000e+00 5.8714074e-14]\n",
      " [1.0000000e+00 3.4352954e-10]]\n"
     ]
    }
   ],
   "source": [
    "gru_prediction=model.predict(X_test,batch_size=64,verbose=1)\n",
    "print(gru_prediction)"
   ]
  },
  {
   "cell_type": "code",
   "execution_count": 29,
   "id": "a672b5fb",
   "metadata": {
    "colab": {
     "base_uri": "https://localhost:8080/"
    },
    "executionInfo": {
     "elapsed": 456,
     "status": "ok",
     "timestamp": 1700662008559,
     "user": {
      "displayName": "Pulavendran S",
      "userId": "09545379829326731753"
     },
     "user_tz": -330
    },
    "id": "a672b5fb",
    "outputId": "979ee28e-d8db-400d-af26-1113f4ac56cb"
   },
   "outputs": [
    {
     "name": "stdout",
     "output_type": "stream",
     "text": [
      "[1, 0, 1, 0, 1, 1, 1, 0, 1, 0, 1, 0, 0, 0, 0, 0, 0, 0, 1, 1, 1, 0, 0, 1, 0, 1, 0, 0, 1, 0, 1, 0, 1, 1, 1, 1, 0, 1, 0, 1, 0, 0, 1, 1, 0, 1, 0, 0, 1, 0, 1, 1, 1, 0, 1, 0, 0, 1, 1, 1, 0, 0, 1, 1, 0, 0, 1, 0, 0, 1, 0, 0, 1, 1, 1, 0, 0, 1, 0, 0, 1, 0, 0, 1, 1, 0, 1, 1, 1, 0, 1, 0, 1, 0, 1, 1, 1, 1, 1, 1, 0, 1, 0, 1, 0, 1, 1, 1, 0, 1, 0, 0, 1, 0, 0, 1, 1, 0, 1, 1, 1, 1, 0, 0, 0, 1, 1, 0, 1, 0, 1, 1, 1, 0, 1, 0, 1, 0, 0, 1, 1, 0, 1, 0, 1, 0, 0, 1, 1, 1, 0, 0, 0, 0, 1, 0, 0, 0, 0, 0, 1, 0, 0, 1, 1, 0, 1, 1, 0, 0, 1, 0, 0, 1, 0, 0, 1, 1, 0, 1, 1, 1, 0, 0, 0, 0, 1, 1, 0, 1, 0, 1, 0, 0, 1, 1, 0, 1, 0, 0, 0, 0, 0, 1, 0, 1, 1, 1, 0, 1, 0, 0, 0, 0, 1, 1, 1, 1, 0, 1, 0, 1, 0, 0, 0, 0, 1, 0, 0, 0, 0, 1, 0, 1, 0, 1, 0, 1, 1, 0, 0, 0, 0, 1, 1, 1, 1, 1, 1, 1, 1, 1, 0, 0, 0, 0, 0, 1, 0, 0, 0, 1, 0, 0, 1, 1, 0, 1, 1, 0, 0, 1, 1, 1, 1, 0, 1, 0, 1, 1, 1, 1, 0, 0, 1, 1, 0, 1, 1, 1, 0, 1, 1, 0, 0, 0, 0, 0, 1, 0, 0, 0, 1, 0, 1, 1, 0, 1, 0, 0, 1, 0, 0, 0, 0, 0, 1, 0, 1, 0, 0, 1, 1, 1, 0, 1, 0, 0, 0, 0, 1, 1, 1, 0, 1, 1, 1, 0, 1, 1, 0, 1, 1, 0, 1, 0, 0, 0, 1, 0, 0, 0, 0, 1, 1, 0, 1, 0, 1, 0, 0, 1, 0, 1, 1, 1, 1, 0, 0, 0, 0, 0, 1, 0, 0, 0, 0, 0, 0, 0, 0, 1, 0, 0, 1, 0, 1, 0, 1, 0, 0, 0, 1, 1, 1, 1, 1, 0, 0, 1, 0, 1, 1, 1, 1, 0, 0, 0, 1, 1, 1, 0, 0, 1, 1, 1, 0, 1, 0, 0, 0, 1, 0, 1, 1, 1, 0, 1, 0, 0, 0, 1, 1, 1, 1, 0, 1, 0, 0, 0, 0, 1, 1, 0, 1, 0, 0, 0, 1, 1, 1, 0, 0, 0, 0, 0, 1, 1, 1, 0, 0, 0, 0, 1, 1, 0, 1, 0, 1, 1, 1, 1, 0, 0, 1, 1, 0, 1, 0, 1, 0, 0, 0, 1, 0, 1, 0, 1, 0, 1, 0, 0, 1, 1, 1, 0, 1, 1, 1, 0, 1, 1, 1, 1, 1, 1, 1, 0, 1, 0, 1, 1, 0, 0, 1, 1, 1, 0, 0, 0, 0, 1, 0, 1, 0, 1, 0, 1, 0, 1, 0, 0, 0, 1, 0, 0, 1, 0, 0, 0, 1, 1, 1, 1, 0, 1, 1, 1, 1, 0, 1, 0, 1, 1, 0, 1, 0, 0, 1, 0, 1, 0, 1, 1, 1, 1, 0, 0, 0, 0, 0, 1, 1, 1, 0, 0, 1, 0, 0, 1, 1, 0, 0, 0, 1, 0, 1, 1, 0, 1, 1, 1, 0, 0, 0, 0, 1, 1, 1, 0, 0, 0, 1, 0, 0, 0, 0, 0, 1, 1, 0, 0, 0, 0, 0, 0, 1, 0, 0, 0, 1, 1, 0, 1, 0, 1, 1, 1, 0, 1, 0, 0, 1, 0, 0, 0, 1, 0, 0, 0, 1, 0, 1, 0, 1, 1, 0, 0, 0, 1, 0, 0, 1, 1, 0, 1, 0, 0, 0, 1, 1, 0, 0, 0, 1, 0, 0, 0, 0, 1, 1, 1, 1, 0, 1, 0, 0, 1, 1, 1, 0, 1, 0, 1, 1, 1, 1, 0, 0, 1, 1, 0, 0, 0, 1, 1, 1, 1, 1, 1, 1, 0, 1, 1, 0, 1, 0, 1, 0, 1, 0, 0, 1, 1, 0, 1, 0, 0, 0, 1, 0, 0, 1, 1, 1, 1, 1, 1, 1, 0, 1, 1, 1, 1, 0, 1, 0, 0, 0, 1, 1, 0, 0, 1, 0, 1, 1, 1, 0, 1, 0, 0, 1, 1, 0, 1, 1, 0, 0, 0, 0, 0, 1, 1, 0, 0, 0, 1, 0, 1, 0, 1, 1, 1, 0, 0, 0, 0, 1, 0, 0, 1, 0, 0, 0, 1, 0, 0, 1, 0, 0, 0, 1, 0, 0, 1, 0, 1, 0, 0, 0, 1, 1, 0, 1, 0, 1, 1, 1, 1, 1, 1, 0, 1, 0, 0, 1, 0, 1, 1, 0, 1, 1, 0, 0, 1, 0, 1, 1, 1, 0, 0, 0, 1, 1, 1, 1, 0, 1, 0, 0, 1, 0, 0, 1, 0, 0, 1, 1, 1, 0, 1, 1, 1, 1, 0, 0, 1, 1, 1, 1, 1, 0, 1, 1, 0, 0, 0, 1, 1, 1, 0, 0, 1, 0, 0, 1, 1, 1, 1, 1, 0, 0, 0, 0, 1, 0, 0, 1, 1, 1, 1, 1, 0, 0, 1, 1, 1, 1, 1, 0, 1, 1, 1, 0, 0, 0, 0, 1, 1, 1, 0, 0, 0, 1, 1, 1, 0, 0, 1, 0, 1, 1, 1, 0, 0, 0, 1, 1, 0, 0, 0, 0, 0, 0, 1, 1, 0, 0, 0, 0, 0, 1, 0, 0, 0, 0, 1, 0, 0, 1, 1, 1, 0, 1, 0, 1, 1, 0, 1, 0, 1, 1, 1, 0, 1, 0, 0, 0, 1, 1, 1, 1, 0, 0, 0, 0, 0, 1, 1, 1, 1, 0, 0, 1, 1, 1, 0, 0, 0, 1, 0, 0, 1, 0, 1, 1, 1, 0, 1, 0, 1, 0, 0, 1, 0, 0, 0, 1, 0, 1, 0, 0, 1, 0, 0, 1, 0, 0, 0, 0, 0, 1, 1, 0, 0, 1, 0, 1, 1, 0, 0, 1, 0, 1, 1, 1, 1, 0, 0, 0, 0, 1, 0, 1, 0, 0, 0, 1, 1, 0, 0, 0, 1, 0, 0, 0, 0, 1, 1, 0, 0, 1, 1, 0, 0, 1, 1, 1, 1, 0, 1, 1, 1, 1, 1, 0, 1, 1, 0, 0, 0, 1, 0, 1, 1, 1, 0, 0, 1, 0, 0, 1, 0, 0, 0, 0, 1, 0, 0, 1, 0, 1, 0, 0, 1, 0, 0, 1, 1, 0, 1, 0, 0, 0, 1, 0, 0, 1, 0, 0, 1, 0, 1, 1, 0, 1, 0, 0, 0, 1, 1, 0, 0, 1, 0, 1, 1, 0, 0, 0, 0, 0, 0, 1, 0, 1, 1, 1, 0, 1, 0, 0, 1, 1, 1, 1, 0, 1, 0, 1, 0, 1, 1, 0, 0, 0, 0, 0, 0, 0, 0, 0, 1, 0, 1, 1, 0, 0, 0, 1, 0, 1, 1, 1, 0, 1, 1, 1, 1, 0, 1, 0, 0, 1, 1, 1, 1, 0, 0, 1, 0, 1, 0, 0, 1, 1, 0, 1, 1, 1, 1, 0, 1, 1, 0, 0, 1, 0, 0, 1, 0, 1, 1, 1, 1, 0, 0, 1, 1, 1, 1, 1, 0, 1, 1, 0, 1, 0, 1, 1, 0, 0, 0, 1, 0, 0, 1, 0, 0, 1, 0, 0, 1, 0, 0, 0, 1, 1, 1, 1, 0, 0, 1, 1, 0, 1, 1, 0, 0, 1, 0, 1, 1, 0, 0, 1, 0, 1, 0, 0, 0, 1, 1, 1, 1, 0, 0, 1, 1, 1, 1, 1, 0, 1, 0, 1, 0, 1, 0, 0, 1, 1, 1, 0, 1, 1, 1, 1, 0, 1, 1, 0, 0, 0, 0, 0, 1, 1, 0, 1, 0, 0, 1, 0, 1, 0, 1, 1, 0, 0, 0, 0, 1, 0, 1, 0, 1, 0, 0, 0, 0, 1, 1, 0, 0, 0, 1, 0, 0, 0, 1, 0, 1, 0, 1, 0, 0, 0, 1, 0, 1, 0, 1, 0, 0, 0, 0, 0, 0, 1, 0, 1, 1, 1, 1, 0, 0, 0, 1, 0, 0, 0, 1, 1, 0, 0, 0, 1, 1, 0, 0, 1, 1, 0, 1, 1, 1, 1, 1, 1, 0, 0, 1, 1, 0, 1, 1, 0, 0, 0, 0, 0, 0, 1, 1, 0, 1, 0, 0, 1, 0, 1, 1, 1, 0, 1, 0, 1, 1, 0, 0, 0, 1, 0, 1, 0, 0, 0, 1, 1, 1, 0, 0, 1, 1, 1, 0, 1, 0, 0, 0, 1, 1, 1, 0, 0, 1, 0, 1, 0, 0, 1, 0, 1, 0, 0, 0, 0, 0, 0, 1, 0, 0, 1, 1, 0, 0, 0, 0, 0, 0, 0, 1, 1, 1, 0, 1, 1, 1, 0, 0, 1, 1, 0, 0, 0, 0, 1, 1, 1, 1, 1, 0, 0, 0, 1, 0, 0, 0, 1, 1, 1, 1, 1, 1, 0, 0, 1, 0, 0, 0, 0, 1, 1, 0, 0, 0, 0, 0, 0, 0, 0, 0, 1, 0, 0, 1, 1, 1, 0, 1, 1, 0, 1, 1, 0, 0, 1, 0, 0, 1, 0, 1, 1, 0, 1, 0, 1, 1, 0, 0, 0, 0, 1, 1, 1, 0, 1, 1, 0, 1, 0, 0, 0, 0, 1, 0, 1, 1, 0, 0, 1, 1, 1, 1, 0, 0, 0, 0, 0, 0, 0, 0, 1, 0, 1, 1, 0, 1, 0, 1, 1, 1, 0, 1, 0, 0, 1, 0, 1, 1, 1, 1, 1, 1, 1, 1, 1, 0, 1, 0, 1, 0, 1, 0, 0, 1, 0, 0, 1, 0, 0, 1, 1, 0, 0, 0, 1, 0, 0, 1, 1, 1, 1, 1, 0, 0, 1, 0, 1, 0, 0, 0, 0, 0, 0, 0, 1, 0, 1, 1, 0, 1, 1, 0, 1, 1, 0, 0, 0, 1, 0, 0, 0, 1, 1, 0, 1, 1, 1, 0, 1, 1, 1, 1, 1, 0, 0, 0, 0, 1, 0, 0, 0, 0, 1, 1, 1, 1, 1, 1, 0, 1, 0, 0, 0, 1, 0, 0, 0, 1, 1, 0, 1, 1, 0, 0, 0, 0, 0, 0, 1, 1, 0, 0, 1, 0, 1, 0, 1, 0, 1, 0, 0, 0, 0, 1, 0, 0, 0, 1, 0, 1, 1, 1, 0, 0, 1, 1, 1, 1, 1, 1, 0, 1, 0, 1, 1, 0, 1, 1, 1, 1, 1, 1, 1, 1, 0, 1, 0, 0, 1, 0, 0, 1, 1, 0, 1, 0, 1, 1, 0, 0, 1, 0, 0, 1, 0, 0, 0, 1, 1, 0, 1, 0, 0, 1, 1, 1, 1, 0, 1, 0, 0, 1, 0, 1, 0, 0, 1, 1, 1, 1, 1, 1, 1, 0, 0, 1, 0, 1, 0, 1, 1, 1, 0, 0, 0, 0, 1, 0, 0, 1, 1, 1, 1, 1, 0, 0, 1, 0, 0, 1, 1, 0, 0, 1, 1, 1, 1, 0, 1, 1, 1, 1, 1, 0, 0, 0, 0, 0, 1, 0, 1, 0, 0, 0, 1, 0, 0, 0, 1, 1, 1, 0, 1, 1, 0, 1, 1, 1, 0, 1, 0, 1, 1, 0, 0, 0, 0, 0, 0, 0, 0, 1, 0, 0, 1, 0, 1, 1, 1, 1, 0, 1, 0, 1, 0, 0, 1, 0, 1, 1, 1, 0, 1, 1, 0, 1, 0, 1, 0, 0, 0, 1, 0, 0, 0, 1, 0, 0, 1, 1, 0, 0, 0, 0, 0, 1, 0, 0, 0, 1, 0, 1, 0, 1, 0, 0, 0, 1, 1, 1, 1, 1, 1, 1, 1, 0, 1, 1, 1, 0, 0, 0, 0, 0, 1, 1, 0, 1, 0, 1, 0, 1, 0, 1, 0, 0, 0, 1, 0, 1, 1, 0, 1, 1, 0, 1, 0, 0, 0, 0, 1, 0, 1, 0, 0, 0]\n"
     ]
    }
   ],
   "source": [
    "gru_pred=[]\n",
    "for prediction in gru_prediction:\n",
    "    gru_pred.append(np.argmax(prediction))\n",
    "print(gru_pred)"
   ]
  },
  {
   "cell_type": "code",
   "execution_count": 30,
   "id": "b9b7b3a3",
   "metadata": {
    "colab": {
     "base_uri": "https://localhost:8080/"
    },
    "executionInfo": {
     "elapsed": 3,
     "status": "ok",
     "timestamp": 1700662010274,
     "user": {
      "displayName": "Pulavendran S",
      "userId": "09545379829326731753"
     },
     "user_tz": -330
    },
    "id": "b9b7b3a3",
    "outputId": "997b876a-aa37-48d6-d660-acee7c1f5c64"
   },
   "outputs": [
    {
     "name": "stdout",
     "output_type": "stream",
     "text": [
      "[1, 0, 1, 0, 1, 1, 1, 0, 1, 0, 1, 0, 0, 0, 0, 0, 0, 0, 1, 1, 1, 0, 0, 1, 0, 1, 0, 0, 1, 0, 1, 0, 1, 0, 1, 1, 0, 1, 0, 1, 0, 0, 1, 1, 0, 1, 0, 0, 1, 0, 1, 1, 1, 0, 1, 0, 0, 1, 1, 1, 0, 0, 1, 1, 0, 0, 1, 0, 0, 1, 0, 0, 1, 0, 1, 0, 0, 1, 0, 0, 1, 0, 0, 1, 1, 0, 1, 1, 1, 0, 1, 0, 1, 0, 1, 1, 1, 1, 1, 1, 0, 1, 0, 1, 0, 1, 1, 1, 0, 1, 0, 0, 1, 0, 0, 1, 1, 0, 1, 1, 1, 1, 0, 0, 0, 1, 1, 0, 1, 0, 1, 1, 1, 0, 1, 0, 1, 0, 0, 1, 1, 0, 1, 0, 1, 0, 0, 1, 1, 1, 0, 0, 0, 0, 1, 0, 0, 0, 0, 0, 1, 0, 0, 1, 1, 0, 1, 1, 1, 1, 1, 0, 0, 1, 0, 1, 1, 1, 0, 1, 1, 1, 0, 0, 0, 1, 1, 1, 0, 1, 0, 1, 0, 0, 1, 1, 0, 1, 0, 0, 0, 0, 0, 1, 0, 1, 1, 1, 0, 1, 0, 0, 0, 0, 1, 1, 1, 1, 0, 1, 0, 1, 0, 0, 0, 0, 1, 0, 0, 0, 0, 1, 0, 1, 0, 1, 0, 1, 1, 0, 0, 0, 0, 1, 1, 1, 1, 1, 1, 1, 1, 1, 0, 0, 0, 0, 0, 1, 0, 0, 0, 1, 0, 0, 1, 1, 1, 1, 1, 0, 0, 1, 1, 1, 1, 0, 1, 0, 1, 1, 1, 1, 0, 0, 1, 1, 0, 1, 1, 1, 0, 1, 1, 0, 0, 0, 0, 0, 1, 0, 0, 0, 1, 0, 1, 1, 0, 1, 0, 0, 1, 0, 0, 0, 0, 0, 1, 0, 1, 0, 0, 1, 1, 1, 0, 1, 0, 0, 0, 0, 1, 1, 1, 0, 1, 1, 1, 0, 1, 1, 0, 1, 1, 0, 1, 0, 0, 0, 1, 0, 0, 0, 0, 1, 1, 0, 1, 0, 1, 0, 0, 1, 0, 1, 1, 1, 1, 0, 0, 0, 0, 0, 1, 0, 0, 0, 0, 0, 0, 0, 0, 1, 0, 0, 1, 0, 1, 0, 1, 0, 0, 0, 1, 1, 1, 1, 1, 0, 0, 1, 0, 1, 1, 1, 1, 0, 0, 0, 1, 1, 1, 0, 0, 1, 1, 1, 0, 1, 0, 0, 0, 1, 0, 1, 1, 1, 0, 1, 0, 0, 0, 1, 1, 1, 1, 0, 1, 0, 0, 0, 0, 1, 1, 0, 0, 0, 0, 0, 1, 1, 1, 0, 0, 0, 0, 0, 1, 1, 0, 0, 0, 0, 0, 1, 1, 0, 1, 0, 1, 1, 1, 1, 0, 0, 1, 1, 0, 1, 0, 1, 0, 0, 0, 1, 0, 1, 0, 1, 0, 1, 0, 0, 1, 1, 1, 0, 1, 1, 1, 0, 1, 1, 1, 1, 1, 1, 1, 0, 1, 0, 1, 1, 0, 0, 1, 1, 1, 0, 0, 0, 0, 1, 0, 1, 0, 0, 0, 1, 0, 1, 0, 0, 0, 1, 0, 0, 1, 0, 0, 0, 1, 1, 1, 1, 0, 1, 1, 1, 1, 0, 1, 0, 1, 1, 0, 1, 0, 0, 1, 0, 1, 0, 1, 1, 1, 1, 0, 0, 0, 0, 0, 1, 1, 1, 0, 0, 1, 0, 0, 1, 1, 0, 0, 1, 1, 0, 1, 1, 0, 1, 1, 1, 0, 0, 0, 0, 1, 1, 1, 0, 0, 0, 1, 0, 0, 0, 0, 0, 1, 1, 0, 0, 0, 0, 0, 0, 1, 0, 0, 0, 1, 1, 1, 1, 0, 1, 1, 1, 0, 1, 0, 0, 1, 0, 0, 0, 1, 0, 0, 0, 1, 0, 1, 0, 1, 1, 0, 0, 0, 1, 0, 0, 1, 1, 0, 1, 1, 0, 0, 1, 1, 0, 0, 0, 1, 0, 0, 0, 0, 1, 1, 1, 1, 0, 1, 0, 0, 1, 1, 1, 0, 0, 0, 1, 1, 1, 1, 0, 0, 1, 1, 0, 0, 0, 1, 1, 1, 1, 1, 1, 1, 0, 1, 1, 0, 1, 0, 1, 0, 1, 0, 0, 1, 1, 0, 1, 0, 0, 0, 1, 0, 0, 1, 1, 1, 1, 1, 1, 1, 1, 1, 1, 1, 1, 0, 1, 0, 0, 0, 1, 1, 0, 0, 1, 0, 1, 1, 1, 0, 1, 0, 0, 1, 1, 0, 1, 1, 0, 0, 0, 0, 0, 1, 1, 0, 0, 0, 1, 0, 1, 0, 1, 1, 1, 0, 1, 0, 0, 1, 0, 0, 1, 0, 0, 0, 1, 0, 0, 1, 0, 0, 0, 1, 0, 0, 1, 0, 1, 0, 1, 1, 1, 1, 0, 1, 0, 1, 1, 1, 1, 1, 0, 0, 1, 0, 0, 1, 0, 1, 0, 0, 1, 1, 0, 0, 1, 0, 1, 1, 0, 0, 0, 0, 1, 1, 1, 1, 0, 1, 0, 0, 1, 0, 0, 1, 0, 0, 1, 1, 1, 0, 1, 1, 1, 1, 0, 0, 1, 1, 1, 1, 1, 0, 1, 1, 0, 0, 1, 1, 1, 1, 0, 0, 1, 0, 0, 1, 1, 1, 1, 1, 0, 0, 0, 0, 1, 0, 0, 1, 1, 1, 1, 1, 0, 0, 1, 1, 1, 1, 1, 0, 1, 1, 1, 0, 0, 0, 0, 1, 1, 1, 1, 0, 0, 1, 1, 1, 0, 0, 1, 0, 1, 1, 1, 0, 0, 0, 1, 1, 0, 1, 0, 0, 0, 0, 1, 1, 0, 0, 0, 1, 0, 1, 0, 1, 0, 0, 1, 0, 0, 1, 1, 1, 0, 1, 0, 1, 1, 1, 1, 0, 1, 1, 1, 0, 1, 0, 0, 0, 1, 1, 1, 1, 0, 0, 0, 1, 0, 1, 1, 1, 1, 0, 0, 1, 1, 1, 0, 0, 0, 1, 1, 0, 1, 0, 0, 1, 1, 0, 1, 0, 1, 0, 0, 1, 0, 0, 0, 1, 0, 1, 0, 0, 1, 0, 1, 1, 0, 0, 0, 0, 0, 1, 1, 0, 0, 1, 0, 1, 1, 0, 0, 1, 0, 1, 1, 1, 1, 0, 0, 0, 1, 1, 0, 1, 0, 0, 0, 1, 1, 0, 0, 0, 1, 0, 0, 0, 0, 1, 1, 0, 0, 1, 1, 0, 0, 1, 1, 1, 1, 0, 1, 1, 1, 1, 1, 0, 1, 1, 0, 0, 0, 1, 1, 1, 1, 1, 0, 0, 1, 0, 0, 1, 0, 0, 0, 0, 1, 0, 0, 1, 0, 1, 0, 0, 1, 0, 0, 1, 1, 0, 1, 0, 0, 0, 1, 1, 0, 1, 0, 0, 1, 0, 1, 1, 0, 1, 0, 0, 0, 1, 1, 0, 0, 1, 0, 1, 1, 0, 0, 0, 0, 0, 0, 1, 0, 1, 1, 1, 0, 1, 0, 0, 1, 1, 1, 1, 0, 1, 0, 1, 0, 1, 1, 0, 0, 0, 0, 0, 0, 0, 0, 0, 1, 0, 1, 1, 0, 0, 0, 1, 0, 1, 1, 1, 0, 1, 1, 1, 1, 0, 1, 0, 0, 1, 1, 1, 1, 0, 0, 1, 0, 1, 0, 0, 1, 1, 0, 1, 1, 1, 1, 1, 1, 1, 0, 1, 1, 0, 0, 1, 0, 1, 1, 1, 1, 0, 0, 1, 1, 1, 1, 1, 0, 1, 1, 0, 1, 0, 1, 1, 0, 1, 0, 1, 0, 0, 1, 0, 0, 1, 0, 0, 1, 0, 0, 0, 1, 1, 1, 1, 0, 0, 1, 1, 0, 1, 1, 0, 0, 1, 0, 1, 1, 0, 0, 1, 0, 1, 0, 0, 0, 1, 1, 1, 1, 0, 0, 1, 1, 1, 1, 1, 0, 1, 0, 1, 0, 1, 0, 0, 1, 1, 0, 0, 1, 1, 1, 1, 0, 1, 1, 0, 1, 0, 1, 1, 1, 1, 0, 1, 0, 0, 1, 0, 1, 0, 1, 1, 0, 0, 0, 0, 1, 0, 0, 0, 0, 0, 0, 0, 0, 1, 1, 0, 0, 0, 0, 0, 0, 0, 0, 0, 1, 0, 1, 0, 0, 0, 1, 0, 1, 0, 1, 0, 0, 0, 0, 0, 0, 1, 0, 1, 1, 1, 1, 0, 0, 0, 1, 0, 0, 0, 1, 1, 0, 0, 0, 1, 1, 0, 0, 1, 1, 0, 1, 1, 1, 1, 1, 1, 0, 0, 1, 1, 0, 1, 1, 0, 0, 0, 0, 0, 0, 1, 1, 0, 1, 0, 0, 1, 0, 1, 1, 0, 0, 1, 0, 1, 1, 0, 0, 0, 1, 0, 1, 0, 0, 0, 1, 1, 1, 0, 0, 1, 1, 1, 0, 1, 0, 0, 0, 1, 1, 1, 0, 0, 1, 0, 1, 0, 0, 1, 0, 1, 0, 0, 0, 0, 0, 0, 1, 0, 0, 1, 1, 0, 0, 0, 0, 0, 0, 0, 1, 1, 1, 0, 1, 1, 1, 0, 0, 1, 1, 0, 0, 0, 0, 1, 1, 1, 1, 1, 0, 0, 0, 1, 0, 0, 0, 1, 1, 1, 1, 1, 1, 0, 0, 1, 0, 0, 0, 0, 1, 1, 0, 1, 0, 0, 0, 0, 0, 0, 0, 1, 0, 0, 1, 1, 1, 0, 1, 1, 0, 1, 1, 0, 1, 1, 0, 0, 1, 0, 1, 1, 0, 1, 0, 1, 1, 0, 0, 0, 0, 1, 1, 1, 0, 1, 1, 1, 1, 0, 0, 0, 0, 1, 0, 1, 1, 0, 0, 1, 1, 1, 1, 0, 0, 0, 0, 0, 0, 0, 0, 1, 0, 1, 1, 0, 1, 0, 1, 1, 1, 0, 1, 0, 0, 1, 0, 1, 1, 1, 1, 1, 1, 1, 1, 1, 0, 1, 0, 1, 0, 1, 0, 1, 1, 0, 0, 1, 0, 0, 1, 1, 0, 0, 0, 1, 0, 0, 1, 1, 1, 1, 1, 0, 0, 1, 0, 1, 1, 1, 0, 0, 0, 0, 1, 1, 0, 1, 1, 0, 1, 1, 0, 1, 1, 0, 0, 0, 1, 0, 0, 0, 1, 1, 1, 1, 1, 1, 1, 1, 1, 1, 1, 1, 0, 0, 1, 0, 1, 0, 0, 0, 0, 1, 1, 1, 1, 1, 1, 0, 1, 0, 0, 0, 1, 0, 0, 0, 1, 1, 0, 1, 1, 1, 1, 1, 0, 0, 0, 1, 1, 0, 0, 1, 0, 1, 0, 1, 0, 1, 0, 0, 1, 0, 1, 0, 0, 0, 1, 0, 1, 1, 1, 0, 0, 1, 1, 1, 1, 1, 1, 0, 1, 0, 1, 1, 0, 1, 1, 1, 1, 1, 1, 1, 1, 0, 1, 0, 0, 1, 0, 0, 1, 1, 0, 1, 0, 1, 1, 0, 0, 1, 0, 0, 1, 0, 0, 0, 1, 1, 0, 1, 0, 0, 1, 1, 1, 1, 0, 1, 0, 0, 1, 0, 1, 0, 0, 1, 1, 1, 1, 1, 1, 1, 0, 0, 1, 0, 1, 0, 1, 1, 1, 0, 0, 0, 0, 1, 0, 0, 1, 1, 1, 1, 1, 0, 0, 1, 0, 0, 1, 1, 0, 1, 1, 1, 1, 1, 0, 1, 1, 1, 1, 1, 0, 0, 0, 0, 0, 1, 0, 1, 1, 0, 0, 1, 0, 0, 0, 1, 1, 1, 0, 1, 1, 0, 1, 1, 1, 0, 1, 0, 1, 1, 1, 0, 0, 0, 0, 0, 0, 0, 1, 0, 0, 1, 0, 1, 1, 1, 1, 0, 1, 0, 1, 0, 0, 1, 0, 1, 1, 1, 0, 1, 1, 0, 1, 0, 1, 0, 0, 0, 1, 0, 0, 0, 1, 0, 0, 1, 1, 0, 0, 0, 0, 0, 1, 0, 0, 0, 1, 0, 1, 0, 1, 0, 0, 0, 1, 1, 0, 1, 1, 1, 0, 0, 0, 1, 1, 1, 0, 0, 0, 0, 0, 1, 1, 0, 1, 0, 0, 0, 1, 0, 1, 0, 0, 0, 1, 0, 1, 1, 0, 1, 1, 0, 0, 0, 0, 0, 0, 1, 0, 1, 0, 0, 0]\n"
     ]
    }
   ],
   "source": [
    "true_labels=[]\n",
    "for label in y_test:\n",
    "    true_labels.append(np.argmax(label))\n",
    "print(true_labels)"
   ]
  },
  {
   "cell_type": "markdown",
   "id": "45ee6d19",
   "metadata": {
    "id": "45ee6d19"
   },
   "source": [
    "### Result Analysis"
   ]
  },
  {
   "cell_type": "markdown",
   "id": "b935db88",
   "metadata": {
    "id": "b935db88"
   },
   "source": [
    "***Accuracy Score***"
   ]
  },
  {
   "cell_type": "code",
   "execution_count": 31,
   "id": "022f4cc4",
   "metadata": {
    "colab": {
     "base_uri": "https://localhost:8080/"
    },
    "executionInfo": {
     "elapsed": 393,
     "status": "ok",
     "timestamp": 1700662014981,
     "user": {
      "displayName": "Pulavendran S",
      "userId": "09545379829326731753"
     },
     "user_tz": -330
    },
    "id": "022f4cc4",
    "outputId": "d43de8b6-c5b3-49ec-8c1e-c9b62c57aaff"
   },
   "outputs": [
    {
     "name": "stdout",
     "output_type": "stream",
     "text": [
      "Validation accuracy of GatedRecurrentUnit is 96.60%\n"
     ]
    }
   ],
   "source": [
    "gru_accuracy=accuracy_score(y_true=true_labels,y_pred=gru_pred)\n",
    "print(f\"Validation accuracy of GatedRecurrentUnit is {gru_accuracy*100.0:0.2f}%\")"
   ]
  },
  {
   "cell_type": "markdown",
   "id": "8691dca9",
   "metadata": {
    "id": "8691dca9"
   },
   "source": [
    "***Classification Report***"
   ]
  },
  {
   "cell_type": "code",
   "execution_count": 32,
   "id": "e0ea333f",
   "metadata": {
    "colab": {
     "base_uri": "https://localhost:8080/"
    },
    "executionInfo": {
     "elapsed": 412,
     "status": "ok",
     "timestamp": 1700662017326,
     "user": {
      "displayName": "Pulavendran S",
      "userId": "09545379829326731753"
     },
     "user_tz": -330
    },
    "id": "e0ea333f",
    "outputId": "1f25b7aa-38c4-42cc-a12d-3acb632b6264"
   },
   "outputs": [
    {
     "name": "stdout",
     "output_type": "stream",
     "text": [
      "              precision    recall  f1-score   support\n",
      "\n",
      "    negative       0.95      0.98      0.97      1000\n",
      "    positive       0.98      0.95      0.97      1000\n",
      "\n",
      "    accuracy                           0.97      2000\n",
      "   macro avg       0.97      0.97      0.97      2000\n",
      "weighted avg       0.97      0.97      0.97      2000\n",
      "\n"
     ]
    }
   ],
   "source": [
    "print(classification_report(y_true=true_labels,y_pred=gru_pred,target_names=class_labels))"
   ]
  },
  {
   "cell_type": "markdown",
   "id": "2495d4b6",
   "metadata": {
    "id": "2495d4b6"
   },
   "source": [
    "***Confusion Matrix***"
   ]
  },
  {
   "cell_type": "code",
   "execution_count": 33,
   "id": "eb69a152",
   "metadata": {
    "colab": {
     "base_uri": "https://localhost:8080/",
     "height": 468
    },
    "executionInfo": {
     "elapsed": 460,
     "status": "ok",
     "timestamp": 1700662034182,
     "user": {
      "displayName": "Pulavendran S",
      "userId": "09545379829326731753"
     },
     "user_tz": -330
    },
    "id": "eb69a152",
    "outputId": "6cb346bb-290f-4205-cc0f-0fb8cfc4056f"
   },
   "outputs": [
    {
     "data": {
      "image/png": "[encoded data removed]",
      "text/plain": [
       "<Figure size 500x500 with 1 Axes>"
      ]
     },
     "metadata": {},
     "output_type": "display_data"
    }
   ],
   "source": [
    "plt.figure(figsize=(5,5))\n",
    "sns.heatmap(data=confusion_matrix(y_true=true_labels,\n",
    "                                      y_pred=gru_pred),\n",
    "                                      annot=True,\n",
    "                                      cmap=plt.cm.Blues,\n",
    "                                      fmt = \"4d\",\n",
    "                                      xticklabels=class_labels,\n",
    "                                      yticklabels=class_labels,\n",
    "                                      cbar=False)\n",
    "plt.title(label=\"Confusion Matrix\")\n",
    "plt.show()"
   ]
  },
  {
   "cell_type": "code",
   "execution_count": 34,
   "id": "5931f307",
   "metadata": {
    "executionInfo": {
     "elapsed": 369,
     "status": "ok",
     "timestamp": 1700662036628,
     "user": {
      "displayName": "Pulavendran S",
      "userId": "09545379829326731753"
     },
     "user_tz": -330
    },
    "id": "5931f307"
   },
   "outputs": [],
   "source": [
    "model.save(\"models/GatedRecurrentUnit_model.h5\")"
   ]
  },
  {
   "cell_type": "markdown",
   "id": "5cdbc9ae",
   "metadata": {
    "id": "5cdbc9ae"
   },
   "source": [
    "# Thank You"
   ]
  }
 ],
 "metadata": {
  "accelerator": "GPU",
  "colab": {
   "gpuType": "T4",
   "provenance": []
  },
  "kernelspec": {
   "display_name": "Python 3 (ipykernel)",
   "language": "python",
   "name": "python3"
  },
  "language_info": {
   "codemirror_mode": {
    "name": "ipython",
    "version": 3
   },
   "file_extension": ".py",
   "mimetype": "text/x-python",
   "name": "python",
   "nbconvert_exporter": "python",
   "pygments_lexer": "ipython3",
   "version": "3.9.7"
  }
 },
 "nbformat": 4,
 "nbformat_minor": 5
}
